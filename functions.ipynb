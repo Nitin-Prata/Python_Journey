{
 "cells": [
  {
   "cell_type": "markdown",
   "id": "5cc0e288",
   "metadata": {},
   "source": [
    "### Let's create a function(with docstring)"
   ]
  },
  {
   "cell_type": "code",
   "execution_count": 11,
   "id": "0f0a6ef7",
   "metadata": {},
   "outputs": [],
   "source": [
    "def is_even(num):\n",
    "    '''\n",
    "    This function returns if a given number is odd or even\n",
    "    input - any valid integer\n",
    "    output - odd/eve\n",
    "    '''\n",
    "    if type(num) == int:\n",
    "        if num % 2 == 0:\n",
    "            return 'even'\n",
    "        else:\n",
    "            return 'odd'\n",
    "    else:\n",
    "        return 'pagal hai kya'\n"
   ]
  },
  {
   "cell_type": "code",
   "execution_count": 12,
   "id": "87cd6247",
   "metadata": {},
   "outputs": [
    {
     "name": "stdout",
     "output_type": "stream",
     "text": [
      "odd\n",
      "even\n",
      "odd\n",
      "even\n",
      "odd\n",
      "even\n",
      "odd\n",
      "even\n",
      "odd\n",
      "even\n"
     ]
    }
   ],
   "source": [
    "# FUNCTION\n",
    "# function_name(input)\n",
    "\n",
    "for i in range(1,11):\n",
    "    x = is_even(i)\n",
    "    print(x)"
   ]
  },
  {
   "cell_type": "code",
   "execution_count": 13,
   "id": "0311e476",
   "metadata": {},
   "outputs": [
    {
     "data": {
      "text/plain": [
       "'pagal hai kya'"
      ]
     },
     "execution_count": 13,
     "metadata": {},
     "output_type": "execute_result"
    }
   ],
   "source": [
    "is_even('hello')"
   ]
  },
  {
   "cell_type": "code",
   "execution_count": 24,
   "id": "33437695",
   "metadata": {},
   "outputs": [
    {
     "name": "stdout",
     "output_type": "stream",
     "text": [
      "\n",
      "    This function returns if a given number is odd or even\n",
      "    input - any valid integer\n",
      "    output - odd/eve\n",
      "    \n"
     ]
    }
   ],
   "source": [
    "print(is_even.__doc__)"
   ]
  },
  {
   "cell_type": "markdown",
   "id": "0c444ade",
   "metadata": {},
   "source": [
    "### point of views"
   ]
  },
  {
   "cell_type": "markdown",
   "id": "a6730c15",
   "metadata": {},
   "source": [
    "### Parameters Vs Arguments"
   ]
  },
  {
   "cell_type": "markdown",
   "id": "14ab1f29",
   "metadata": {},
   "source": [
    "### Types of Arguments\n",
    "### . Default Argument\n",
    "### . Positional Argument\n",
    "### . Keyword Argument"
   ]
  },
  {
   "cell_type": "code",
   "execution_count": 14,
   "id": "ebb16fcd",
   "metadata": {},
   "outputs": [],
   "source": [
    "def power(a=1,b=1):\n",
    "    return a**b"
   ]
  },
  {
   "cell_type": "code",
   "execution_count": 15,
   "id": "6174c2ec",
   "metadata": {},
   "outputs": [
    {
     "data": {
      "text/plain": [
       "1"
      ]
     },
     "execution_count": 15,
     "metadata": {},
     "output_type": "execute_result"
    }
   ],
   "source": [
    "power()"
   ]
  },
  {
   "cell_type": "code",
   "execution_count": 16,
   "id": "d9a025dd",
   "metadata": {},
   "outputs": [
    {
     "data": {
      "text/plain": [
       "8"
      ]
     },
     "execution_count": 16,
     "metadata": {},
     "output_type": "execute_result"
    }
   ],
   "source": [
    "# positional argument\n",
    "power(2,3)"
   ]
  },
  {
   "cell_type": "code",
   "execution_count": 17,
   "id": "95b79420",
   "metadata": {},
   "outputs": [
    {
     "data": {
      "text/plain": [
       "8"
      ]
     },
     "execution_count": 17,
     "metadata": {},
     "output_type": "execute_result"
    }
   ],
   "source": [
    "# keyword argument\n",
    "power(b=3,a=2)"
   ]
  },
  {
   "cell_type": "markdown",
   "id": "1dd82ccf",
   "metadata": {},
   "source": [
    "### *args and **kwargs\n",
    "*args and **kwargs are special python keywords that are used to pass the variable length of arguments to a function"
   ]
  },
  {
   "cell_type": "code",
   "execution_count": 23,
   "id": "739d49d4",
   "metadata": {},
   "outputs": [
    {
     "name": "stdout",
     "output_type": "stream",
     "text": [
      "(1, 2, 3, 4, 5, 6, 7)\n"
     ]
    },
    {
     "data": {
      "text/plain": [
       "5040"
      ]
     },
     "execution_count": 23,
     "metadata": {},
     "output_type": "execute_result"
    }
   ],
   "source": [
    "# *args\n",
    "# allows us to pass a variable number of non-keyword arguments to a function.\n",
    "\n",
    "def mul(*args):\n",
    "    product = 1\n",
    "\n",
    "    for i in args:\n",
    "        product = product * i\n",
    "    print(args)\n",
    "    return product\n",
    "\n",
    "mul(1,2,3,4,5,6,7)"
   ]
  },
  {
   "cell_type": "code",
   "execution_count": 25,
   "id": "11d9aed9",
   "metadata": {},
   "outputs": [],
   "source": [
    "# **kwargs\n",
    "# **kwargs allows us to pass any number of keyword arguments.\n",
    "# keyword arguments mean that they contain a key-value pair , like a python Dictionary\n",
    "\n",
    "def display(**kwargs):\n",
    "\n",
    "    for(key,value) in kwargs.items():\n",
    "        print(key,'->',value)"
   ]
  },
  {
   "cell_type": "code",
   "execution_count": 27,
   "id": "bef5306d",
   "metadata": {},
   "outputs": [
    {
     "name": "stdout",
     "output_type": "stream",
     "text": [
      "india -> delhi\n"
     ]
    }
   ],
   "source": [
    "display(india='delhi')"
   ]
  },
  {
   "cell_type": "markdown",
   "id": "03463eaa",
   "metadata": {},
   "source": [
    "### Points to remember while using *args and **kwargs\n",
    "### . order of the arguments matter(normal-> *args-> **kwargs)\n",
    "### . The words \"args\" and \"kwargs\" are only a convention, you can use any name of your choice"
   ]
  },
  {
   "cell_type": "markdown",
   "id": "390b4d2b",
   "metadata": {},
   "source": [
    "### how functions are executed in memory"
   ]
  },
  {
   "cell_type": "markdown",
   "id": "eedbd5b0",
   "metadata": {},
   "source": [
    "### Without return statement"
   ]
  },
  {
   "cell_type": "code",
   "execution_count": 29,
   "id": "6f026e99",
   "metadata": {},
   "outputs": [
    {
     "name": "stdout",
     "output_type": "stream",
     "text": [
      "None\n",
      "[1, 2, 3, 4]\n"
     ]
    }
   ],
   "source": [
    "L = [1,2,3]\n",
    "print(L.append(4))\n",
    "print(L)"
   ]
  },
  {
   "cell_type": "markdown",
   "id": "75732150",
   "metadata": {},
   "source": [
    "### Variable Scope"
   ]
  },
  {
   "cell_type": "code",
   "execution_count": 30,
   "id": "edda3f6c",
   "metadata": {},
   "outputs": [
    {
     "name": "stdout",
     "output_type": "stream",
     "text": [
      "5\n",
      "6\n",
      "5\n"
     ]
    }
   ],
   "source": [
    "def g(y):\n",
    "    print(x)\n",
    "    print(x+1)\n",
    "x = 5\n",
    "g(x)\n",
    "print(x)"
   ]
  },
  {
   "cell_type": "code",
   "execution_count": 31,
   "id": "1086204e",
   "metadata": {},
   "outputs": [
    {
     "name": "stdout",
     "output_type": "stream",
     "text": [
      "2\n",
      "5\n"
     ]
    }
   ],
   "source": [
    "def f(y):\n",
    "    x = 1\n",
    "    x += 1\n",
    "    print(x)\n",
    "x = 5\n",
    "f(x)\n",
    "print(x)"
   ]
  },
  {
   "cell_type": "code",
   "execution_count": 32,
   "id": "24634dd4",
   "metadata": {},
   "outputs": [
    {
     "ename": "UnboundLocalError",
     "evalue": "local variable 'x' referenced before assignment",
     "output_type": "error",
     "traceback": [
      "\u001b[1;31m---------------------------------------------------------------------------\u001b[0m",
      "\u001b[1;31mUnboundLocalError\u001b[0m                         Traceback (most recent call last)",
      "Cell \u001b[1;32mIn[32], line 4\u001b[0m\n\u001b[0;32m      2\u001b[0m     x \u001b[38;5;241m+\u001b[39m\u001b[38;5;241m=\u001b[39m \u001b[38;5;241m1\u001b[39m\n\u001b[0;32m      3\u001b[0m x \u001b[38;5;241m=\u001b[39m \u001b[38;5;241m5\u001b[39m\n\u001b[1;32m----> 4\u001b[0m \u001b[43mh\u001b[49m\u001b[43m(\u001b[49m\u001b[43mx\u001b[49m\u001b[43m)\u001b[49m\n\u001b[0;32m      5\u001b[0m \u001b[38;5;28mprint\u001b[39m(x)\n",
      "Cell \u001b[1;32mIn[32], line 2\u001b[0m, in \u001b[0;36mh\u001b[1;34m(y)\u001b[0m\n\u001b[0;32m      1\u001b[0m \u001b[38;5;28;01mdef\u001b[39;00m \u001b[38;5;21mh\u001b[39m(y):\n\u001b[1;32m----> 2\u001b[0m     x \u001b[38;5;241m+\u001b[39m\u001b[38;5;241m=\u001b[39m \u001b[38;5;241m1\u001b[39m\n",
      "\u001b[1;31mUnboundLocalError\u001b[0m: local variable 'x' referenced before assignment"
     ]
    }
   ],
   "source": [
    "def h(y):\n",
    "    x += 1\n",
    "x = 5\n",
    "h(x)\n",
    "print(x)"
   ]
  },
  {
   "cell_type": "code",
   "execution_count": 33,
   "id": "d37b20dd",
   "metadata": {},
   "outputs": [
    {
     "name": "stdout",
     "output_type": "stream",
     "text": [
      "in f(x): x = 4\n",
      "in main program scope: z= 4\n",
      "in main program scope: z= 3\n"
     ]
    }
   ],
   "source": [
    "def f(x):\n",
    "    x = x+1\n",
    "    print('in f(x): x =',x)\n",
    "    return x\n",
    "\n",
    "x = 3\n",
    "z = f(x)\n",
    "print('in main program scope: z=',z)\n",
    "print('in main program scope: z=',x)"
   ]
  },
  {
   "cell_type": "markdown",
   "id": "c45bb2ca",
   "metadata": {},
   "source": [
    "### Nested Functions"
   ]
  },
  {
   "cell_type": "code",
   "execution_count": 1,
   "id": "fe7c4539",
   "metadata": {},
   "outputs": [
    {
     "name": "stdout",
     "output_type": "stream",
     "text": [
      "inside function g\n",
      "inside function f\n"
     ]
    }
   ],
   "source": [
    "def f():\n",
    "    def g():\n",
    "        print('inside function g')\n",
    "    g()\n",
    "    print('inside function f')\n",
    "\n",
    "f()\n"
   ]
  },
  {
   "cell_type": "code",
   "execution_count": 5,
   "id": "4b6e2faf",
   "metadata": {},
   "outputs": [
    {
     "name": "stdout",
     "output_type": "stream",
     "text": [
      "in g(x): x = 4\n"
     ]
    }
   ],
   "source": [
    "def g(x):\n",
    "    def h():\n",
    "\n",
    "        x = 'abc'\n",
    "    x = x +1\n",
    "    print('in g(x): x =' , x)\n",
    "    h()\n",
    "    return x\n",
    "\n",
    "x = 3\n",
    "z = g(x)"
   ]
  },
  {
   "cell_type": "code",
   "execution_count": 7,
   "id": "52c9f6b7",
   "metadata": {},
   "outputs": [
    {
     "name": "stdout",
     "output_type": "stream",
     "text": [
      "in g(x): x =  4\n",
      "in h(x): x =  5\n",
      "in main program scope: x =  3\n",
      "in main program scope: z =  4\n"
     ]
    }
   ],
   "source": [
    "def g(x):\n",
    "    def h(x):\n",
    "        x = x+1\n",
    "        print('in h(x): x = ', x)\n",
    "    x = x + 1\n",
    "    print('in g(x): x = ',x)\n",
    "    h(x)\n",
    "    return x\n",
    "\n",
    "x = 3\n",
    "z = g(x)\n",
    "print('in main program scope: x = ', x)\n",
    "print('in main program scope: z = ', z)"
   ]
  },
  {
   "cell_type": "markdown",
   "id": "c01be6f0",
   "metadata": {},
   "source": [
    "### Functions are 1st class citizens"
   ]
  },
  {
   "cell_type": "code",
   "execution_count": 28,
   "id": "70e300d2",
   "metadata": {},
   "outputs": [
    {
     "data": {
      "text/plain": [
       "1973415529920"
      ]
     },
     "execution_count": 28,
     "metadata": {},
     "output_type": "execute_result"
    }
   ],
   "source": [
    "# type and id \n",
    "def square(num):\n",
    "    return num**2\n",
    "\n",
    "type(square)\n",
    "id(square)"
   ]
  },
  {
   "cell_type": "code",
   "execution_count": 29,
   "id": "6d54dcef",
   "metadata": {},
   "outputs": [
    {
     "data": {
      "text/plain": [
       "9"
      ]
     },
     "execution_count": 29,
     "metadata": {},
     "output_type": "execute_result"
    }
   ],
   "source": [
    "# reassing\n",
    "x = square\n",
    "x\n",
    "id(x)\n",
    "x(3)"
   ]
  },
  {
   "cell_type": "code",
   "execution_count": 25,
   "id": "f91194c4",
   "metadata": {},
   "outputs": [
    {
     "ename": "NameError",
     "evalue": "name 'square' is not defined",
     "output_type": "error",
     "traceback": [
      "\u001b[1;31m---------------------------------------------------------------------------\u001b[0m",
      "\u001b[1;31mNameError\u001b[0m                                 Traceback (most recent call last)",
      "Cell \u001b[1;32mIn[25], line 3\u001b[0m\n\u001b[0;32m      1\u001b[0m \u001b[38;5;66;03m# deleting a function\u001b[39;00m\n\u001b[0;32m      2\u001b[0m \u001b[38;5;28;01mdel\u001b[39;00m square\n\u001b[1;32m----> 3\u001b[0m \u001b[43msquare\u001b[49m(\u001b[38;5;241m3\u001b[39m)\n",
      "\u001b[1;31mNameError\u001b[0m: name 'square' is not defined"
     ]
    }
   ],
   "source": [
    "# deleting a function\n",
    "del square\n",
    "square(3)"
   ]
  },
  {
   "cell_type": "code",
   "execution_count": 31,
   "id": "d22e18e9",
   "metadata": {},
   "outputs": [
    {
     "data": {
      "text/plain": [
       "9"
      ]
     },
     "execution_count": 31,
     "metadata": {},
     "output_type": "execute_result"
    }
   ],
   "source": [
    "# storing\n",
    "L = [1,2,3,square]\n",
    "L[-1](3)"
   ]
  },
  {
   "cell_type": "code",
   "execution_count": 32,
   "id": "dd4d09de",
   "metadata": {},
   "outputs": [],
   "source": [
    "s = {square}"
   ]
  },
  {
   "cell_type": "code",
   "execution_count": null,
   "id": "39b99504",
   "metadata": {},
   "outputs": [],
   "source": [
    "# returning a function\n"
   ]
  },
  {
   "cell_type": "code",
   "execution_count": 33,
   "id": "dc6ccb5b",
   "metadata": {},
   "outputs": [
    {
     "name": "stdout",
     "output_type": "stream",
     "text": [
      "7\n"
     ]
    }
   ],
   "source": [
    "def f():\n",
    "    def x(a,b):\n",
    "        return a+b\n",
    "    return x\n",
    "\n",
    "val = f()(3,4)\n",
    "print(val)"
   ]
  },
  {
   "cell_type": "code",
   "execution_count": 1,
   "id": "4ba72d58",
   "metadata": {},
   "outputs": [],
   "source": [
    "# function as argument"
   ]
  },
  {
   "cell_type": "code",
   "execution_count": 2,
   "id": "ab3c314c",
   "metadata": {},
   "outputs": [
    {
     "name": "stdout",
     "output_type": "stream",
     "text": [
      "inside func_c\n",
      "inside func_a\n",
      "None\n"
     ]
    }
   ],
   "source": [
    "def func_a():\n",
    "    print('inside func_a')\n",
    "\n",
    "def func_b(z):\n",
    "    print('inside func_c')\n",
    "    return z()\n",
    "\n",
    "print(func_b(func_a))"
   ]
  },
  {
   "cell_type": "markdown",
   "id": "0ca85971",
   "metadata": {},
   "source": [
    "### Benefits of using a Function\n",
    "### .Code Modularity\n",
    "### .Code Readibility\n",
    "### .Code Reusability"
   ]
  },
  {
   "cell_type": "markdown",
   "id": "e4da2838",
   "metadata": {},
   "source": [
    "### Lambda Function\n",
    "A lambda function is a small anonymous function.\n",
    "\n",
    "A lambda function can take any number of arguments, but can only have one expression.\n",
    "\n",
    "![alt text](image.png)"
   ]
  },
  {
   "cell_type": "markdown",
   "id": "b406e42c",
   "metadata": {},
   "source": [
    "### Diff between lambda vs Normal Function\n",
    "### . No name\n",
    "### . lambda has no return value(infact,returns a function)\n",
    "### . lambda is written in 1 line\n",
    "### . not reusable\n",
    "### . Then why use lambda functions?\n",
    "### . They are used with HOF"
   ]
  },
  {
   "cell_type": "code",
   "execution_count": 3,
   "id": "e55c55d8",
   "metadata": {},
   "outputs": [
    {
     "data": {
      "text/plain": [
       "False"
      ]
     },
     "execution_count": 3,
     "metadata": {},
     "output_type": "execute_result"
    }
   ],
   "source": [
    "# check if a string has 'a'\n",
    "a = lambda s:'a' in s\n",
    "a('hello')"
   ]
  },
  {
   "cell_type": "code",
   "execution_count": 4,
   "id": "a803b888",
   "metadata": {},
   "outputs": [
    {
     "data": {
      "text/plain": [
       "'even'"
      ]
     },
     "execution_count": 4,
     "metadata": {},
     "output_type": "execute_result"
    }
   ],
   "source": [
    "# odd or even\n",
    "a = lambda x:'even' if x%2 == 0 else 'odd'\n",
    "a(6)"
   ]
  },
  {
   "cell_type": "markdown",
   "id": "97f7c088",
   "metadata": {},
   "source": [
    "### Higher Order Functions"
   ]
  },
  {
   "cell_type": "code",
   "execution_count": 5,
   "id": "c5064e15",
   "metadata": {},
   "outputs": [
    {
     "name": "stdout",
     "output_type": "stream",
     "text": [
      "[1, 8, 27, 64, 125]\n"
     ]
    }
   ],
   "source": [
    "# Example\n",
    "\n",
    "def square(x):\n",
    "  return x**2\n",
    "\n",
    "def cube(x):\n",
    "  return x**3\n",
    "\n",
    "# HOF\n",
    "def transform(f,L):\n",
    "  output = []\n",
    "  for i in L:\n",
    "    output.append(f(i))\n",
    "\n",
    "  print(output)\n",
    "\n",
    "L = [1,2,3,4,5]\n",
    "\n",
    "transform(lambda x:x**3,L)"
   ]
  },
  {
   "cell_type": "markdown",
   "id": "918432fd",
   "metadata": {},
   "source": [
    "### Map"
   ]
  },
  {
   "cell_type": "code",
   "execution_count": 6,
   "id": "0e86f762",
   "metadata": {},
   "outputs": [
    {
     "data": {
      "text/plain": [
       "[1, 4, 9, 16, 25]"
      ]
     },
     "execution_count": 6,
     "metadata": {},
     "output_type": "execute_result"
    }
   ],
   "source": [
    "# square the items of a list\n",
    "list(map(lambda x:x**2,[1,2,3,4,5]))"
   ]
  },
  {
   "cell_type": "code",
   "execution_count": 7,
   "id": "8c713f57",
   "metadata": {},
   "outputs": [
    {
     "data": {
      "text/plain": [
       "['odd', 'even', 'odd', 'even', 'odd']"
      ]
     },
     "execution_count": 7,
     "metadata": {},
     "output_type": "execute_result"
    }
   ],
   "source": [
    "# odd/even labelling of list items\n",
    "L = [1,2,3,4,5]\n",
    "list(map(lambda x:'even' if x%2 == 0 else 'odd',L))"
   ]
  },
  {
   "cell_type": "code",
   "execution_count": 8,
   "id": "54b54dff",
   "metadata": {},
   "outputs": [
    {
     "data": {
      "text/plain": [
       "['male', 'male', 'female']"
      ]
     },
     "execution_count": 8,
     "metadata": {},
     "output_type": "execute_result"
    }
   ],
   "source": [
    "# fetch names from a list of dict\n",
    "\n",
    "users = [\n",
    "    {\n",
    "        'name':'Rahul',\n",
    "        'age':45,\n",
    "        'gender':'male'\n",
    "    },\n",
    "    {\n",
    "        'name':'Nitish',\n",
    "        'age':33,\n",
    "        'gender':'male'\n",
    "    },\n",
    "    {\n",
    "        'name':'Ankita',\n",
    "        'age':50,\n",
    "        'gender':'female'\n",
    "    }\n",
    "]\n",
    "\n",
    "list(map(lambda users:users['gender'],users))"
   ]
  },
  {
   "cell_type": "markdown",
   "id": "fb98fdd8",
   "metadata": {},
   "source": [
    "### Filter"
   ]
  },
  {
   "cell_type": "code",
   "execution_count": 9,
   "id": "0fd4d319",
   "metadata": {},
   "outputs": [
    {
     "data": {
      "text/plain": [
       "[6, 7]"
      ]
     },
     "execution_count": 9,
     "metadata": {},
     "output_type": "execute_result"
    }
   ],
   "source": [
    "# numbers greater than 5\n",
    "L = [3,4,5,6,7]\n",
    "\n",
    "list(filter(lambda x:x>5,L))"
   ]
  },
  {
   "cell_type": "code",
   "execution_count": 10,
   "id": "3417468f",
   "metadata": {},
   "outputs": [
    {
     "data": {
      "text/plain": [
       "['apple']"
      ]
     },
     "execution_count": 10,
     "metadata": {},
     "output_type": "execute_result"
    }
   ],
   "source": [
    "# fetch fruits starting with 'a'\n",
    "fruits = ['apple','guava','cherry']\n",
    "\n",
    "list(filter(lambda x:x.startswith('a'),fruits))"
   ]
  },
  {
   "cell_type": "markdown",
   "id": "24c9134d",
   "metadata": {},
   "source": [
    "### Reduce"
   ]
  },
  {
   "cell_type": "code",
   "execution_count": 11,
   "id": "ba1dfb58",
   "metadata": {},
   "outputs": [
    {
     "data": {
      "text/plain": [
       "15"
      ]
     },
     "execution_count": 11,
     "metadata": {},
     "output_type": "execute_result"
    }
   ],
   "source": [
    "# sum of all item\n",
    "import functools\n",
    "\n",
    "functools.reduce(lambda x,y:x+y,[1,2,3,4,5])"
   ]
  },
  {
   "cell_type": "code",
   "execution_count": 12,
   "id": "69e10feb",
   "metadata": {},
   "outputs": [
    {
     "data": {
      "text/plain": [
       "45"
      ]
     },
     "execution_count": 12,
     "metadata": {},
     "output_type": "execute_result"
    }
   ],
   "source": [
    "# find min\n",
    "functools.reduce(lambda x,y:x if x>y else y,[23,11,45,10,1])"
   ]
  }
 ],
 "metadata": {
  "kernelspec": {
   "display_name": "Python 3",
   "language": "python",
   "name": "python3"
  },
  "language_info": {
   "codemirror_mode": {
    "name": "ipython",
    "version": 3
   },
   "file_extension": ".py",
   "mimetype": "text/x-python",
   "name": "python",
   "nbconvert_exporter": "python",
   "pygments_lexer": "ipython3",
   "version": "3.9.9"
  }
 },
 "nbformat": 4,
 "nbformat_minor": 5
}
