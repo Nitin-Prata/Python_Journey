{
 "cells": [
  {
   "cell_type": "markdown",
   "id": "f4d13b8f",
   "metadata": {},
   "source": [
    "### Some Theory\n",
    "\n",
    "Types of data used for I/O:\n",
    "\n",
    "- Text - '12345' as a sequence of unicode chars\n",
    "- Binary - 12345 as a sequence of bytes of its binary equivalent\n",
    "\n",
    "Hence there are 2 file types to deal with\n",
    "\n",
    "- Text files - All program files are text files\n",
    "- Binary Files - Images,music,video,exe files\n"
   ]
  },
  {
   "cell_type": "markdown",
   "id": "6bf2eae6",
   "metadata": {},
   "source": [
    "### How File I/O is done in most programming languages\n",
    "\n",
    "- Open a file\n",
    "- Read/Write data\n",
    "- Close the file\n"
   ]
  },
  {
   "cell_type": "markdown",
   "id": "5290a105",
   "metadata": {},
   "source": [
    "### Writing to a file\n"
   ]
  },
  {
   "cell_type": "code",
   "execution_count": null,
   "id": "7d36dc11",
   "metadata": {},
   "outputs": [],
   "source": [
    "# case 1 - if the file is not present\n",
    "f = open('sample.txt','w')\n",
    "f.write('hello world')\n",
    "f.close()\n",
    "# since file is closed hence this will not work\n",
    "f.write('hello')"
   ]
  },
  {
   "cell_type": "code",
   "execution_count": 108,
   "id": "297fed4c",
   "metadata": {},
   "outputs": [],
   "source": [
    "f = open('sample1.txt','w')\n",
    "f.write('I am Nitin')\n",
    "f.write('\\nCSE Student')\n",
    "f.close()"
   ]
  },
  {
   "cell_type": "code",
   "execution_count": 109,
   "id": "201d48f2",
   "metadata": {},
   "outputs": [],
   "source": [
    "# case-2 if the file is already present\n",
    "f = open('sample.txt','w')\n",
    "f.write('nitin')\n",
    "f.close()"
   ]
  },
  {
   "cell_type": "code",
   "execution_count": 110,
   "id": "bc3755db",
   "metadata": {},
   "outputs": [],
   "source": [
    "# how exactly open() works?"
   ]
  },
  {
   "cell_type": "code",
   "execution_count": 114,
   "id": "d5c3b6d4",
   "metadata": {},
   "outputs": [],
   "source": [
    "# Problem with w mode\n",
    "# introducing append mode\n",
    "f = open('sample1.txt','a')\n",
    "f.write('\\nI am fine')\n",
    "f.close()"
   ]
  },
  {
   "cell_type": "code",
   "execution_count": 116,
   "id": "31d48a1f",
   "metadata": {},
   "outputs": [],
   "source": [
    "# Write lines\n",
    "L = ['hello\\n','hi\\n','how are you\\n','I am fine']\n",
    "\n",
    "f = open('sample.txt','w')\n",
    "f.writelines(L)\n",
    "f.close()"
   ]
  },
  {
   "cell_type": "code",
   "execution_count": 119,
   "id": "9b59082b",
   "metadata": {},
   "outputs": [
    {
     "name": "stdout",
     "output_type": "stream",
     "text": [
      "hello\n",
      "hi\n",
      "how are you\n",
      "I am fine\n"
     ]
    }
   ],
   "source": [
    "# reading from files\n",
    "# -> using read()\n",
    "f = open('sample.txt','r')\n",
    "s = f.read()\n",
    "print(s)\n",
    "f.close()"
   ]
  },
  {
   "cell_type": "code",
   "execution_count": 120,
   "id": "017924f7",
   "metadata": {},
   "outputs": [
    {
     "name": "stdout",
     "output_type": "stream",
     "text": [
      "hello\n",
      "hi\n",
      "h\n"
     ]
    }
   ],
   "source": [
    "# reading upto n chars\n",
    "f = open('sample.txt','r')\n",
    "s = f.read(10)\n",
    "print(s)\n",
    "f.close()"
   ]
  },
  {
   "cell_type": "code",
   "execution_count": 123,
   "id": "2666e3f7",
   "metadata": {},
   "outputs": [
    {
     "name": "stdout",
     "output_type": "stream",
     "text": [
      "hello\n",
      "hi\n"
     ]
    }
   ],
   "source": [
    "# readline()  -> to read line by line \n",
    "f = open('sample.txt','r')\n",
    "print(f.readline(),end = '')\n",
    "print(f.readline(), end = '')\n",
    "f.close()"
   ]
  },
  {
   "cell_type": "code",
   "execution_count": null,
   "id": "e0e102cb",
   "metadata": {},
   "outputs": [
    {
     "name": "stdout",
     "output_type": "stream",
     "text": [
      "hello\n",
      "hi\n",
      "how are you\n",
      "I am fine"
     ]
    }
   ],
   "source": [
    "# reading entire using readline\n",
    "f = open('sample.txt','r')\n",
    "\n",
    "while True:\n",
    "    \n",
    "    data = f.readline()\n",
    "    if data == '':\n",
    "        break\n",
    "    else:\n",
    "        print(data,end='')\n",
    "\n",
    "f.close()"
   ]
  },
  {
   "cell_type": "markdown",
   "id": "9d53418e",
   "metadata": {},
   "source": [
    "### Using Context Manager (With)\n",
    "+ It's a good idea to close a file after usage as it will free up the resources\n",
    "+ If we dont close it, garbage collector would close it\n",
    "+ with keyword closes the file as soon as the usage is over"
   ]
  },
  {
   "cell_type": "code",
   "execution_count": 128,
   "id": "c64ac456",
   "metadata": {},
   "outputs": [],
   "source": [
    "# with\n",
    "with open('sample.txt','w') as f:\n",
    "    f.write('selmon bhai')"
   ]
  },
  {
   "cell_type": "code",
   "execution_count": 129,
   "id": "29a495e8",
   "metadata": {},
   "outputs": [
    {
     "name": "stdout",
     "output_type": "stream",
     "text": [
      "I am Nitin\n",
      "CSE Student\n",
      "I am fine\n"
     ]
    }
   ],
   "source": [
    "# try f.read() now\n",
    "with open('sample1.txt','r') as f:\n",
    "    print(f.read())"
   ]
  },
  {
   "cell_type": "code",
   "execution_count": 134,
   "id": "fc3a2ed0",
   "metadata": {},
   "outputs": [
    {
     "name": "stdout",
     "output_type": "stream",
     "text": [
      "selmon bha\n",
      "i\n"
     ]
    }
   ],
   "source": [
    "# moving within a file -> 10 char then 10 char\n",
    "with open('sample.txt','r') as f:\n",
    "    print(f.read(10))\n",
    "    print(f.read(10))"
   ]
  },
  {
   "cell_type": "code",
   "execution_count": 142,
   "id": "49cfe256",
   "metadata": {},
   "outputs": [],
   "source": [
    "# benefit? -> to load a big file in memory\n",
    "big_L = [ 'hello  world ' for i in range(10000)]\n",
    "\n",
    "with open('big.txt','w') as f:\n",
    "    f.writelines(big_L)"
   ]
  },
  {
   "cell_type": "code",
   "execution_count": 144,
   "id": "b05fa6df",
   "metadata": {},
   "outputs": [
    {
     "name": "stdout",
     "output_type": "stream",
     "text": [
      "ld hello  ***ello  worl***  world he***rld hello ***hello  wor***o  world h***orld hello*** hello  wo***lo  world ***world hell***d hello  w***llo  world*** world hel***ld hello  ***ello  worl***  world he***rld hello ***hello  wor***o  world h***orld hello*** hello  wo***lo  world ***world hell***d hello  w***llo  world*** world hel***ld hello  ***ello  worl***  world he***rld hello ***hello  wor***o  world h***orld hello*** hello  wo***lo  world ***world hell***d hello  w***llo  world*** world hel***ld hello  ***ello  worl***  world he***rld hello ***hello  wor***o  world h***orld hello*** hello  wo***lo  world ***world hell***d hello  w***llo  world*** world hel***ld hello  ***ello  worl***  world he***rld hello ***hello  wor***o  world h***orld hello*** hello  wo***lo  world ***world hell***d hello  w***llo  world*** world hel***ld hello  ***ello  worl***  world he***rld hello ***hello  wor***o  world h***orld hello*** hello  wo***lo  world ***world hell***d hello  w***llo  world*** world hel***ld hello  ***ello  worl***  world he***rld hello ***hello  wor***o  world h***orld hello*** hello  wo***lo  world ***world hell***d hello  w***llo  world*** world hel***ld hello  ***ello  worl***  world he***rld hello ***hello  wor***o  world h***orld hello*** hello  wo***lo  world ***world hell***d hello  w***llo  world*** world hel***ld hello  ***ello  worl***  world he***rld hello ***hello  wor***o  world h***orld hello*** hello  wo***lo  world ***world hell***d hello  w***llo  world*** world hel***ld hello  ***ello  worl***  world he***rld hello ***hello  wor***o  world h***orld hello*** hello  wo***lo  world ***world hell***d hello  w***llo  world*** world hel***ld hello  ***ello  worl***  world he***rld hello ***hello  wor***o  world h***orld hello*** hello  wo***lo  world ***world hell***d hello  w***llo  world*** world hel***ld hello  ***ello  worl***  world he***rld hello ***hello  wor***o  world h***orld hello*** hello  wo***lo  world ***world hell***d hello  w***llo  world*** world hel***ld hello  ***ello  worl***  world he***rld hello ***hello  wor***o  world h***orld hello*** hello  wo***lo  world ***world hell***d hello  w***llo  world*** world hel***ld hello  ***ello  worl***  world he***rld hello ***hello  wor***o  world h***orld hello*** hello  wo***lo  world ***world hell***d hello  w***llo  world*** world hel***ld hello  ***ello  worl***  world he***rld hello ***hello  wor***o  world h***orld hello*** hello  wo***lo  world ***world hell***d hello  w***llo  world*** world hel***ld hello  ***ello  worl***  world he***rld hello ***hello  wor***o  world h***orld hello*** hello  wo***lo  world ***world hell***d hello  w***llo  world*** world hel***ld hello  ***ello  worl***  world he***rld hello ***hello  wor***o  world h***orld hello*** hello  wo***lo  world ***world hell***d hello  w***llo  world*** world hel***ld hello  ***ello  worl***  world he***rld hello ***hello  wor***o  world h***orld hello*** hello  wo***lo  world ***world hell***d hello  w***llo  world*** world hel***ld hello  ***ello  worl***  world he***rld hello ***hello  wor***o  world h***orld hello*** hello  wo***lo  world ***world hell***d hello  w***llo  world*** world hel***ld hello  ***ello  worl***  world he***rld hello ***hello  wor***o  world h***orld hello*** hello  wo***lo  world ***world hell***d hello  w***llo  world*** world hel***ld hello  ***ello  worl***  world he***rld hello ***hello  wor***o  world h***orld hello*** hello  wo***lo  world ***world hell***d hello  w***llo  world*** world hel***ld hello  ***ello  worl***  world he***rld hello ***hello  wor***o  world h***orld hello*** hello  wo***lo  world ***world hell***d hello  w***llo  world*** world hel***ld hello  ***ello  worl***  world he***rld hello ***hello  wor***o  world h***orld hello*** hello  wo***lo  world ***world hell***d hello  w***llo  world*** world hel***ld hello  ***ello  worl***  world he***rld hello ***hello  wor***o  world h***orld hello*** hello  wo***lo  world ***world hell***d hello  w***llo  world*** world hel***ld hello  ***ello  worl***  world he***rld hello ***hello  wor***o  world h***orld hello*** hello  wo***lo  world ***world hell***d hello  w***llo  world*** world hel***ld hello  ***ello  worl***  world he***rld hello ***hello  wor***o  world h***orld hello*** hello  wo***lo  world ***world hell***d hello  w***llo  world*** world hel***ld hello  ***ello  worl***  world he***rld hello ***hello  wor***o  world h***orld hello*** hello  wo***lo  world ***world hell***d hello  w***llo  world*** world hel***ld hello  ***ello  worl***  world he***rld hello ***hello  wor***o  world h***orld hello*** hello  wo***lo  world ***world hell***d hello  w***llo  world*** world hel***ld hello  ***ello  worl***  world he***rld hello ***hello  wor***o  world h***orld hello*** hello  wo***lo  world ***world hell***d hello  w***llo  world*** world hel***ld hello  ***ello  worl***  world he***rld hello ***hello  wor***o  world h***orld hello*** hello  wo***lo  world ***world hell***d hello  w***llo  world*** world hel***ld hello  ***ello  worl***  world he***rld hello ***hello  wor***o  world h***orld hello*** hello  wo***lo  world ***world hell***d hello  w***llo  world*** world hel***ld hello  ***ello  worl***  world he***rld hello ***hello  wor***o  world h***orld hello*** hello  wo***lo  world ***world hell***d hello  w***llo  world*** world hel***ld hello  ***ello  worl***  world he***rld hello ***hello  wor***o  world h***orld hello*** hello  wo***lo  world ***world hell***d hello  w***llo  world*** world hel***ld hello  ***ello  worl***  world he***rld hello ***hello  wor***o  world h***orld hello*** hello  wo***lo  world ***world hell***d hello  w***llo  world*** world hel***ld hello  ***ello  worl***  world he***rld hello ***hello  wor***o  world h***orld hello*** hello  wo***lo  world ***world hell***d hello  w***llo  world*** world hel***ld hello  ***ello  worl***  world he***rld hello ***hello  wor***o  world h***orld hello*** hello  wo***lo  world ***world hell***d hello  w***llo  world*** world hel***ld hello  ***ello  worl***  world he***rld hello ***hello  wor***o  world h***orld hello*** hello  wo***lo  world ***world hell***d hello  w***llo  world*** world hel***ld hello  ***ello  worl***  world he***rld hello ***hello  wor***o  world h***orld hello*** hello  wo***lo  world ***world hell***d hello  w***llo  world*** world hel***ld hello  ***ello  worl***  world he***rld hello ***hello  wor***o  world h***orld hello*** hello  wo***lo  world ***world hell***d hello  w***llo  world*** world hel***ld hello  ***ello  worl***  world he***rld hello ***hello  wor***o  world h***orld hello*** hello  wo***lo  world ***world hell***d hello  w***llo  world*** world hel***ld hello  ***ello  worl***  world he***rld hello ***hello  wor***o  world h***orld hello*** hello  wo***lo  world ***world hell***d hello  w***llo  world*** world hel***ld hello  ***ello  worl***  world he***rld hello ***hello  wor***o  world h***orld hello*** hello  wo***lo  world ***world hell***d hello  w***llo  world*** world hel***ld hello  ***ello  worl***  world he***rld hello ***hello  wor***o  world h***orld hello*** hello  wo***lo  world ***world hell***d hello  w***llo  world*** world hel***ld hello  ***ello  worl***  world he***rld hello ***hello  wor***o  world h***orld hello*** hello  wo***lo  world ***world hell***d hello  w***llo  world*** world hel***ld hello  ***ello  worl***  world he***rld hello ***hello  wor***o  world h***orld hello*** hello  wo***lo  world ***world hell***d hello  w***llo  world*** world hel***ld hello  ***ello  worl***  world he***rld hello ***hello  wor***o  world h***orld hello*** hello  wo***lo  world ***world hell***d hello  w***llo  world*** world hel***ld hello  ***ello  worl***  world he***rld hello ***hello  wor***o  world h***orld hello*** hello  wo***lo  world ***world hell***d hello  w***llo  world*** world hel***ld hello  ***ello  worl***  world he***rld hello ***hello  wor***o  world h***orld hello*** hello  wo***lo  world ***world hell***d hello  w***llo  world*** world hel***ld hello  ***ello  worl***  world he***rld hello ***hello  wor***o  world h***orld hello*** hello  wo***lo  world ***world hell***d hello  w***llo  world*** world hel***ld hello  ***ello  worl***  world he***rld hello ***hello  wor***o  world h***orld hello*** hello  wo***lo  world ***world hell***d hello  w***llo  world*** world hel***ld hello  ***ello  worl***  world he***rld hello ***hello  wor***o  world h***orld hello*** hello  wo***lo  world ***world hell***d hello  w***llo  world*** world hel***ld hello  ***ello  worl***  world he***rld hello ***hello  wor***o  world h***orld hello*** hello  wo***lo  world ***world hell***d hello  w***llo  world*** world hel***ld hello  ***ello  worl***  world he***rld hello ***hello  wor***o  world h***orld hello*** hello  wo***lo  world ***world hell***d hello  w***llo  world*** world hel***ld hello  ***ello  worl***  world he***rld hello ***hello  wor***o  world h***orld hello*** hello  wo***lo  world ***world hell***d hello  w***llo  world*** world hel***ld hello  ***ello  worl***  world he***rld hello ***hello  wor***o  world h***orld hello*** hello  wo***lo  world ***world hell***d hello  w***llo  world*** world hel***ld hello  ***ello  worl***  world he***rld hello ***hello  wor***o  world h***orld hello*** hello  wo***lo  world ***world hell***d hello  w***llo  world*** world hel***ld hello  ***ello  worl***  world he***rld hello ***hello  wor***o  world h***orld hello*** hello  wo***lo  world ***world hell***d hello  w***llo  world*** world hel***ld hello  ***ello  worl***  world he***rld hello ***hello  wor***o  world h***orld hello*** hello  wo***lo  world ***world hell***d hello  w***llo  world*** world hel***ld hello  ***ello  worl***  world he***rld hello ***hello  wor***o  world h***orld hello*** hello  wo***lo  world ***world hell***d hello  w***llo  world*** world hel***ld hello  ***ello  worl***  world he***rld hello ***hello  wor***o  world h***orld hello*** hello  wo***lo  world ***world hell***d hello  w***llo  world*** world hel***ld hello  ***ello  worl***  world he***rld hello ***hello  wor***o  world h***orld hello*** hello  wo***lo  world ***world hell***d hello  w***llo  world*** world hel***ld hello  ***ello  worl***  world he***rld hello ***hello  wor***o  world h***orld hello*** hello  wo***lo  world ***world hell***d hello  w***llo  world*** world hel***ld hello  ***ello  worl***  world he***rld hello ***hello  wor***o  world h***orld hello*** hello  wo***lo  world ***world hell***d hello  w***llo  world*** world hel***ld hello  ***ello  worl***  world he***rld hello ***hello  wor***o  world h***orld hello*** hello  wo***lo  world ***world hell***d hello  w***llo  world*** world hel***ld hello  ***ello  worl***  world he***rld hello ***hello  wor***o  world h***orld hello*** hello  wo***lo  world ***world hell***d hello  w***llo  world*** world hel***ld hello  ***ello  worl***  world he***rld hello ***hello  wor***o  world h***orld hello*** hello  wo***lo  world ***world hell***d hello  w***llo  world*** world hel***ld hello  ***ello  worl***  world he***rld hello ***hello  wor***o  world h***orld hello*** hello  wo***lo  world ***world hell***d hello  w***llo  world*** world hel***ld hello  ***ello  worl***  world he***rld hello ***hello  wor***o  world h***orld hello*** hello  wo***lo  world ***world hell***d hello  w***llo  world*** world hel***ld hello  ***ello  worl***  world he***rld hello ***hello  wor***o  world h***orld hello*** hello  wo***lo  world ***world hell***d hello  w***llo  world*** world hel***ld hello  ***ello  worl***  world he***rld hello ***hello  wor***o  world h***orld hello*** hello  wo***lo  world ***world hell***d hello  w***llo  world*** world hel***ld hello  ***ello  worl***  world he***rld hello ***hello  wor***o  world h***orld hello*** hello  wo***lo  world ***world hell***d hello  w***llo  world*** world hel***ld hello  ***ello  worl***  world he***rld hello ***hello  wor***o  world h***orld hello*** hello  wo***lo  world ***world hell***d hello  w***llo  world*** world hel***ld hello  ***ello  worl***  world he***rld hello ***hello  wor***o  world h***orld hello*** hello  wo***lo  world ***world hell***d hello  w***llo  world*** world hel***ld hello  ***ello  worl***  world he***rld hello ***hello  wor***o  world h***orld hello*** hello  wo***lo  world ***world hell***d hello  w***llo  world*** world hel***ld hello  ***ello  worl***  world he***rld hello ***hello  wor***o  world h***orld hello*** hello  wo***lo  world ***world hell***d hello  w***llo  world*** world hel***ld hello  ***ello  worl***  world he***rld hello ***hello  wor***o  world h***orld hello*** hello  wo***lo  world ***world hell***d hello  w***llo  world*** world hel***ld hello  ***ello  worl***  world he***rld hello ***hello  wor***o  world h***orld hello*** hello  wo***lo  world ***world hell***d hello  w***llo  world*** world hel***ld hello  ***ello  worl***  world he***rld hello ***hello  wor***o  world h***orld hello*** hello  wo***lo  world ***world hell***d hello  w***llo  world*** world hel***ld hello  ***ello  worl***  world he***rld hello ***hello  wor***o  world h***orld hello*** hello  wo***lo  world ***world hell***d hello  w***llo  world*** world hel***ld hello  ***ello  worl***  world he***rld hello ***hello  wor***o  world h***orld hello*** hello  wo***lo  world ***world hell***d hello  w***llo  world*** world hel***ld hello  ***ello  worl***  world he***rld hello ***hello  wor***o  world h***orld hello*** hello  wo***lo  world ***world hell***d hello  w***llo  world*** world hel***ld hello  ***ello  worl***  world he***rld hello ***hello  wor***o  world h***orld hello*** hello  wo***lo  world ***world hell***d hello  w***llo  world*** world hel***ld hello  ***ello  worl***  world he***rld hello ***hello  wor***o  world h***orld hello*** hello  wo***lo  world ***world hell***d hello  w***llo  world*** world hel***ld hello  ***ello  worl***  world he***rld hello ***hello  wor***o  world h***orld hello*** hello  wo***lo  world ***world hell***d hello  w***llo  world*** world hel***ld hello  ***ello  worl***  world he***rld hello ***hello  wor***o  world h***orld hello*** hello  wo***lo  world ***world hell***d hello  w***llo  world*** world hel***ld hello  ***ello  worl***  world he***rld hello ***hello  wor***o  world h***orld hello*** hello  wo***lo  world ***world hell***d hello  w***llo  world*** world hel***ld hello  ***ello  worl***  world he***rld hello ***hello  wor***o  world h***orld hello*** hello  wo***lo  world ***world hell***d hello  w***llo  world*** world hel***ld hello  ***ello  worl***  world he***rld hello ***hello  wor***o  world h***orld hello*** hello  wo***lo  world ***world hell***d hello  w***llo  world*** world hel***ld hello  ***ello  worl***  world he***rld hello ***hello  wor***o  world h***orld hello*** hello  wo***lo  world ***world hell***d hello  w***llo  world*** world hel***ld hello  ***ello  worl***  world he***rld hello ***hello  wor***o  world h***orld hello*** hello  wo***lo  world ***world hell***d hello  w***llo  world*** world hel***ld hello  ***ello  worl***  world he***rld hello ***hello  wor***o  world h***orld hello*** hello  wo***lo  world ***world hell***d hello  w***llo  world*** world hel***ld hello  ***ello  worl***  world he***rld hello ***hello  wor***o  world h***orld hello*** hello  wo***lo  world ***world hell***d hello  w***llo  world*** world hel***ld hello  ***ello  worl***  world he***rld hello ***hello  wor***o  world h***orld hello*** hello  wo***lo  world ***world hell***d hello  w***llo  world*** world hel***ld hello  ***ello  worl***  world he***rld hello ***hello  wor***o  world h***orld hello*** hello  wo***lo  world ***world hell***d hello  w***llo  world*** world hel***ld hello  ***ello  worl***  world he***rld hello ***hello  wor***o  world h***orld hello*** hello  wo***lo  world ***world hell***d hello  w***llo  world*** world hel***ld hello  ***ello  worl***  world he***rld hello ***hello  wor***o  world h***orld hello*** hello  wo***lo  world ***world hell***d hello  w***llo  world*** world hel***ld hello  ***ello  worl***  world he***rld hello ***hello  wor***o  world h***orld hello*** hello  wo***lo  world ***world hell***d hello  w***llo  world*** world hel***ld hello  ***ello  worl***  world he***rld hello ***hello  wor***o  world h***orld hello*** hello  wo***lo  world ***world hell***d hello  w***llo  world*** world hel***ld hello  ***ello  worl***  world he***rld hello ***hello  wor***o  world h***orld hello*** hello  wo***lo  world ***world hell***d hello  w***llo  world*** world hel***ld hello  ***ello  worl***  world he***rld hello ***hello  wor***o  world h***orld hello*** hello  wo***lo  world ***world hell***d hello  w***llo  world*** world hel***ld hello  ***ello  worl***  world he***rld hello ***hello  wor***o  world h***orld hello*** hello  wo***lo  world ***world hell***d hello  w***llo  world*** world hel***ld hello  ***ello  worl***  world he***rld hello ***hello  wor***o  world h***orld hello*** hello  wo***lo  world ***world hell***d hello  w***llo  world*** world hel***ld hello  ***ello  worl***  world he***rld hello ***hello  wor***o  world h***orld hello*** hello  wo***lo  world ***world hell***d hello  w***llo  world*** world hel***ld hello  ***ello  worl***  world he***rld hello ***hello  wor***o  world h***orld hello*** hello  wo***lo  world ***world hell***d hello  w***llo  world*** world hel***ld hello  ***ello  worl***  world he***rld hello ***hello  wor***o  world h***orld hello*** hello  wo***lo  world ***world hell***d hello  w***llo  world*** world hel***ld hello  ***ello  worl***  world he***rld hello ***hello  wor***o  world h***orld hello*** hello  wo***lo  world ***world hell***d hello  w***llo  world*** world hel***ld hello  ***ello  worl***  world he***rld hello ***hello  wor***o  world h***orld hello*** hello  wo***lo  world ***world hell***d hello  w***llo  world*** world hel***ld hello  ***ello  worl***  world he***rld hello ***hello  wor***o  world h***orld hello*** hello  wo***lo  world ***world hell***d hello  w***llo  world*** world hel***ld hello  ***ello  worl***  world he***rld hello ***hello  wor***o  world h***orld hello*** hello  wo***lo  world ***world hell***d hello  w***llo  world*** world hel***ld hello  ***ello  worl***  world he***rld hello ***hello  wor***o  world h***orld hello*** hello  wo***lo  world ***world hell***d hello  w***llo  world*** world hel***ld hello  ***ello  worl***  world he***rld hello ***hello  wor***o  world h***orld hello*** hello  wo***lo  world ***world hell***d hello  w***llo  world*** world hel***ld hello  ***ello  worl***  world he***rld hello ***hello  wor***o  world h***orld hello*** hello  wo***lo  world ***world hell***d hello  w***llo  world*** world hel***ld hello  ***ello  worl***  world he***rld hello ***hello  wor***o  world h***orld hello*** hello  wo***lo  world ***world hell***d hello  w***llo  world*** world hel***ld hello  ***ello  worl***  world he***rld hello ***hello  wor***o  world h***orld hello*** hello  wo***lo  world ***world hell***d hello  w***llo  world*** world hel***ld hello  ***ello  worl***  world he***rld hello ***hello  wor***o  world h***orld hello*** hello  wo***lo  world ***world hell***d hello  w***llo  world*** world hel***ld hello  ***ello  worl***  world he***rld hello ***hello  wor***o  world h***orld hello*** hello  wo***lo  world ***world hell***d hello  w***llo  world*** world hel***ld hello  ***ello  worl***  world he***rld hello ***hello  wor***o  world h***orld hello*** hello  wo***lo  world ***world hell***d hello  w***llo  world*** world hel***ld hello  ***ello  worl***  world he***rld hello ***hello  wor***o  world h***orld hello*** hello  wo***lo  world ***world hell***d hello  w***llo  world*** world hel***ld hello  ***ello  worl***  world he***rld hello ***hello  wor***o  world h***orld hello*** hello  wo***lo  world ***world hell***d hello  w***llo  world*** world hel***ld hello  ***ello  worl***  world he***rld hello ***hello  wor***o  world h***orld hello*** hello  wo***lo  world ***world hell***d hello  w***llo  world*** world hel***ld hello  ***ello  worl***  world he***rld hello ***hello  wor***o  world h***orld hello*** hello  wo***lo  world ***world hell***d hello  w***llo  world*** world hel***ld hello  ***ello  worl***  world he***rld hello ***hello  wor***o  world h***orld hello*** hello  wo***lo  world ***world hell***d hello  w***llo  world*** world hel***ld hello  ***ello  worl***  world he***rld hello ***hello  wor***o  world h***orld hello*** hello  wo***lo  world ***world hell***d hello  w***llo  world*** world hel***ld hello  ***ello  worl***  world he***rld hello ***hello  wor***o  world h***orld hello*** hello  wo***lo  world ***world hell***d hello  w***llo  world*** world hel***ld hello  ***ello  worl***  world he***rld hello ***hello  wor***o  world h***orld hello*** hello  wo***lo  world ***world hell***d hello  w***llo  world*** world hel***ld hello  ***ello  worl***  world he***rld hello ***hello  wor***o  world h***orld hello*** hello  wo***lo  world ***world hell***d hello  w***llo  world*** world hel***ld hello  ***ello  worl***  world he***rld hello ***hello  wor***o  world h***orld hello*** hello  wo***lo  world ***world hell***d hello  w***llo  world*** world hel***ld hello  ***ello  worl***  world he***rld hello ***hello  wor***o  world h***orld hello*** hello  wo***lo  world ***world hell***d hello  w***llo  world*** world hel***ld hello  ***ello  worl***  world he***rld hello ***hello  wor***o  world h***orld hello*** hello  wo***lo  world ***world hell***d hello  w***llo  world*** world hel***ld hello  ***ello  worl***  world he***rld hello ***hello  wor***o  world h***orld hello*** hello  wo***lo  world ***world hell***d hello  w***llo  world*** world hel***ld hello  ***ello  worl***  world he***rld hello ***hello  wor***o  world h***orld hello*** hello  wo***lo  world ***world hell***d hello  w***llo  world*** world hel***ld hello  ***ello  worl***  world he***rld hello ***hello  wor***o  world h***orld hello*** hello  wo***lo  world ***world hell***d hello  w***llo  world*** world hel***ld hello  ***ello  worl***  world he***rld hello ***hello  wor***o  world h***orld hello*** hello  wo***lo  world ***world hell***d hello  w***llo  world*** world hel***ld hello  ***ello  worl***  world he***rld hello ***hello  wor***o  world h***orld hello*** hello  wo***lo  world ***world hell***d hello  w***llo  world*** world hel***ld hello  ***ello  worl***  world he***rld hello ***hello  wor***o  world h***orld hello*** hello  wo***lo  world ***world hell***d hello  w***llo  world*** world hel***ld hello  ***ello  worl***  world he***rld hello ***hello  wor***o  world h***orld hello*** hello  wo***lo  world ***world hell***d hello  w***llo  world*** world hel***ld hello  ***ello  worl***  world he***rld hello ***hello  wor***o  world h***orld hello*** hello  wo***lo  world ***world hell***d hello  w***llo  world*** world hel***ld hello  ***ello  worl***  world he***rld hello ***hello  wor***o  world h***orld hello*** hello  wo***lo  world ***world hell***d hello  w***llo  world*** world hel***ld hello  ***ello  worl***  world he***rld hello ***hello  wor***o  world h***orld hello*** hello  wo***lo  world ***world hell***d hello  w***llo  world*** world hel***ld hello  ***ello  worl***  world he***rld hello ***hello  wor***o  world h***orld hello*** hello  wo***lo  world ***world hell***d hello  w***llo  world*** world hel***ld hello  ***ello  worl***  world he***rld hello ***hello  wor***o  world h***orld hello*** hello  wo***lo  world ***world hell***d hello  w***llo  world*** world hel***ld hello  ***ello  worl***  world he***rld hello ***hello  wor***o  world h***orld hello*** hello  wo***lo  world ***world hell***d hello  w***llo  world*** world hel***ld hello  ***ello  worl***  world he***rld hello ***hello  wor***o  world h***orld hello*** hello  wo***lo  world ***world hell***d hello  w***llo  world*** world hel***ld hello  ***ello  worl***  world he***rld hello ***hello  wor***o  world h***orld hello*** hello  wo***lo  world ***world hell***d hello  w***llo  world*** world hel***ld hello  ***ello  worl***  world he***rld hello ***hello  wor***o  world h***orld hello*** hello  wo***lo  world ***world hell***d hello  w***llo  world*** world hel***ld hello  ***ello  worl***  world he***rld hello ***hello  wor***o  world h***orld hello*** hello  wo***lo  world ***world hell***d hello  w***llo  world*** world hel***ld hello  ***ello  worl***  world he***rld hello ***hello  wor***o  world h***orld hello*** hello  wo***lo  world ***world hell***d hello  w***llo  world*** world hel***ld hello  ***ello  worl***  world he***rld hello ***hello  wor***o  world h***orld hello*** hello  wo***lo  world ***world hell***d hello  w***llo  world*** world hel***ld hello  ***ello  worl***  world he***rld hello ***hello  wor***o  world h***orld hello*** hello  wo***lo  world ***world hell***d hello  w***llo  world*** world hel***ld hello  ***ello  worl***  world he***rld hello ***hello  wor***o  world h***orld hello*** hello  wo***lo  world ***world hell***d hello  w***llo  world*** world hel***ld hello  ***ello  worl***  world he***rld hello ***hello  wor***o  world h***orld hello*** hello  wo***lo  world ***world hell***d hello  w***llo  world*** world hel***ld hello  ***ello  worl***  world he***rld hello ***hello  wor***o  world h***orld hello*** hello  wo***lo  world ***world hell***d hello  w***llo  world*** world hel***ld hello  ***ello  worl***  world he***rld hello ***hello  wor***o  world h***orld hello*** hello  wo***lo  world ***world hell***d hello  w***llo  world*** world hel***ld hello  ***ello  worl***  world he***rld hello ***hello  wor***o  world h***orld hello*** hello  wo***lo  world ***world hell***d hello  w***llo  world*** world hel***ld hello  ***ello  worl***  world he***rld hello ***hello  wor***o  world h***orld hello*** hello  wo***lo  world ***world hell***d hello  w***llo  world*** world hel***ld hello  ***ello  worl***  world he***rld hello ***hello  wor***o  world h***orld hello*** hello  wo***lo  world ***world hell***d hello  w***llo  world*** world hel***ld hello  ***ello  worl***  world he***rld hello ***hello  wor***o  world h***orld hello*** hello  wo***lo  world ***world hell***d hello  w***llo  world*** world hel***ld hello  ***ello  worl***  world he***rld hello ***hello  wor***o  world h***orld hello*** hello  wo***lo  world ***world hell***d hello  w***llo  world*** world hel***ld hello  ***ello  worl***  world he***rld hello ***hello  wor***o  world h***orld hello*** hello  wo***lo  world ***world hell***d hello  w***llo  world*** world hel***ld hello  ***ello  worl***  world he***rld hello ***hello  wor***o  world h***orld hello*** hello  wo***lo  world ***world hell***d hello  w***llo  world*** world hel***ld hello  ***ello  worl***  world he***rld hello ***hello  wor***o  world h***orld hello*** hello  wo***lo  world ***world hell***d hello  w***llo  world*** world hel***ld hello  ***ello  worl***  world he***rld hello ***hello  wor***o  world h***orld hello*** hello  wo***lo  world ***world hell***d hello  w***llo  world*** world hel***ld hello  ***ello  worl***  world he***rld hello ***hello  wor***o  world h***orld hello*** hello  wo***lo  world ***world hell***d hello  w***llo  world*** world hel***ld hello  ***ello  worl***  world he***rld hello ***hello  wor***o  world h***orld hello*** hello  wo***lo  world ***world hell***d hello  w***llo  world*** world hel***ld hello  ***ello  worl***  world he***rld hello ***hello  wor***o  world h***orld hello*** hello  wo***lo  world ***world hell***d hello  w***llo  world*** world hel***ld hello  ***ello  worl***  world he***rld hello ***hello  wor***o  world h***orld hello*** hello  wo***lo  world ***world hell***d hello  w***llo  world*** world hel***ld hello  ***ello  worl***  world he***rld hello ***hello  wor***o  world h***orld hello*** hello  wo***lo  world ***world hell***d hello  w***llo  world*** world hel***ld hello  ***ello  worl***  world he***rld hello ***hello  wor***o  world h***orld hello*** hello  wo***lo  world ***world hell***d hello  w***llo  world*** world hel***ld hello  ***ello  worl***  world he***rld hello ***hello  wor***o  world h***orld hello*** hello  wo***lo  world ***world hell***d hello  w***llo  world*** world hel***ld hello  ***ello  worl***  world he***rld hello ***hello  wor***o  world h***orld hello*** hello  wo***lo  world ***world hell***d hello  w***llo  world*** world hel***ld hello  ***ello  worl***  world he***rld hello ***hello  wor***o  world h***orld hello*** hello  wo***lo  world ***world hell***d hello  w***llo  world*** world hel***ld hello  ***ello  worl***  world he***rld hello ***hello  wor***o  world h***orld hello*** hello  wo***lo  world ***world hell***d hello  w***llo  world*** world hel***ld hello  ***ello  worl***  world he***rld hello ***hello  wor***o  world h***orld hello*** hello  wo***lo  world ***world hell***d hello  w***llo  world*** world hel***ld hello  ***ello  worl***  world he***rld hello ***hello  wor***o  world h***orld hello*** hello  wo***lo  world ***world hell***d hello  w***llo  world*** world hel***ld hello  ***ello  worl***  world he***rld hello ***hello  wor***o  world h***orld hello*** hello  wo***lo  world ***world hell***d hello  w***llo  world*** world hel***ld hello  ***ello  worl***  world he***rld hello ***hello  wor***o  world h***orld hello*** hello  wo***lo  world ***world hell***d hello  w***llo  world*** world hel***ld hello  ***ello  worl***  world he***rld hello ***hello  wor***o  world h***orld hello*** hello  wo***lo  world ***world hell***d hello  w***llo  world*** world hel***ld hello  ***ello  worl***  world he***rld hello ***hello  wor***o  world h***orld hello*** hello  wo***lo  world ***world hell***d hello  w***llo  world*** world hel***ld hello  ***ello  worl***  world he***rld hello ***hello  wor***o  world h***orld hello*** hello  wo***lo  world ***world hell***d hello  w***llo  world*** world hel***ld hello  ***ello  worl***  world he***rld hello ***hello  wor***o  world h***orld hello*** hello  wo***lo  world ***world hell***d hello  w***llo  world*** world hel***ld hello  ***ello  worl***  world he***rld hello ***hello  wor***o  world h***orld hello*** hello  wo***lo  world ***world hell***d hello  w***llo  world*** world hel***ld hello  ***ello  worl***  world he***rld hello ***hello  wor***o  world h***orld hello*** hello  wo***lo  world ***world hell***d hello  w***llo  world*** world hel***ld hello  ***ello  worl***  world he***rld hello ***hello  wor***o  world h***orld hello*** hello  wo***lo  world ***world hell***d hello  w***llo  world*** world hel***ld hello  ***ello  worl***  world he***rld hello ***hello  wor***o  world h***orld hello*** hello  wo***lo  world ***world hell***d hello  w***llo  world*** world hel***ld hello  ***ello  worl***  world he***rld hello ***hello  wor***o  world h***orld hello*** hello  wo***lo  world ***world hell***d hello  w***llo  world*** world hel***ld hello  ***ello  worl***  world he***rld hello ***hello  wor***o  world h***orld hello*** hello  wo***lo  world ***world hell***d hello  w***llo  world*** world hel***ld hello  ***ello  worl***  world he***rld hello ***hello  wor***o  world h***orld hello*** hello  wo***lo  world ***world hell***d hello  w***llo  world*** world hel***ld hello  ***ello  worl***  world he***rld hello ***hello  wor***o  world h***orld hello*** hello  wo***lo  world ***world hell***d hello  w***llo  world*** world hel***ld hello  ***ello  worl***  world he***rld hello ***hello  wor***o  world h***orld hello*** hello  wo***lo  world ***world hell***d hello  w***llo  world*** world hel***ld hello  ***ello  worl***  world he***rld hello ***hello  wor***o  world h***orld hello*** hello  wo***lo  world ***world hell***d hello  w***llo  world*** world hel***ld hello  ***ello  worl***  world he***rld hello ***hello  wor***o  world h***orld hello*** hello  wo***lo  world ***world hell***d hello  w***llo  world*** world hel***ld hello  ***ello  worl***  world he***rld hello ***hello  wor***o  world h***orld hello*** hello  wo***lo  world ***world hell***d hello  w***llo  world*** world hel***ld hello  ***ello  worl***  world he***rld hello ***hello  wor***o  world h***orld hello*** hello  wo***lo  world ***world hell***d hello  w***llo  world*** world hel***ld hello  ***ello  worl***  world he***rld hello ***hello  wor***o  world h***orld hello*** hello  wo***lo  world ***world hell***d hello  w***llo  world*** world hel***ld hello  ***ello  worl***  world he***rld hello ***hello  wor***o  world h***orld hello*** hello  wo***lo  world ***world hell***d hello  w***llo  world*** world hel***ld hello  ***ello  worl***  world he***rld hello ***hello  wor***o  world h***orld hello*** hello  wo***lo  world ***world hell***d hello  w***llo  world*** world hel***ld hello  ***ello  worl***  world he***rld hello ***hello  wor***o  world h***orld hello*** hello  wo***lo  world ***world hell***d hello  w***llo  world*** world hel***ld hello  ***ello  worl***  world he***rld hello ***hello  wor***o  world h***orld hello*** hello  wo***lo  world ***world hell***d hello  w***llo  world*** world hel***ld hello  ***ello  worl***  world he***rld hello ***hello  wor***o  world h***orld hello*** hello  wo***lo  world ***world hell***d hello  w***llo  world*** world hel***ld hello  ***ello  worl***  world he***rld hello ***hello  wor***o  world h***orld hello*** hello  wo***lo  world ***world hell***d hello  w***llo  world*** world hel***ld hello  ***ello  worl***  world he***rld hello ***hello  wor***o  world h***orld hello*** hello  wo***lo  world ***world hell***d hello  w***llo  world*** world hel***ld hello  ***ello  worl***  world he***rld hello ***hello  wor***o  world h***orld hello*** hello  wo***lo  world ***world hell***d hello  w***llo  world*** world hel***ld hello  ***ello  worl***  world he***rld hello ***hello  wor***o  world h***orld hello*** hello  wo***lo  world ***world hell***d hello  w***llo  world*** world hel***ld hello  ***ello  worl***  world he***rld hello ***hello  wor***o  world h***orld hello*** hello  wo***lo  world ***world hell***d hello  w***llo  world*** world hel***ld hello  ***ello  worl***  world he***rld hello ***hello  wor***o  world h***orld hello*** hello  wo***lo  world ***world hell***d hello  w***llo  world*** world hel***ld hello  ***ello  worl***  world he***rld hello ***hello  wor***o  world h***orld hello*** hello  wo***lo  world ***world hell***d hello  w***llo  world*** world hel***ld hello  ***ello  worl***  world he***rld hello ***hello  wor***o  world h***orld hello*** hello  wo***lo  world ***world hell***d hello  w***llo  world*** world hel***ld hello  ***ello  worl***  world he***rld hello ***hello  wor***o  world h***orld hello*** hello  wo***lo  world ***world hell***d hello  w***llo  world*** world hel***ld hello  ***ello  worl***  world he***rld hello ***hello  wor***o  world h***orld hello*** hello  wo***lo  world ***world hell***d hello  w***llo  world*** world hel***ld hello  ***ello  worl***  world he***rld hello ***hello  wor***o  world h***orld hello*** hello  wo***lo  world ***world hell***d hello  w***llo  world*** world hel***ld hello  ***ello  worl***  world he***rld hello ***hello  wor***o  world h***orld hello*** hello  wo***lo  world ***world hell***d hello  w***llo  world*** world hel***ld hello  ***ello  worl***  world he***rld hello ***hello  wor***o  world h***orld hello*** hello  wo***lo  world ***world hell***d hello  w***llo  world*** world hel***ld hello  ***ello  worl***  world he***rld hello ***hello  wor***o  world h***orld hello*** hello  wo***lo  world ***world hell***d hello  w***llo  world*** world hel***ld hello  ***ello  worl***  world he***rld hello ***hello  wor***o  world h***orld hello*** hello  wo***lo  world ***world hell***d hello  w***llo  world*** world hel***ld hello  ***ello  worl***  world he***rld hello ***hello  wor***o  world h***orld hello*** hello  wo***lo  world ***world hell***d hello  w***llo  world*** world hel***ld hello  ***ello  worl***  world he***rld hello ***hello  wor***o  world h***orld hello*** hello  wo***lo  world ***world hell***d hello  w***llo  world*** world hel***ld hello  ***ello  worl***  world he***rld hello ***hello  wor***o  world h***orld hello*** hello  wo***lo  world ***world hell***d hello  w***llo  world*** world hel***ld hello  ***ello  worl***  world he***rld hello ***hello  wor***o  world h***orld hello*** hello  wo***lo  world ***world hell***d hello  w***llo  world*** world hel***ld hello  ***ello  worl***  world he***rld hello ***hello  wor***o  world h***orld hello*** hello  wo***lo  world ***world hell***d hello  w***llo  world*** world hel***ld hello  ***ello  worl***  world he***rld hello ***hello  wor***o  world h***orld hello*** hello  wo***lo  world ***world hell***d hello  w***llo  world*** world hel***ld hello  ***ello  worl***  world he***rld hello ***hello  wor***o  world h***orld hello*** hello  wo***lo  world ***world hell***d hello  w***llo  world*** world hel***ld hello  ***ello  worl***  world he***rld hello ***hello  wor***o  world h***orld hello*** hello  wo***lo  world ***world hell***d hello  w***llo  world*** world hel***ld hello  ***ello  worl***  world he***rld hello ***hello  wor***o  world h***orld hello*** hello  wo***lo  world ***world hell***d hello  w***llo  world*** world hel***ld hello  ***ello  worl***  world he***rld hello ***hello  wor***o  world h***orld hello*** hello  wo***lo  world ***world hell***d hello  w***llo  world*** world hel***ld hello  ***ello  worl***  world he***rld hello ***hello  wor***o  world h***orld hello*** hello  wo***lo  world ***world hell***d hello  w***llo  world*** world hel***ld hello  ***ello  worl***  world he***rld hello ***hello  wor***o  world h***orld hello*** hello  wo***lo  world ***world hell***d hello  w***llo  world*** world hel***ld hello  ***ello  worl***  world he***rld hello ***hello  wor***o  world h***orld hello*** hello  wo***lo  world ***world hell***d hello  w***llo  world*** world hel***ld hello  ***ello  worl***  world he***rld hello ***hello  wor***o  world h***orld hello*** hello  wo***lo  world ***world hell***d hello  w***llo  world*** world hel***ld hello  ***ello  worl***  world he***rld hello ***hello  wor***o  world h***orld hello*** hello  wo***lo  world ***world hell***d hello  w***llo  world*** world hel***ld hello  ***ello  worl***  world he***rld hello ***hello  wor***o  world h***orld hello*** hello  wo***lo  world ***world hell***d hello  w***llo  world*** world hel***ld hello  ***ello  worl***  world he***rld hello ***hello  wor***o  world h***orld hello*** hello  wo***lo  world ***world hell***d hello  w***llo  world*** world hel***ld hello  ***ello  worl***  world he***rld hello ***hello  wor***o  world h***orld hello*** hello  wo***lo  world ***world hell***d hello  w***llo  world*** world hel***ld hello  ***ello  worl***  world he***rld hello ***hello  wor***o  world h***orld hello*** hello  wo***lo  world ***world hell***d hello  w***llo  world*** world hel***ld hello  ***ello  worl***  world he***rld hello ***hello  wor***o  world h***orld hello*** hello  wo***lo  world ***world hell***d hello  w***llo  world*** world hel***ld hello  ***ello  worl***  world he***rld hello ***hello  wor***o  world h***orld hello*** hello  wo***lo  world ***world hell***d hello  w***llo  world*** world hel***ld hello  ***ello  worl***  world he***rld hello ***hello  wor***o  world h***orld hello*** hello  wo***lo  world ***world hell***d hello  w***llo  world*** world hel***ld hello  ***ello  worl***  world he***rld hello ***hello  wor***o  world h***orld hello*** hello  wo***lo  world ***world hell***d hello  w***llo  world*** world hel***ld hello  ***ello  worl***  world he***rld hello ***hello  wor***o  world h***orld hello*** hello  wo***lo  world ***world hell***d hello  w***llo  world*** world hel***ld hello  ***ello  worl***  world he***rld hello ***hello  wor***o  world h***orld hello*** hello  wo***lo  world ***world hell***d hello  w***llo  world*** world hel***ld hello  ***ello  worl***  world he***rld hello ***hello  wor***o  world h***orld hello*** hello  wo***lo  world ***world hell***d hello  w***llo  world*** world hel***ld hello  ***ello  worl***  world he***rld hello ***hello  wor***o  world h***orld hello*** hello  wo***lo  world ***world hell***d hello  w***llo  world*** world hel***ld hello  ***ello  worl***  world he***rld hello ***hello  wor***o  world h***orld hello*** hello  wo***lo  world ***world hell***d hello  w***llo  world*** world hel***ld hello  ***ello  worl***  world he***rld hello ***hello  wor***o  world h***orld hello*** hello  wo***lo  world ***world hell***d hello  w***llo  world*** world hel***ld hello  ***ello  worl***  world he***rld hello ***hello  wor***o  world h***orld hello*** hello  wo***lo  world ***world hell***d hello  w***llo  world*** world hel***ld hello  ***ello  worl***  world he***rld hello ***hello  wor***o  world h***orld hello*** hello  wo***lo  world ***world hell***d hello  w***llo  world*** world hel***ld hello  ***ello  worl***  world he***rld hello ***hello  wor***o  world h***orld hello*** hello  wo***lo  world ***world hell***d hello  w***llo  world*** world hel***ld hello  ***ello  worl***  world he***rld hello ***hello  wor***o  world h***orld hello*** hello  wo***lo  world ***world hell***d hello  w***llo  world*** world hel***ld hello  ***ello  worl***  world he***rld hello ***hello  wor***o  world h***orld hello*** hello  wo***lo  world ***world hell***d hello  w***llo  world*** world hel***ld hello  ***ello  worl***  world he***rld hello ***hello  wor***o  world h***orld hello*** hello  wo***lo  world ***world hell***d hello  w***llo  world*** world hel***ld hello  ***ello  worl***  world he***rld hello ***hello  wor***o  world h***orld hello*** hello  wo***lo  world ***world hell***d hello  w***llo  world*** world hel***ld hello  ***ello  worl***  world he***rld hello ***hello  wor***o  world h***orld hello*** hello  wo***lo  world ***world hell***d hello  w***llo  world*** world hel***ld hello  ***ello  worl***  world he***rld hello ***hello  wor***o  world h***orld hello*** hello  wo***lo  world ***world hell***d hello  w***llo  world*** world hel***ld hello  ***ello  worl***  world he***rld hello ***hello  wor***o  world h***orld hello*** hello  wo***lo  world ***world hell***d hello  w***llo  world*** world hel***ld hello  ***ello  worl***  world he***rld hello ***hello  wor***o  world h***orld hello*** hello  wo***lo  world ***world hell***d hello  w***llo  world*** world hel***ld hello  ***ello  worl***  world he***rld hello ***hello  wor***o  world h***orld hello*** hello  wo***lo  world ***world hell***d hello  w***llo  world*** world hel***ld hello  ***ello  worl***  world he***rld hello ***hello  wor***o  world h***orld hello*** hello  wo***lo  world ***world hell***d hello  w***llo  world*** world hel***ld hello  ***ello  worl***  world he***rld hello ***hello  wor***o  world h***orld hello*** hello  wo***lo  world ***world hell***d hello  w***llo  world*** world hel***ld hello  ***ello  worl***  world he***rld hello ***hello  wor***o  world h***orld hello*** hello  wo***lo  world ***world hell***d hello  w***llo  world*** world hel***ld hello  ***ello  worl***  world he***rld hello ***hello  wor***o  world h***orld hello*** hello  wo***lo  world ***world hell***d hello  w***llo  world*** world hel***ld hello  ***ello  worl***  world he***rld hello ***hello  wor***o  world h***orld hello*** hello  wo***lo  world ***world hell***d hello  w***llo  world*** world hel***ld hello  ***ello  worl***  world he***rld hello ***hello  wor***o  world h***orld hello*** hello  wo***lo  world ***world hell***d hello  w***llo  world*** world hel***ld hello  ***ello  worl***  world he***rld hello ***hello  wor***o  world h***orld hello*** hello  wo***lo  world ***world hell***d hello  w***llo  world*** world hel***ld hello  ***ello  worl***  world he***rld hello ***hello  wor***o  world h***orld hello*** hello  wo***lo  world ***world hell***d hello  w***llo  world*** world hel***ld hello  ***ello  worl***  world he***rld hello ***hello  wor***o  world h***orld hello*** hello  wo***lo  world ***world hell***d hello  w***llo  world*** world hel***ld hello  ***ello  worl***  world he***rld hello ***hello  wor***o  world h***orld hello*** hello  wo***lo  world ***world hell***d hello  w***llo  world*** world hel***ld hello  ***ello  worl***  world he***rld hello ***hello  wor***o  world h***orld hello*** hello  wo***lo  world ***world hell***d hello  w***llo  world*** world hel***ld hello  ***ello  worl***  world he***rld hello ***hello  wor***o  world h***orld hello*** hello  wo***lo  world ***world hell***d hello  w***llo  world*** world hel***ld hello  ***ello  worl***  world he***rld hello ***hello  wor***o  world h***orld hello*** hello  wo***lo  world ***world hell***d hello  w***llo  world*** world hel***ld hello  ***ello  worl***  world he***rld hello ***hello  wor***o  world h***orld hello*** hello  wo***lo  world ***world hell***d hello  w***llo  world*** world hel***ld hello  ***ello  worl***  world he***rld hello ***hello  wor***o  world h***orld hello*** hello  wo***lo  world ***world hell***d hello  w***llo  world*** world hel***ld hello  ***ello  worl***  world he***rld hello ***hello  wor***o  world h***orld hello*** hello  wo***lo  world ***world hell***d hello  w***llo  world*** world hel***ld hello  ***ello  worl***  world he***rld hello ***hello  wor***o  world h***orld hello*** hello  wo***lo  world ***world hell***d hello  w***llo  world*** world hel***ld hello  ***ello  worl***  world he***rld hello ***hello  wor***o  world h***orld hello*** hello  wo***lo  world ***world hell***d hello  w***llo  world*** world hel***ld hello  ***ello  worl***  world he***rld hello ***hello  wor***o  world h***orld hello*** hello  wo***lo  world ***world hell***d hello  w***llo  world*** world hel***ld hello  ***ello  worl***  world he***rld hello ***hello  wor***o  world h***orld hello*** hello  wo***lo  world ***world hell***d hello  w***llo  world*** world hel***ld hello  ***ello  worl***  world he***rld hello ***hello  wor***o  world h***orld hello*** hello  wo***lo  world ***world hell***d hello  w***llo  world*** world hel***ld hello  ***ello  worl***  world he***rld hello ***hello  wor***o  world h***orld hello*** hello  wo***lo  world ***world hell***d hello  w***llo  world*** world hel***ld hello  ***ello  worl***  world he***rld hello ***hello  wor***o  world h***orld hello*** hello  wo***lo  world ***world hell***d hello  w***llo  world*** world hel***ld hello  ***ello  worl***  world he***rld hello ***hello  wor***o  world h***orld hello*** hello  wo***lo  world ***world hell***d hello  w***llo  world*** world hel***ld hello  ***ello  worl***  world he***rld hello ***hello  wor***o  world h***orld hello*** hello  wo***lo  world ***world hell***d hello  w***llo  world*** world hel***ld hello  ***ello  worl***  world he***rld hello ***hello  wor***o  world h***orld hello*** hello  wo***lo  world ***world hell***d hello  w***llo  world*** world hel***ld hello  ***ello  worl***  world he***rld hello ***hello  wor***o  world h***orld hello*** hello  wo***lo  world ***world hell***d hello  w***llo  world*** world hel***ld hello  ***ello  worl***  world he***rld hello ***hello  wor***o  world h***orld hello*** hello  wo***lo  world ***world hell***d hello  w***llo  world*** world hel***ld hello  ***ello  worl***  world he***rld hello ***hello  wor***o  world h***orld hello*** hello  wo***lo  world ***world hell***d hello  w***llo  world*** world hel***ld hello  ***ello  worl***  world he***rld hello ***hello  wor***o  world h***orld hello*** hello  wo***lo  world ***world hell***d hello  w***llo  world*** world hel***ld hello  ***ello  worl***  world he***rld hello ***hello  wor***o  world h***orld hello*** hello  wo***lo  world ***world hell***d hello  w***llo  world*** world hel***ld hello  ***ello  worl***  world he***rld hello ***hello  wor***o  world h***orld hello*** hello  wo***lo  world ***world hell***d hello  w***llo  world*** world hel***ld hello  ***ello  worl***  world he***rld hello ***hello  wor***o  world h***orld hello*** hello  wo***lo  world ***world hell***d hello  w***llo  world*** world hel***ld hello  ***ello  worl***  world he***rld hello ***hello  wor***o  world h***orld hello*** hello  wo***lo  world ***world hell***d hello  w***llo  world*** world hel***ld hello  ***ello  worl***  world he***rld hello ***hello  wor***o  world h***orld hello*** hello  wo***lo  world ***world hell***d hello  w***llo  world*** world hel***ld hello  ***ello  worl***  world he***rld hello ***hello  wor***o  world h***orld hello*** hello  wo***lo  world ***world hell***d hello  w***llo  world*** world hel***ld hello  ***ello  worl***  world he***rld hello ***hello  wor***o  world h***orld hello*** hello  wo***lo  world ***world hell***d hello  w***llo  world*** world hel***ld hello  ***ello  worl***  world he***rld hello ***hello  wor***o  world h***orld hello*** hello  wo***lo  world ***world hell***d hello  w***llo  world*** world hel***ld hello  ***ello  worl***  world he***rld hello ***hello  wor***o  world h***orld hello*** hello  wo***lo  world ***world hell***d hello  w***llo  world*** world hel***ld hello  ***ello  worl***  world he***rld hello ***hello  wor***o  world h***orld hello*** hello  wo***lo  world ***world hell***d hello  w***llo  world*** world hel***ld hello  ***ello  worl***  world he***rld hello ***hello  wor***o  world h***orld hello*** hello  wo***lo  world ***world hell***d hello  w***llo  world*** world hel***ld hello  ***ello  worl***  world he***rld hello ***hello  wor***o  world h***orld hello*** hello  wo***lo  world ***world hell***d hello  w***llo  world*** world hel***ld hello  ***ello  worl***  world he***rld hello ***hello  wor***o  world h***orld hello*** hello  wo***lo  world ***world hell***d hello  w***llo  world*** world hel***ld hello  ***ello  worl***  world he***rld hello ***hello  wor***o  world h***orld hello*** hello  wo***lo  world ***world hell***d hello  w***llo  world*** world hel***ld hello  ***ello  worl***  world he***rld hello ***hello  wor***o  world h***orld hello*** hello  wo***lo  world ***world hell***d hello  w***llo  world*** world hel***ld hello  ***ello  worl***  world he***rld hello ***hello  wor***o  world h***orld hello*** hello  wo***lo  world ***world hell***d hello  w***llo  world*** world hel***ld hello  ***ello  worl***  world he***rld hello ***hello  wor***o  world h***orld hello*** hello  wo***lo  world ***world hell***d hello  w***llo  world*** world hel***ld hello  ***ello  worl***  world he***rld hello ***hello  wor***o  world h***orld hello*** hello  wo***lo  world ***world hell***d hello  w***llo  world*** world hel***ld hello  ***ello  worl***  world he***rld hello ***hello  wor***o  world h***orld hello*** hello  wo***lo  world ***world hell***d hello  w***llo  world*** world hel***ld hello  ***ello  worl***  world he***rld hello ***hello  wor***o  world h***orld hello*** hello  wo***lo  world ***world hell***d hello  w***llo  world*** world hel***ld hello  ***ello  worl***  world he***rld hello ***hello  wor***o  world h***orld hello*** hello  wo***lo  world ***world hell***d hello  w***llo  world*** world hel***ld hello  ***ello  worl***  world he***rld hello ***hello  wor***o  world h***orld hello*** hello  wo***lo  world ***world hell***d hello  w***llo  world*** world hel***ld hello  ***ello  worl***  world he***rld hello ***hello  wor***o  world h***orld hello*** hello  wo***lo  world ***world hell***d hello  w***llo  world*** world hel***ld hello  ***ello  worl***  world he***rld hello ***hello  wor***o  world h***orld hello*** hello  wo***lo  world ***world hell***d hello  w***llo  world*** world hel***ld hello  ***ello  worl***  world he***rld hello ***hello  wor***o  world h***orld hello*** hello  wo***lo  world ***world hell***d hello  w***llo  world*** world hel***ld hello  ***ello  worl***  world he***rld hello ***hello  wor***o  world h***orld hello*** hello  wo***lo  world ***world hell***d hello  w***llo  world*** world hel***ld hello  ***ello  worl***  world he***rld hello ***hello  wor***o  world h***orld hello*** hello  wo***lo  world ***world hell***d hello  w***llo  world*** world hel***ld hello  ***ello  worl***  world he***rld hello ***hello  wor***o  world h***orld hello*** hello  wo***lo  world ***world hell***d hello  w***llo  world*** world hel***ld hello  ***ello  worl***  world he***rld hello ***hello  wor***o  world h***orld hello*** hello  wo***lo  world ***world hell***d hello  w***llo  world*** world hel***ld hello  ***ello  worl***  world he***rld hello ***hello  wor***o  world h***orld hello*** hello  wo***lo  world ***world hell***d hello  w***llo  world*** world hel***ld hello  ***ello  worl***  world he***rld hello ***hello  wor***o  world h***orld hello*** hello  wo***lo  world ***world hell***d hello  w***llo  world*** world hel***ld hello  ***ello  worl***  world he***rld hello ***hello  wor***o  world h***orld hello*** hello  wo***lo  world ***world hell***d hello  w***llo  world*** world hel***ld hello  ***ello  worl***  world he***rld hello ***hello  wor***o  world h***orld hello*** hello  wo***lo  world ***world hell***d hello  w***llo  world*** world hel***ld hello  ***ello  worl***  world he***rld hello ***hello  wor***o  world h***orld hello*** hello  wo***lo  world ***world hell***d hello  w***llo  world*** world hel***ld hello  ***ello  worl***  world he***rld hello ***hello  wor***o  world h***orld hello*** hello  wo***lo  world ***world hell***d hello  w***llo  world*** world hel***ld hello  ***ello  worl***  world he***rld hello ***hello  wor***o  world h***orld hello*** hello  wo***lo  world ***world hell***d hello  w***llo  world*** world hel***ld hello  ***ello  worl***  world he***rld hello ***hello  wor***o  world h***orld hello*** hello  wo***lo  world ***world hell***d hello  w***llo  world*** world hel***ld hello  ***ello  worl***  world he***rld hello ***hello  wor***o  world h***orld hello*** hello  wo***lo  world ***world hell***d hello  w***llo  world*** world hel***ld hello  ***ello  worl***  world he***rld hello ***hello  wor***o  world h***orld hello*** hello  wo***lo  world ***world hell***d hello  w***llo  world*** world hel***ld hello  ***ello  worl***  world he***rld hello ***hello  wor***o  world h***orld hello*** hello  wo***lo  world ***world hell***d hello  w***llo  world*** world hel***ld hello  ***ello  worl***  world he***rld hello ***hello  wor***o  world h***orld hello*** hello  wo***lo  world ***world hell***d hello  w***llo  world*** world hel***ld hello  ***ello  worl***  world he***rld hello ***hello  wor***o  world h***orld hello*** hello  wo***lo  world ***world hell***d hello  w***llo  world*** world hel***ld hello  ***ello  worl***  world he***rld hello ***hello  wor***o  world h***orld hello*** hello  wo***lo  world ***world hell***d hello  w***llo  world*** world hel***ld hello  ***ello  worl***  world he***rld hello ***hello  wor***o  world h***orld hello*** hello  wo***lo  world ***world hell***d hello  w***llo  world*** world hel***ld hello  ***ello  worl***  world he***rld hello ***hello  wor***o  world h***orld hello*** hello  wo***lo  world ***world hell***d hello  w***llo  world*** world hel***ld hello  ***ello  worl***  world he***rld hello ***hello  wor***o  world h***orld hello*** hello  wo***lo  world ***world hell***d hello  w***llo  world*** world hel***ld hello  ***ello  worl***  world he***rld hello ***hello  wor***o  world h***orld hello*** hello  wo***lo  world ***world hell***d hello  w***llo  world*** world hel***ld hello  ***ello  worl***  world he***rld hello ***hello  wor***o  world h***orld hello*** hello  wo***lo  world ***world hell***d hello  w***llo  world*** world hel***ld hello  ***ello  worl***  world he***rld hello ******"
     ]
    }
   ],
   "source": [
    "with open('big.txt','r') as f:\n",
    "    chunk_size = 10\n",
    "\n",
    "    while len(f.read(chunk_size)) > 0:\n",
    "        print(f.read(chunk_size),end='***')\n",
    "        f.read(chunk_size)\n",
    " \n"
   ]
  },
  {
   "cell_type": "code",
   "execution_count": 149,
   "id": "898a9f59",
   "metadata": {},
   "outputs": [
    {
     "name": "stdout",
     "output_type": "stream",
     "text": [
      "selmon bha\n",
      "10\n",
      "i\n",
      "11\n"
     ]
    }
   ],
   "source": [
    "# seek and tell functions\n",
    "with open('sample.txt','r') as f:\n",
    "    print(f.read(10))\n",
    "    print(f.tell())\n",
    "    f.seek(10)\n",
    "    print(f.read(10))\n",
    "    print(f.tell())"
   ]
  },
  {
   "cell_type": "code",
   "execution_count": 150,
   "id": "c322c2ed",
   "metadata": {},
   "outputs": [],
   "source": [
    "# seek during write\n",
    "with open('sample.txt','w') as f:\n",
    "    f.write('Hello')\n",
    "    f.seek(0)\n",
    "    f.write('x')\n"
   ]
  },
  {
   "cell_type": "markdown",
   "id": "c491d743",
   "metadata": {},
   "source": [
    "### Problems with working in text mode\n",
    "+ can't work with binary files like images\n",
    "+ not good for other data types like int/float/list/tuples"
   ]
  }
 ],
 "metadata": {
  "kernelspec": {
   "display_name": "Python 3",
   "language": "python",
   "name": "python3"
  },
  "language_info": {
   "codemirror_mode": {
    "name": "ipython",
    "version": 3
   },
   "file_extension": ".py",
   "mimetype": "text/x-python",
   "name": "python",
   "nbconvert_exporter": "python",
   "pygments_lexer": "ipython3",
   "version": "3.9.9"
  }
 },
 "nbformat": 4,
 "nbformat_minor": 5
}
