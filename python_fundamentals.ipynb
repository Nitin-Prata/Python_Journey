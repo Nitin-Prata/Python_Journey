{
 "cells": [
  {
   "cell_type": "markdown",
   "id": "82a96fad",
   "metadata": {},
   "source": [
    "# python fundamentals"
   ]
  },
  {
   "cell_type": "markdown",
   "id": "b1851032",
   "metadata": {},
   "source": [
    "## 1. Python Output"
   ]
  },
  {
   "cell_type": "code",
   "execution_count": 1,
   "id": "0e9ea453",
   "metadata": {},
   "outputs": [
    {
     "name": "stdout",
     "output_type": "stream",
     "text": [
      "Hello World\n"
     ]
    }
   ],
   "source": [
    "# Python is a case sensitive language\n",
    "print('Hello World')"
   ]
  },
  {
   "cell_type": "code",
   "execution_count": 2,
   "id": "6429ab63",
   "metadata": {},
   "outputs": [
    {
     "name": "stdout",
     "output_type": "stream",
     "text": [
      "7\n"
     ]
    }
   ],
   "source": [
    "print(7)"
   ]
  },
  {
   "cell_type": "code",
   "execution_count": 3,
   "id": "706f45ec",
   "metadata": {},
   "outputs": [
    {
     "name": "stdout",
     "output_type": "stream",
     "text": [
      "True\n"
     ]
    }
   ],
   "source": [
    "print(True)"
   ]
  },
  {
   "cell_type": "code",
   "execution_count": 4,
   "id": "c1b9efc9",
   "metadata": {},
   "outputs": [
    {
     "name": "stdout",
     "output_type": "stream",
     "text": [
      "1.1\n"
     ]
    }
   ],
   "source": [
    "print(1.1)"
   ]
  },
  {
   "cell_type": "code",
   "execution_count": 5,
   "id": "ca09cce8",
   "metadata": {},
   "outputs": [
    {
     "name": "stdout",
     "output_type": "stream",
     "text": [
      "Hello,World 1 1.1 True\n"
     ]
    }
   ],
   "source": [
    "print('Hello,World',1,1.1,True)"
   ]
  },
  {
   "cell_type": "code",
   "execution_count": 7,
   "id": "0405466b",
   "metadata": {},
   "outputs": [
    {
     "name": "stdout",
     "output_type": "stream",
     "text": [
      "Hello,World//1//1.1//True\n"
     ]
    }
   ],
   "source": [
    "print('Hello,World',1,1.1,True,sep='//')"
   ]
  },
  {
   "cell_type": "code",
   "execution_count": 8,
   "id": "7e9ec580",
   "metadata": {},
   "outputs": [
    {
     "name": "stdout",
     "output_type": "stream",
     "text": [
      "hello\n",
      "world\n"
     ]
    }
   ],
   "source": [
    "print('hello')\n",
    "print('world')"
   ]
  },
  {
   "cell_type": "code",
   "execution_count": 9,
   "id": "aea008fc",
   "metadata": {},
   "outputs": [
    {
     "name": "stdout",
     "output_type": "stream",
     "text": [
      "hello-world\n"
     ]
    }
   ],
   "source": [
    "print('hello',end='-')\n",
    "print('world')"
   ]
  },
  {
   "cell_type": "markdown",
   "id": "e56d3826",
   "metadata": {},
   "source": [
    "# 2. Data Types"
   ]
  },
  {
   "cell_type": "code",
   "execution_count": 12,
   "id": "e574dad7",
   "metadata": {},
   "outputs": [
    {
     "name": "stdout",
     "output_type": "stream",
     "text": [
      "2\n",
      "1e+308\n"
     ]
    }
   ],
   "source": [
    "# Integer\n",
    "print(2)\n",
    "# 1*10^309\n",
    "print(1e308)"
   ]
  },
  {
   "cell_type": "code",
   "execution_count": 13,
   "id": "6cd06cac",
   "metadata": {},
   "outputs": [
    {
     "name": "stdout",
     "output_type": "stream",
     "text": [
      "8.55\n"
     ]
    }
   ],
   "source": [
    "# DEcimal/Float\n",
    "print(8.55)"
   ]
  },
  {
   "cell_type": "code",
   "execution_count": 14,
   "id": "b823488f",
   "metadata": {},
   "outputs": [
    {
     "name": "stdout",
     "output_type": "stream",
     "text": [
      "True\n",
      "False\n"
     ]
    }
   ],
   "source": [
    "# Boolean\n",
    "print(True)\n",
    "print(False)"
   ]
  },
  {
   "cell_type": "code",
   "execution_count": 15,
   "id": "61f4364d",
   "metadata": {},
   "outputs": [
    {
     "name": "stdout",
     "output_type": "stream",
     "text": [
      "Hello,World\n"
     ]
    }
   ],
   "source": [
    "# Text/String\n",
    "print('Hello,World')"
   ]
  },
  {
   "cell_type": "code",
   "execution_count": 16,
   "id": "27e2f95f",
   "metadata": {},
   "outputs": [
    {
     "name": "stdout",
     "output_type": "stream",
     "text": [
      "(5+6j)\n"
     ]
    }
   ],
   "source": [
    "# complex\n",
    "print(5+6j)"
   ]
  },
  {
   "cell_type": "code",
   "execution_count": 17,
   "id": "1188c52a",
   "metadata": {},
   "outputs": [
    {
     "name": "stdout",
     "output_type": "stream",
     "text": [
      "[1, 2, 3, 4]\n"
     ]
    }
   ],
   "source": [
    "# List-> C-> Array\n",
    "print([1,2,3,4])"
   ]
  },
  {
   "cell_type": "code",
   "execution_count": 19,
   "id": "710d5df9",
   "metadata": {},
   "outputs": [
    {
     "name": "stdout",
     "output_type": "stream",
     "text": [
      "(1, 2, 3, 4)\n"
     ]
    }
   ],
   "source": [
    "# Tuple\n",
    "print((1,2,3,4))"
   ]
  },
  {
   "cell_type": "code",
   "execution_count": 20,
   "id": "cae87ed2",
   "metadata": {},
   "outputs": [
    {
     "name": "stdout",
     "output_type": "stream",
     "text": [
      "{1, 2, 3, 4, 5}\n"
     ]
    }
   ],
   "source": [
    "# Sets\n",
    "print({1,2,3,4,5})"
   ]
  },
  {
   "cell_type": "code",
   "execution_count": 21,
   "id": "52947ea2",
   "metadata": {},
   "outputs": [
    {
     "name": "stdout",
     "output_type": "stream",
     "text": [
      "{'name': 'Vishant', 'gender': 'Male', 'Weight': 50}\n"
     ]
    }
   ],
   "source": [
    "# Dictionary\n",
    "print({'name':'Vishant','gender':'Male','Weight':50})"
   ]
  },
  {
   "cell_type": "markdown",
   "id": "e5ee4bf8",
   "metadata": {},
   "source": [
    "# 3. Function"
   ]
  },
  {
   "cell_type": "code",
   "execution_count": 22,
   "id": "983e2759",
   "metadata": {},
   "outputs": [
    {
     "data": {
      "text/plain": [
       "int"
      ]
     },
     "execution_count": 22,
     "metadata": {},
     "output_type": "execute_result"
    }
   ],
   "source": [
    "# type\n",
    "type(3)"
   ]
  },
  {
   "cell_type": "markdown",
   "id": "4b6646fe",
   "metadata": {},
   "source": [
    "# 4. Variables"
   ]
  },
  {
   "cell_type": "code",
   "execution_count": 23,
   "id": "2225e086",
   "metadata": {},
   "outputs": [],
   "source": [
    "# Static Vs Dynamic Typing\n",
    "# Static Vs Dynamic Binding\n",
    "# stylish Declaration techniques"
   ]
  },
  {
   "cell_type": "code",
   "execution_count": 26,
   "id": "aa9a5f57",
   "metadata": {},
   "outputs": [
    {
     "name": "stdout",
     "output_type": "stream",
     "text": [
      "nitin\n",
      "11\n"
     ]
    }
   ],
   "source": [
    "name = 'nitin'\n",
    "print(name)\n",
    "a = 5\n",
    "b = 6\n",
    "print(a+b)"
   ]
  },
  {
   "cell_type": "code",
   "execution_count": null,
   "id": "4366fbf1",
   "metadata": {},
   "outputs": [],
   "source": [
    "# Dynamic Typing\n",
    "a = 5\n",
    "# Static Typing\n",
    "# int a = 5\n"
   ]
  },
  {
   "cell_type": "code",
   "execution_count": null,
   "id": "3b62cbcc",
   "metadata": {},
   "outputs": [
    {
     "name": "stdout",
     "output_type": "stream",
     "text": [
      "5\n",
      "Nitin\n"
     ]
    }
   ],
   "source": [
    "# Dynamic Binding\n",
    "a = 5\n",
    "print(a)\n",
    "a = 'Nitin'\n",
    "print(a)\n",
    "\n",
    "# Static Binding\n",
    "# int a = 5\n"
   ]
  },
  {
   "cell_type": "code",
   "execution_count": 30,
   "id": "8cb698b2",
   "metadata": {},
   "outputs": [
    {
     "name": "stdout",
     "output_type": "stream",
     "text": [
      "1 2 3\n"
     ]
    }
   ],
   "source": [
    "# stylish Declaration techniques\n",
    "a = 1\n",
    "b = 2\n",
    "c = 3\n",
    "print(a,b,c)\n"
   ]
  },
  {
   "cell_type": "code",
   "execution_count": 31,
   "id": "2e24ea52",
   "metadata": {},
   "outputs": [
    {
     "name": "stdout",
     "output_type": "stream",
     "text": [
      "1 2 3\n"
     ]
    }
   ],
   "source": [
    "a,b,c = 1,2,3\n",
    "print(a,b,c)"
   ]
  },
  {
   "cell_type": "code",
   "execution_count": 32,
   "id": "5fe657f2",
   "metadata": {},
   "outputs": [
    {
     "name": "stdout",
     "output_type": "stream",
     "text": [
      "5 5 5\n"
     ]
    }
   ],
   "source": [
    "a=b=c=5\n",
    "print(a,b,c)"
   ]
  },
  {
   "cell_type": "markdown",
   "id": "7d4b1f2f",
   "metadata": {},
   "source": [
    "# 5. Keywords and Identifiers"
   ]
  },
  {
   "cell_type": "code",
   "execution_count": null,
   "id": "51a9b571",
   "metadata": {},
   "outputs": [],
   "source": [
    "# Keywords"
   ]
  },
  {
   "cell_type": "code",
   "execution_count": null,
   "id": "1c809e20",
   "metadata": {},
   "outputs": [],
   "source": [
    "# Identifiers\n",
    "# You can't start with a digit \n",
    "# You can't use special chars like - in variable names\n",
    "my_var = 'nitin'"
   ]
  },
  {
   "cell_type": "markdown",
   "id": "291dbefe",
   "metadata": {},
   "source": [
    "# 6. User Input"
   ]
  },
  {
   "cell_type": "code",
   "execution_count": 37,
   "id": "b8052ada",
   "metadata": {},
   "outputs": [
    {
     "data": {
      "text/plain": [
       "'Nitin'"
      ]
     },
     "execution_count": 37,
     "metadata": {},
     "output_type": "execute_result"
    }
   ],
   "source": [
    "# static Vs Dynamic Software\n",
    "input('Write Your Name ')"
   ]
  },
  {
   "cell_type": "code",
   "execution_count": 55,
   "id": "56013c34",
   "metadata": {},
   "outputs": [
    {
     "name": "stdout",
     "output_type": "stream",
     "text": [
      "12\n",
      "<class 'int'>\n"
     ]
    }
   ],
   "source": [
    "# take input from users and store them in a variable\n",
    "a = int(input('enter the first number'))\n",
    "b = int(input('enter the second Number'))\n",
    "# add the 2 variables\n",
    "sum = a+b\n",
    "# print the sum\n",
    "print(sum)\n",
    "print(type(b))"
   ]
  },
  {
   "cell_type": "markdown",
   "id": "dfab094b",
   "metadata": {},
   "source": [
    "# 7. Type Conversion"
   ]
  },
  {
   "cell_type": "code",
   "execution_count": null,
   "id": "1928b399",
   "metadata": {},
   "outputs": [
    {
     "name": "stdout",
     "output_type": "stream",
     "text": [
      "8.4\n",
      "<class 'int'> <class 'float'>\n"
     ]
    }
   ],
   "source": [
    "# Implicit Vs Explicit\n",
    "print(4+4.4)\n",
    "print(type(4),type(4.4))\n",
    "\n",
    "print(4+'4')  # will show an error "
   ]
  },
  {
   "cell_type": "code",
   "execution_count": 54,
   "id": "a4d1f36d",
   "metadata": {},
   "outputs": [
    {
     "data": {
      "text/plain": [
       "4.0"
      ]
     },
     "execution_count": 54,
     "metadata": {},
     "output_type": "execute_result"
    }
   ],
   "source": [
    "# Explicit\n",
    "# str -> int\n",
    "type(int('4'))\n",
    "\n",
    "# int to str\n",
    "type(str(4))\n",
    "\n",
    "# float\n",
    "float(4)"
   ]
  },
  {
   "cell_type": "markdown",
   "id": "7c9efe1d",
   "metadata": {},
   "source": [
    "# 8. Literals"
   ]
  },
  {
   "cell_type": "code",
   "execution_count": 58,
   "id": "dae0d33d",
   "metadata": {},
   "outputs": [
    {
     "name": "stdout",
     "output_type": "stream",
     "text": [
      "10 100 200 300\n",
      "10.5 150.0 0.0015\n",
      "3.14j 3.14 0.0\n"
     ]
    }
   ],
   "source": [
    "a = 0b1010 #Binary Literals\n",
    "b = 100 #Decimal Literals\n",
    "c = 0o310 #Octal Literals\n",
    "d = 0x12c #Hexadecimal Literals\n",
    "\n",
    "# Float Literals\n",
    "float_1 = 10.5\n",
    "float_2 = 1.5e2 # 1.5*10^2\n",
    "float_3 = 1.5e-3\n",
    "\n",
    "#Complex Literals\n",
    "x = 3.14j\n",
    "\n",
    "print(a,b,c,d)\n",
    "print(float_1,float_2,float_3)\n",
    "print(x, x.imag, x.real)"
   ]
  },
  {
   "cell_type": "code",
   "execution_count": 57,
   "id": "6d194997",
   "metadata": {},
   "outputs": [
    {
     "name": "stdout",
     "output_type": "stream",
     "text": [
      "10\n"
     ]
    }
   ],
   "source": [
    "# Binary Literals\n",
    "a = 0b1010\n",
    "print(a)\n"
   ]
  },
  {
   "cell_type": "code",
   "execution_count": 61,
   "id": "de03f202",
   "metadata": {},
   "outputs": [
    {
     "name": "stdout",
     "output_type": "stream",
     "text": [
      "This is a python\n",
      "This is a python\n",
      "c\n",
      "this is a multiline string with more than one line code\n",
      "😀😆🤣\n",
      "raw\\nstring\n"
     ]
    }
   ],
   "source": [
    "string = 'This is a python'\n",
    "strings = \"This is a python\"\n",
    "char = \"c\"\n",
    "multiline_str = \"\"\"this is a multiline string with more than one line code\"\"\"\n",
    "unicode = u\"\\U0001f600\\U0001F606\\U0001F923\"\n",
    "raw_str = r\"raw\\nstring\"\n",
    "\n",
    "print(string)\n",
    "print(strings)\n",
    "print(char)\n",
    "print(multiline_str)\n",
    "print(unicode)\n",
    "print(raw_str)"
   ]
  },
  {
   "cell_type": "code",
   "execution_count": 62,
   "id": "5dba07ff",
   "metadata": {},
   "outputs": [
    {
     "name": "stdout",
     "output_type": "stream",
     "text": [
      "a:  5\n",
      "b: 10\n"
     ]
    }
   ],
   "source": [
    "a = True+4\n",
    "b = False +10\n",
    "print(\"a: \",a)\n",
    "print(\"b:\", b)"
   ]
  },
  {
   "cell_type": "code",
   "execution_count": 63,
   "id": "495b92df",
   "metadata": {},
   "outputs": [
    {
     "name": "stdout",
     "output_type": "stream",
     "text": [
      "None\n"
     ]
    }
   ],
   "source": [
    "a = None\n",
    "print(a)"
   ]
  }
 ],
 "metadata": {
  "kernelspec": {
   "display_name": "Python 3",
   "language": "python",
   "name": "python3"
  },
  "language_info": {
   "codemirror_mode": {
    "name": "ipython",
    "version": 3
   },
   "file_extension": ".py",
   "mimetype": "text/x-python",
   "name": "python",
   "nbconvert_exporter": "python",
   "pygments_lexer": "ipython3",
   "version": "3.9.9"
  }
 },
 "nbformat": 4,
 "nbformat_minor": 5
}
