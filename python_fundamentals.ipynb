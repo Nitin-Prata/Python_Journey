{
 "cells": [
  {
   "cell_type": "markdown",
   "id": "82a96fad",
   "metadata": {},
   "source": [
    "# python fundamentals\n",
    "\n",
    "### Why Python?\n",
    "+ 1. Design Philosophy\n",
    "+ 2. Batteries Included\n",
    "+ 3. General Purpose\n",
    "+ 4. Libraries/Community"
   ]
  },
  {
   "cell_type": "markdown",
   "id": "23a032a6",
   "metadata": {},
   "source": [
    "### Why Python for Data Science\n",
    "+ 1. Easy to learn\n",
    "+ 2. Proximity with Maths\n",
    "+ 3. Community"
   ]
  },
  {
   "cell_type": "markdown",
   "id": "b1851032",
   "metadata": {},
   "source": [
    "## 1. Python Output"
   ]
  },
  {
   "cell_type": "markdown",
   "id": "117310c4",
   "metadata": {},
   "source": [
    "+ python ke kese bhe data type ko . print function ke andar daal kar print kar sakte hai\n",
    "+ you can print multiple things at time using print function and will be space seprated\n"
   ]
  },
  {
   "cell_type": "code",
   "execution_count": 1,
   "id": "0e9ea453",
   "metadata": {},
   "outputs": [
    {
     "name": "stdout",
     "output_type": "stream",
     "text": [
      "Hello World\n"
     ]
    }
   ],
   "source": [
    "# Python is a case sensitive language\n",
    "print('Hello World')"
   ]
  },
  {
   "cell_type": "code",
   "execution_count": 2,
   "id": "6429ab63",
   "metadata": {},
   "outputs": [
    {
     "name": "stdout",
     "output_type": "stream",
     "text": [
      "7\n"
     ]
    }
   ],
   "source": [
    "print(7)"
   ]
  },
  {
   "cell_type": "code",
   "execution_count": 3,
   "id": "706f45ec",
   "metadata": {},
   "outputs": [
    {
     "name": "stdout",
     "output_type": "stream",
     "text": [
      "True\n"
     ]
    }
   ],
   "source": [
    "print(True)"
   ]
  },
  {
   "cell_type": "code",
   "execution_count": 4,
   "id": "c1b9efc9",
   "metadata": {},
   "outputs": [
    {
     "name": "stdout",
     "output_type": "stream",
     "text": [
      "1.1\n"
     ]
    }
   ],
   "source": [
    "print(1.1)"
   ]
  },
  {
   "cell_type": "code",
   "execution_count": 5,
   "id": "ca09cce8",
   "metadata": {},
   "outputs": [
    {
     "name": "stdout",
     "output_type": "stream",
     "text": [
      "Hello,World 1 1.1 True\n"
     ]
    }
   ],
   "source": [
    "print('Hello,World',1,1.1,True)"
   ]
  },
  {
   "cell_type": "code",
   "execution_count": 1,
   "id": "0405466b",
   "metadata": {},
   "outputs": [
    {
     "name": "stdout",
     "output_type": "stream",
     "text": [
      "Hello,World//1//1.1//True\n"
     ]
    }
   ],
   "source": [
    "# sep ke wjah se hi multiple things ke beach mai space aa jata hai but we can change that behaviour\n",
    "print('Hello,World',1,1.1,True,sep='//')"
   ]
  },
  {
   "cell_type": "code",
   "execution_count": 3,
   "id": "7e9ec580",
   "metadata": {},
   "outputs": [
    {
     "name": "stdout",
     "output_type": "stream",
     "text": [
      "hello\n",
      "world\n"
     ]
    }
   ],
   "source": [
    "# if we use two print statement togeather the o/p will be print in different line \n",
    "# it happens becoz end = '\\n'\n",
    "print('hello')\n",
    "print('world')"
   ]
  },
  {
   "cell_type": "code",
   "execution_count": 4,
   "id": "aea008fc",
   "metadata": {},
   "outputs": [
    {
     "name": "stdout",
     "output_type": "stream",
     "text": [
      "hello-world\n"
     ]
    }
   ],
   "source": [
    "print('hello',end='-')\n",
    "print('world')"
   ]
  },
  {
   "cell_type": "markdown",
   "id": "e56d3826",
   "metadata": {},
   "source": [
    "# 2. Data Types \n",
    "+ data types means ki woh programming langauge kitne type ke data ke sath kaam kar sakta hai"
   ]
  },
  {
   "cell_type": "code",
   "execution_count": 16,
   "id": "e574dad7",
   "metadata": {},
   "outputs": [
    {
     "name": "stdout",
     "output_type": "stream",
     "text": [
      "2\n",
      "1e+308\n"
     ]
    }
   ],
   "source": [
    "# Integer\n",
    "print(2)\n",
    "# range -> 1*10^309 -> MAXIMUN integer python can handle\n",
    "print(1e308)"
   ]
  },
  {
   "cell_type": "code",
   "execution_count": null,
   "id": "6cd06cac",
   "metadata": {},
   "outputs": [
    {
     "name": "stdout",
     "output_type": "stream",
     "text": [
      "8.55\n"
     ]
    }
   ],
   "source": [
    "# Decimal/Float\n",
    "# range -> 1*10^309 -> MAXIMUN float python can handle\n",
    "print(8.55)"
   ]
  },
  {
   "cell_type": "code",
   "execution_count": 17,
   "id": "b823488f",
   "metadata": {},
   "outputs": [
    {
     "name": "stdout",
     "output_type": "stream",
     "text": [
      "True\n",
      "False\n"
     ]
    }
   ],
   "source": [
    "# Boolean -> it is not text\n",
    "print(True)\n",
    "print(False)"
   ]
  },
  {
   "cell_type": "code",
   "execution_count": 19,
   "id": "61f4364d",
   "metadata": {},
   "outputs": [
    {
     "name": "stdout",
     "output_type": "stream",
     "text": [
      "Hello,World\n"
     ]
    }
   ],
   "source": [
    "# Text/String -> there is no char data type in python , here is a string\n",
    "print('Hello,World')"
   ]
  },
  {
   "cell_type": "code",
   "execution_count": 16,
   "id": "27e2f95f",
   "metadata": {},
   "outputs": [
    {
     "name": "stdout",
     "output_type": "stream",
     "text": [
      "(5+6j)\n"
     ]
    }
   ],
   "source": [
    "# complex\n",
    "print(5+6j)"
   ]
  },
  {
   "cell_type": "code",
   "execution_count": 21,
   "id": "1188c52a",
   "metadata": {},
   "outputs": [
    {
     "name": "stdout",
     "output_type": "stream",
     "text": [
      "[1, 2, 3, 4]\n"
     ]
    }
   ],
   "source": [
    "# List-> C-> Array -> square bracket , comma seprated items\n",
    "print([1,2,3,4])"
   ]
  },
  {
   "cell_type": "code",
   "execution_count": 22,
   "id": "710d5df9",
   "metadata": {},
   "outputs": [
    {
     "name": "stdout",
     "output_type": "stream",
     "text": [
      "(1, 2, 3, 4)\n"
     ]
    }
   ],
   "source": [
    "# Tuple -> pernthesis bracket , comma seprated items\n",
    "print((1,2,3,4))"
   ]
  },
  {
   "cell_type": "code",
   "execution_count": 23,
   "id": "cae87ed2",
   "metadata": {},
   "outputs": [
    {
     "name": "stdout",
     "output_type": "stream",
     "text": [
      "{1, 2, 3, 4, 5}\n"
     ]
    }
   ],
   "source": [
    "# Sets  -> curly bracket , comma seprated items\n",
    "print({1,2,3,4,5})"
   ]
  },
  {
   "cell_type": "code",
   "execution_count": 24,
   "id": "52947ea2",
   "metadata": {},
   "outputs": [
    {
     "name": "stdout",
     "output_type": "stream",
     "text": [
      "{'name': 'Vishant', 'gender': 'Male', 'Weight': 50}\n"
     ]
    }
   ],
   "source": [
    "# Dictionary -> curly bracket with keys and values , comma seprated items\n",
    "print({'name':'Vishant','gender':'Male','Weight':50})"
   ]
  },
  {
   "cell_type": "markdown",
   "id": "e5ee4bf8",
   "metadata": {},
   "source": [
    "# 3. Function"
   ]
  },
  {
   "cell_type": "code",
   "execution_count": null,
   "id": "983e2759",
   "metadata": {},
   "outputs": [
    {
     "data": {
      "text/plain": [
       "int"
      ]
     },
     "execution_count": 25,
     "metadata": {},
     "output_type": "execute_result"
    }
   ],
   "source": [
    "# type -> it is a function and iske andar hum joh bhe data type dalte hai yeh usko detect kar leta hai and uska type bata deta hai\n",
    "type(3)"
   ]
  },
  {
   "cell_type": "markdown",
   "id": "4b6646fe",
   "metadata": {},
   "source": [
    "# 4. Variables\n",
    "+ variables basically are containers jha par hum kuch bhe information store kar sakte hai\n",
    "\n",
    "+ or they are container for the future use"
   ]
  },
  {
   "cell_type": "code",
   "execution_count": 23,
   "id": "2225e086",
   "metadata": {},
   "outputs": [],
   "source": [
    "# Static Vs Dynamic Typing\n",
    "# Static Vs Dynamic Binding\n",
    "# stylish Declaration techniques"
   ]
  },
  {
   "cell_type": "code",
   "execution_count": null,
   "id": "aa9a5f57",
   "metadata": {},
   "outputs": [
    {
     "name": "stdout",
     "output_type": "stream",
     "text": [
      "nitin\n",
      "11\n"
     ]
    }
   ],
   "source": [
    "# in python we do not need to mentioned the data type \n",
    "name = 'nitin' # create a variable\n",
    "print(name)  # use it\n",
    "a = 5\n",
    "b = 6\n",
    "print(a+b)"
   ]
  },
  {
   "cell_type": "code",
   "execution_count": null,
   "id": "4366fbf1",
   "metadata": {},
   "outputs": [],
   "source": [
    "# Dynamic Typing -> where u do not tell the data type of vriable u just create and assign the value , python support it\n",
    "a = 5\n",
    "# Static Typing -> u tell the data type of variable\n",
    "# int a = 5\n"
   ]
  },
  {
   "cell_type": "code",
   "execution_count": null,
   "id": "3b62cbcc",
   "metadata": {},
   "outputs": [
    {
     "name": "stdout",
     "output_type": "stream",
     "text": [
      "5\n",
      "Nitin\n"
     ]
    }
   ],
   "source": [
    "# Dynamic Binding -> in python variable ka data type fix ni hota woh kbhi bhe kuch bhe ban sakta hai \n",
    "a = 5\n",
    "print(a)\n",
    "a = 'Nitin'\n",
    "print(a)\n",
    "\n",
    "# Static Binding -> in static Binding once u create a data type u can not change it in whole program\n",
    "# int a = 5\n"
   ]
  },
  {
   "cell_type": "code",
   "execution_count": null,
   "id": "8cb698b2",
   "metadata": {},
   "outputs": [
    {
     "name": "stdout",
     "output_type": "stream",
     "text": [
      "1 2 3\n"
     ]
    }
   ],
   "source": [
    "# stylish Declaration techniques -> ek sath multiple variable ko create karke use kar sakte hai\n",
    "a = 1\n",
    "b = 2\n",
    "c = 3\n",
    "print(a,b,c)\n"
   ]
  },
  {
   "cell_type": "code",
   "execution_count": 31,
   "id": "2e24ea52",
   "metadata": {},
   "outputs": [
    {
     "name": "stdout",
     "output_type": "stream",
     "text": [
      "1 2 3\n"
     ]
    }
   ],
   "source": [
    "a,b,c = 1,2,3\n",
    "print(a,b,c)"
   ]
  },
  {
   "cell_type": "code",
   "execution_count": 32,
   "id": "5fe657f2",
   "metadata": {},
   "outputs": [
    {
     "name": "stdout",
     "output_type": "stream",
     "text": [
      "5 5 5\n"
     ]
    }
   ],
   "source": [
    "a=b=c=5\n",
    "print(a,b,c)"
   ]
  },
  {
   "cell_type": "markdown",
   "id": "66d2c3aa",
   "metadata": {},
   "source": [
    "### Comments \n",
    "+ use for the understanding of the code\n",
    "+ or to explain ki code mai kya likha hai"
   ]
  },
  {
   "cell_type": "markdown",
   "id": "7d4b1f2f",
   "metadata": {},
   "source": [
    "# 5. Keywords and Identifiers"
   ]
  },
  {
   "cell_type": "code",
   "execution_count": null,
   "id": "51a9b571",
   "metadata": {},
   "outputs": [],
   "source": [
    "# Keywords -> there a certain words reserved by the compiler and interpreter jo woh apne liye use karte hai , program ko smajhne ke liye so this is called keyword and there is 32 keywords in python\n",
    "# compilation is the process where we create our code into binary code , in compilation pura code ek sath binary mai convert ho jata hai and in interpretaion mai line by line hota hai"
   ]
  },
  {
   "cell_type": "code",
   "execution_count": null,
   "id": "1c809e20",
   "metadata": {},
   "outputs": [],
   "source": [
    "# Identifiers -> as a progammer hum joh bhe name dete hai in a program ukso identifier bolte hai eg: variable name,function name , class name\n",
    "# You can't start with a digit \n",
    "# You can use only special chars like - in variable names\n",
    "my_var = 'nitin'\n",
    "_ = 'a'\n",
    "\n",
    "# identifiers can not be keyword"
   ]
  },
  {
   "cell_type": "markdown",
   "id": "291dbefe",
   "metadata": {},
   "source": [
    "# 6. User Input"
   ]
  },
  {
   "cell_type": "code",
   "execution_count": 44,
   "id": "b8052ada",
   "metadata": {},
   "outputs": [
    {
     "data": {
      "text/plain": [
       "'Nitin Pratap Singh'"
      ]
     },
     "execution_count": 44,
     "metadata": {},
     "output_type": "execute_result"
    }
   ],
   "source": [
    "# static Vs Dynamic Software\n",
    "# static software user se baat ni karte woh bs information dene ke kaam aate hai eg wikipedia , calnder,blog\n",
    "# in dynamic user baat karta hai , input deta hai , eg is yt ,insta,olla,zomato\n",
    "input('Write Your Name ')"
   ]
  },
  {
   "cell_type": "code",
   "execution_count": 55,
   "id": "56013c34",
   "metadata": {},
   "outputs": [
    {
     "name": "stdout",
     "output_type": "stream",
     "text": [
      "12\n",
      "<class 'int'>\n"
     ]
    }
   ],
   "source": [
    "# take input from users and store them in a variable\n",
    "a = int(input('enter the first number'))\n",
    "b = int(input('enter the second Number'))\n",
    "# add the 2 variables\n",
    "sum = a+b\n",
    "# print the sum\n",
    "print(sum)\n",
    "print(type(b))"
   ]
  },
  {
   "cell_type": "markdown",
   "id": "dfab094b",
   "metadata": {},
   "source": [
    "# 7. Type Conversion"
   ]
  },
  {
   "cell_type": "code",
   "execution_count": null,
   "id": "1928b399",
   "metadata": {},
   "outputs": [
    {
     "name": "stdout",
     "output_type": "stream",
     "text": [
      "8.4\n",
      "<class 'int'> <class 'float'>\n"
     ]
    }
   ],
   "source": [
    "# Implicit Vs Explicit\n",
    "print(4+4.4)\n",
    "print(type(4),type(4.4))\n",
    "\n",
    "print(4+'4')  # will show an error "
   ]
  },
  {
   "cell_type": "code",
   "execution_count": 54,
   "id": "a4d1f36d",
   "metadata": {},
   "outputs": [
    {
     "data": {
      "text/plain": [
       "4.0"
      ]
     },
     "execution_count": 54,
     "metadata": {},
     "output_type": "execute_result"
    }
   ],
   "source": [
    "# Explicit\n",
    "# str -> int\n",
    "type(int('4'))\n",
    "\n",
    "# int to str\n",
    "type(str(4))\n",
    "\n",
    "# float\n",
    "float(4)"
   ]
  },
  {
   "cell_type": "markdown",
   "id": "7c9efe1d",
   "metadata": {},
   "source": [
    "# 8. Literals"
   ]
  },
  {
   "cell_type": "code",
   "execution_count": 58,
   "id": "dae0d33d",
   "metadata": {},
   "outputs": [
    {
     "name": "stdout",
     "output_type": "stream",
     "text": [
      "10 100 200 300\n",
      "10.5 150.0 0.0015\n",
      "3.14j 3.14 0.0\n"
     ]
    }
   ],
   "source": [
    "a = 0b1010 #Binary Literals\n",
    "b = 100 #Decimal Literals\n",
    "c = 0o310 #Octal Literals\n",
    "d = 0x12c #Hexadecimal Literals\n",
    "\n",
    "# Float Literals\n",
    "float_1 = 10.5\n",
    "float_2 = 1.5e2 # 1.5*10^2\n",
    "float_3 = 1.5e-3\n",
    "\n",
    "#Complex Literals\n",
    "x = 3.14j\n",
    "\n",
    "print(a,b,c,d)\n",
    "print(float_1,float_2,float_3)\n",
    "print(x, x.imag, x.real)"
   ]
  },
  {
   "cell_type": "code",
   "execution_count": 57,
   "id": "6d194997",
   "metadata": {},
   "outputs": [
    {
     "name": "stdout",
     "output_type": "stream",
     "text": [
      "10\n"
     ]
    }
   ],
   "source": [
    "# Binary Literals\n",
    "a = 0b1010\n",
    "print(a)\n"
   ]
  },
  {
   "cell_type": "code",
   "execution_count": 61,
   "id": "de03f202",
   "metadata": {},
   "outputs": [
    {
     "name": "stdout",
     "output_type": "stream",
     "text": [
      "This is a python\n",
      "This is a python\n",
      "c\n",
      "this is a multiline string with more than one line code\n",
      "😀😆🤣\n",
      "raw\\nstring\n"
     ]
    }
   ],
   "source": [
    "string = 'This is a python'\n",
    "strings = \"This is a python\"\n",
    "char = \"c\"\n",
    "multiline_str = \"\"\"this is a multiline string with more than one line code\"\"\"\n",
    "unicode = u\"\\U0001f600\\U0001F606\\U0001F923\"\n",
    "raw_str = r\"raw\\nstring\"\n",
    "\n",
    "print(string)\n",
    "print(strings)\n",
    "print(char)\n",
    "print(multiline_str)\n",
    "print(unicode)\n",
    "print(raw_str)"
   ]
  },
  {
   "cell_type": "code",
   "execution_count": 62,
   "id": "5dba07ff",
   "metadata": {},
   "outputs": [
    {
     "name": "stdout",
     "output_type": "stream",
     "text": [
      "a:  5\n",
      "b: 10\n"
     ]
    }
   ],
   "source": [
    "a = True+4\n",
    "b = False +10\n",
    "print(\"a: \",a)\n",
    "print(\"b:\", b)"
   ]
  },
  {
   "cell_type": "code",
   "execution_count": 63,
   "id": "495b92df",
   "metadata": {},
   "outputs": [
    {
     "name": "stdout",
     "output_type": "stream",
     "text": [
      "None\n"
     ]
    }
   ],
   "source": [
    "a = None\n",
    "print(a)"
   ]
  }
 ],
 "metadata": {
  "kernelspec": {
   "display_name": "Python 3",
   "language": "python",
   "name": "python3"
  },
  "language_info": {
   "codemirror_mode": {
    "name": "ipython",
    "version": 3
   },
   "file_extension": ".py",
   "mimetype": "text/x-python",
   "name": "python",
   "nbconvert_exporter": "python",
   "pygments_lexer": "ipython3",
   "version": "3.9.9"
  }
 },
 "nbformat": 4,
 "nbformat_minor": 5
}
