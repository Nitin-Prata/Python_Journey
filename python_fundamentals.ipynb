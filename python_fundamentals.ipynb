{
 "cells": [
  {
   "cell_type": "markdown",
   "id": "82a96fad",
   "metadata": {},
   "source": [
    "# python fundamentals\n",
    "\n",
    "### Why Python?\n",
    "+ 1. Design Philosophy\n",
    "+ 2. Batteries Included\n",
    "+ 3. General Purpose\n",
    "+ 4. Libraries/Community"
   ]
  },
  {
   "cell_type": "markdown",
   "id": "23a032a6",
   "metadata": {},
   "source": [
    "### Why Python for Data Science\n",
    "+ 1. Easy to learn\n",
    "+ 2. Proximity with Maths\n",
    "+ 3. Community"
   ]
  },
  {
   "cell_type": "markdown",
   "id": "b1851032",
   "metadata": {},
   "source": [
    "## 1. Python Output"
   ]
  },
  {
   "cell_type": "markdown",
   "id": "117310c4",
   "metadata": {},
   "source": [
    "+ python ke kese bhe data type ko . print function ke andar daal kar print kar sakte hai\n",
    "+ you can print multiple things at time using print function and will be space seprated\n"
   ]
  },
  {
   "cell_type": "code",
   "execution_count": 3,
   "id": "0e9ea453",
   "metadata": {},
   "outputs": [
    {
     "name": "stdout",
     "output_type": "stream",
     "text": [
      "Hello World\n"
     ]
    }
   ],
   "source": [
    "# Python is a case sensitive language\n",
    "print('Hello World')"
   ]
  },
  {
   "cell_type": "code",
   "execution_count": null,
   "id": "9c88f45b",
   "metadata": {},
   "outputs": [],
   "source": []
  },
  {
   "cell_type": "code",
   "execution_count": 4,
   "id": "6429ab63",
   "metadata": {},
   "outputs": [
    {
     "name": "stdout",
     "output_type": "stream",
     "text": [
      "7\n"
     ]
    }
   ],
   "source": [
    "print(7)"
   ]
  },
  {
   "cell_type": "code",
   "execution_count": 5,
   "id": "706f45ec",
   "metadata": {},
   "outputs": [
    {
     "name": "stdout",
     "output_type": "stream",
     "text": [
      "True\n"
     ]
    }
   ],
   "source": [
    "print(True)"
   ]
  },
  {
   "cell_type": "code",
   "execution_count": 6,
   "id": "c1b9efc9",
   "metadata": {},
   "outputs": [
    {
     "name": "stdout",
     "output_type": "stream",
     "text": [
      "1.1\n"
     ]
    }
   ],
   "source": [
    "print(1.1)"
   ]
  },
  {
   "cell_type": "code",
   "execution_count": 7,
   "id": "ca09cce8",
   "metadata": {},
   "outputs": [
    {
     "name": "stdout",
     "output_type": "stream",
     "text": [
      "Hello,World 1 1.1 True\n"
     ]
    }
   ],
   "source": [
    "print('Hello,World',1,1.1,True)"
   ]
  },
  {
   "cell_type": "code",
   "execution_count": 8,
   "id": "0405466b",
   "metadata": {},
   "outputs": [
    {
     "name": "stdout",
     "output_type": "stream",
     "text": [
      "Hello,World-1-1.1-True\n"
     ]
    }
   ],
   "source": [
    "# sep ke wjah se hi multiple things ke beach mai space aa jata hai but we can change that behaviour\n",
    "print('Hello,World',1,1.1,True,sep='-')"
   ]
  },
  {
   "cell_type": "code",
   "execution_count": 9,
   "id": "7e9ec580",
   "metadata": {},
   "outputs": [
    {
     "name": "stdout",
     "output_type": "stream",
     "text": [
      "hello\n",
      "world\n"
     ]
    }
   ],
   "source": [
    "# if we use two print statement togeather the o/p will be print in different line \n",
    "# it happens becoz end = '\\n'\n",
    "print('hello')\n",
    "print('world')"
   ]
  },
  {
   "cell_type": "code",
   "execution_count": 10,
   "id": "aea008fc",
   "metadata": {},
   "outputs": [
    {
     "name": "stdout",
     "output_type": "stream",
     "text": [
      "hello-world\n"
     ]
    }
   ],
   "source": [
    "print('hello',end='-')\n",
    "print('world')"
   ]
  },
  {
   "cell_type": "markdown",
   "id": "e56d3826",
   "metadata": {},
   "source": [
    "# 2. Data Types \n",
    "+ data types means ki woh programming langauge kitne type ke data ke sath kaam kar sakte hai"
   ]
  },
  {
   "cell_type": "code",
   "execution_count": 11,
   "id": "e574dad7",
   "metadata": {},
   "outputs": [
    {
     "name": "stdout",
     "output_type": "stream",
     "text": [
      "2\n",
      "1e+308\n"
     ]
    }
   ],
   "source": [
    "# Integer\n",
    "print(2)\n",
    "# range -> 1*10^309 -> MAXIMUN integer python can handle\n",
    "print(1e308)"
   ]
  },
  {
   "cell_type": "code",
   "execution_count": 12,
   "id": "6cd06cac",
   "metadata": {},
   "outputs": [
    {
     "name": "stdout",
     "output_type": "stream",
     "text": [
      "8.55\n"
     ]
    }
   ],
   "source": [
    "# Decimal/Float\n",
    "# range -> 1*10^309 -> MAXIMUN float python can handle\n",
    "print(8.55)"
   ]
  },
  {
   "cell_type": "code",
   "execution_count": 13,
   "id": "b823488f",
   "metadata": {},
   "outputs": [
    {
     "name": "stdout",
     "output_type": "stream",
     "text": [
      "True\n",
      "False\n"
     ]
    }
   ],
   "source": [
    "# Boolean -> it is not text\n",
    "print(True)\n",
    "print(False)"
   ]
  },
  {
   "cell_type": "code",
   "execution_count": 14,
   "id": "61f4364d",
   "metadata": {},
   "outputs": [
    {
     "name": "stdout",
     "output_type": "stream",
     "text": [
      "Hello,World\n"
     ]
    }
   ],
   "source": [
    "# Text/String -> there is no char data type in python , here is a string\n",
    "print('Hello,World')"
   ]
  },
  {
   "cell_type": "code",
   "execution_count": 15,
   "id": "27e2f95f",
   "metadata": {},
   "outputs": [
    {
     "name": "stdout",
     "output_type": "stream",
     "text": [
      "(5+6j)\n"
     ]
    }
   ],
   "source": [
    "# complex\n",
    "print(5+6j)"
   ]
  },
  {
   "cell_type": "code",
   "execution_count": 16,
   "id": "1188c52a",
   "metadata": {},
   "outputs": [
    {
     "name": "stdout",
     "output_type": "stream",
     "text": [
      "[1, 2, 3, 4]\n"
     ]
    }
   ],
   "source": [
    "# List-> C-> Array -> square bracket , comma seprated items\n",
    "print([1,2,3,4])"
   ]
  },
  {
   "cell_type": "code",
   "execution_count": 17,
   "id": "710d5df9",
   "metadata": {},
   "outputs": [
    {
     "name": "stdout",
     "output_type": "stream",
     "text": [
      "(1, 2, 3, 4)\n",
      "\n"
     ]
    }
   ],
   "source": [
    "# Tuple -> pernthesis bracket , comma seprated items\n",
    "print((1,2,3,4))"
   ]
  },
  {
   "cell_type": "code",
   "execution_count": 18,
   "id": "cae87ed2",
   "metadata": {},
   "outputs": [
    {
     "name": "stdout",
     "output_type": "stream",
     "text": [
      "{1, 2, 3, 4, 5}\n"
     ]
    }
   ],
   "source": [
    "# Sets  -> curly bracket , comma seprated items\n",
    "print({1,2,3,4,5})"
   ]
  },
  {
   "cell_type": "code",
   "execution_count": 19,
   "id": "52947ea2",
   "metadata": {},
   "outputs": [
    {
     "name": "stdout",
     "output_type": "stream",
     "text": [
      "{'name': 'Vishant', 'gender': 'Male', 'Weight': 50}\n"
     ]
    }
   ],
   "source": [
    "# Dictionary -> curly bracket with keys and values , comma seprated items\n",
    "print({'name':'Vishant','gender':'Male','Weight':50})"
   ]
  },
  {
   "cell_type": "markdown",
   "id": "e5ee4bf8",
   "metadata": {},
   "source": [
    "# 3. Function"
   ]
  },
  {
   "cell_type": "code",
   "execution_count": 20,
   "id": "983e2759",
   "metadata": {},
   "outputs": [
    {
     "data": {
      "text/plain": [
       "int"
      ]
     },
     "execution_count": 20,
     "metadata": {},
     "output_type": "execute_result"
    }
   ],
   "source": [
    "# type -> it is a function and iske andar hum joh bhe data type dalte hai yeh usko detect kar leta hai and uska type bata deta hai\n",
    "type(3)"
   ]
  },
  {
   "cell_type": "markdown",
   "id": "4b6646fe",
   "metadata": {},
   "source": [
    "# 4. Variables\n",
    "+ variables basically are containers jha par hum kuch bhe information store kar sakte hai\n",
    "\n",
    "+ or they are container for the future use"
   ]
  },
  {
   "cell_type": "code",
   "execution_count": 21,
   "id": "2225e086",
   "metadata": {},
   "outputs": [],
   "source": [
    "# Static Vs Dynamic Typing\n",
    "# Static Vs Dynamic Binding\n",
    "# stylish Declaration techniques"
   ]
  },
  {
   "cell_type": "code",
   "execution_count": 22,
   "id": "aa9a5f57",
   "metadata": {},
   "outputs": [
    {
     "name": "stdout",
     "output_type": "stream",
     "text": [
      "nitin\n",
      "11\n"
     ]
    }
   ],
   "source": [
    "# in python we do not need to mentioned the data type \n",
    "name = 'nitin' # create a variable\n",
    "print(name)  # use it\n",
    "a = 5\n",
    "b = 6\n",
    "print(a+b)"
   ]
  },
  {
   "cell_type": "code",
   "execution_count": 23,
   "id": "4366fbf1",
   "metadata": {},
   "outputs": [],
   "source": [
    "# Dynamic Typing -> where u do not tell the data type of vriable u just create and assign the value , python support it\n",
    "a = 5\n",
    "# Static Typing -> u tell the data type of variable\n",
    "# int a = 5\n"
   ]
  },
  {
   "cell_type": "code",
   "execution_count": 24,
   "id": "3b62cbcc",
   "metadata": {},
   "outputs": [
    {
     "name": "stdout",
     "output_type": "stream",
     "text": [
      "5\n",
      "Nitin\n"
     ]
    }
   ],
   "source": [
    "# Dynamic Binding -> in python variable ka data type fix ni hota woh kbhi bhe kuch bhe ban sakta hai \n",
    "a = 5\n",
    "print(a)\n",
    "a = 'Nitin'\n",
    "print(a)\n",
    "\n",
    "# Static Binding -> in static Binding once u create a data type u can not change it in whole program\n",
    "# int a = 5\n"
   ]
  },
  {
   "cell_type": "code",
   "execution_count": 25,
   "id": "8cb698b2",
   "metadata": {},
   "outputs": [
    {
     "name": "stdout",
     "output_type": "stream",
     "text": [
      "1 2 3\n"
     ]
    }
   ],
   "source": [
    "# stylish Declaration techniques -> ek sath multiple variable ko create karke use kar sakte hai\n",
    "a = 1\n",
    "b = 2\n",
    "c = 3\n",
    "print(a,b,c)\n"
   ]
  },
  {
   "cell_type": "code",
   "execution_count": 26,
   "id": "2e24ea52",
   "metadata": {},
   "outputs": [
    {
     "name": "stdout",
     "output_type": "stream",
     "text": [
      "1 2 3\n"
     ]
    }
   ],
   "source": [
    "a,b,c = 1,2,3\n",
    "print(a,b,c)"
   ]
  },
  {
   "cell_type": "code",
   "execution_count": 27,
   "id": "5fe657f2",
   "metadata": {},
   "outputs": [
    {
     "name": "stdout",
     "output_type": "stream",
     "text": [
      "5 5 5\n"
     ]
    }
   ],
   "source": [
    "a=b=c=5\n",
    "print(a,b,c)"
   ]
  },
  {
   "cell_type": "markdown",
   "id": "66d2c3aa",
   "metadata": {},
   "source": [
    "### Comments \n",
    "+ use for the understanding of the code\n",
    "+ or to explain ki code mai kya likha hai"
   ]
  },
  {
   "cell_type": "markdown",
   "id": "7d4b1f2f",
   "metadata": {},
   "source": [
    "# 5. Keywords and Identifiers"
   ]
  },
  {
   "cell_type": "code",
   "execution_count": 28,
   "id": "51a9b571",
   "metadata": {},
   "outputs": [],
   "source": [
    "# Keywords -> there a certain words reserved by the compiler and interpreter jo woh apne liye use karte hai , program ko smajhne ke liye so this is called keyword and there is 32 keywords in python\n",
    "# compilation is the process where we create our code into binary code , in compilation pura code ek sath binary mai convert ho jata hai and in interpretaion mai line by line hota hai"
   ]
  },
  {
   "cell_type": "code",
   "execution_count": 29,
   "id": "1c809e20",
   "metadata": {},
   "outputs": [],
   "source": [
    "# Identifiers -> as a progammer hum joh bhe name dete hai in a program ukso identifier bolte hai eg: variable name,function name , class name\n",
    "# You can't start with a digit \n",
    "# You can use only special chars like - in variable names\n",
    "my_var = 'nitin'\n",
    "_ = 'a'\n",
    "\n",
    "# identifiers can not be keyword"
   ]
  },
  {
   "cell_type": "markdown",
   "id": "291dbefe",
   "metadata": {},
   "source": [
    "# 6. User Input"
   ]
  },
  {
   "cell_type": "code",
   "execution_count": 30,
   "id": "b8052ada",
   "metadata": {},
   "outputs": [
    {
     "data": {
      "text/plain": [
       "'nitin'"
      ]
     },
     "execution_count": 30,
     "metadata": {},
     "output_type": "execute_result"
    }
   ],
   "source": [
    "# static Vs Dynamic Software\n",
    "# static software user se baat ni karte woh bs information dene ke kaam aate hai eg wikipedia , calnder,blog\n",
    "# in dynamic user baat karta hai , input deta hai , eg is yt ,insta,olla,zomato\n",
    "input('Write Your Name ')"
   ]
  },
  {
   "cell_type": "code",
   "execution_count": 31,
   "id": "56013c34",
   "metadata": {},
   "outputs": [
    {
     "name": "stdout",
     "output_type": "stream",
     "text": [
      "2\n",
      "<class 'int'>\n"
     ]
    }
   ],
   "source": [
    "# take input from users and store them in a variable\n",
    "a = int(input('enter the first number'))\n",
    "b = int(input('enter the second Number'))\n",
    "# add the 2 variables\n",
    "sum = a+b\n",
    "# print the sum\n",
    "print(sum)\n",
    "print(type(b)) # -> string becoz python mai jbh hum type conversion karte hai toh ek new object banta hai\n",
    "\n",
    "# Note : jbh bhi hum user se input lete hai toh python usko as a string store karta hai because string is a universal format means string mai hum dusra data type store kar sakte hai "
   ]
  },
  {
   "cell_type": "markdown",
   "id": "dfab094b",
   "metadata": {},
   "source": [
    "# 7. Type Conversion\n",
    "ek data type ko dusre data type mai convert karna"
   ]
  },
  {
   "cell_type": "code",
   "execution_count": 32,
   "id": "1928b399",
   "metadata": {},
   "outputs": [
    {
     "name": "stdout",
     "output_type": "stream",
     "text": [
      "8.4\n",
      "<class 'int'> <class 'float'>\n"
     ]
    },
    {
     "ename": "TypeError",
     "evalue": "unsupported operand type(s) for +: 'int' and 'str'",
     "output_type": "error",
     "traceback": [
      "\u001b[1;31m---------------------------------------------------------------------------\u001b[0m",
      "\u001b[1;31mTypeError\u001b[0m                                 Traceback (most recent call last)",
      "Cell \u001b[1;32mIn[32], line 6\u001b[0m\n\u001b[0;32m      3\u001b[0m \u001b[38;5;28mprint\u001b[39m(\u001b[38;5;241m4\u001b[39m\u001b[38;5;241m+\u001b[39m\u001b[38;5;241m4.4\u001b[39m)\n\u001b[0;32m      4\u001b[0m \u001b[38;5;28mprint\u001b[39m(\u001b[38;5;28mtype\u001b[39m(\u001b[38;5;241m4\u001b[39m),\u001b[38;5;28mtype\u001b[39m(\u001b[38;5;241m4.4\u001b[39m))\n\u001b[1;32m----> 6\u001b[0m \u001b[38;5;28mprint\u001b[39m(\u001b[38;5;241;43m4\u001b[39;49m\u001b[43m \u001b[49m\u001b[38;5;241;43m+\u001b[39;49m\u001b[43m \u001b[49m\u001b[38;5;124;43m'\u001b[39;49m\u001b[38;5;124;43m1\u001b[39;49m\u001b[38;5;124;43m'\u001b[39;49m)   \u001b[38;5;66;03m# will show an error \u001b[39;00m\n",
      "\u001b[1;31mTypeError\u001b[0m: unsupported operand type(s) for +: 'int' and 'str'"
     ]
    }
   ],
   "source": [
    "# Implicit Vs Explicit\n",
    "# Implicit means jha par interpreter khud kar deta hai eg is here:\n",
    "print(4+4.4)\n",
    "print(type(4),type(4.4))\n",
    "\n",
    "print(4 + '1')   # will show an error "
   ]
  },
  {
   "cell_type": "code",
   "execution_count": null,
   "id": "a4d1f36d",
   "metadata": {},
   "outputs": [
    {
     "data": {
      "text/plain": [
       "4.0"
      ]
     },
     "execution_count": 8,
     "metadata": {},
     "output_type": "execute_result"
    }
   ],
   "source": [
    "# Explicit -> jabh programmer khud se type change karta hai\n",
    "# str -> int\n",
    "type(int('4'))\n",
    "\n",
    "# int to str\n",
    "type(str(4))\n",
    "\n",
    "# float\n",
    "float(4)"
   ]
  },
  {
   "cell_type": "markdown",
   "id": "7c9efe1d",
   "metadata": {},
   "source": [
    "# 8. Literals\n",
    "joh bhe row value hum store karte hai inside the variable usko bolte hai literals"
   ]
  },
  {
   "cell_type": "code",
   "execution_count": null,
   "id": "dae0d33d",
   "metadata": {},
   "outputs": [
    {
     "name": "stdout",
     "output_type": "stream",
     "text": [
      "10 100 200 300\n",
      "10.5 150.0 0.0015\n",
      "3.14j 3.14 0.0\n"
     ]
    }
   ],
   "source": [
    "a = 0b1010 #Binary Literals\n",
    "b = 100 #Decimal Literals\n",
    "c = 0o310 #Octal Literals\n",
    "d = 0x12c #Hexadecimal Literals\n",
    "\n",
    "# Float Literals\n",
    "float_1 = 10.5\n",
    "float_2 = 1.5e2 # 1.5*10^2 -> scientific method\n",
    "float_3 = 1.5e-3\n",
    "\n",
    "#Complex Literals\n",
    "x = 3.14j\n",
    "\n",
    "print(a,b,c,d)\n",
    "print(float_1,float_2,float_3)\n",
    "print(x, x.imag, x.real)"
   ]
  },
  {
   "cell_type": "code",
   "execution_count": null,
   "id": "cc986cad",
   "metadata": {},
   "outputs": [
    {
     "name": "stdout",
     "output_type": "stream",
     "text": [
      "10.5\n"
     ]
    }
   ],
   "source": [
    "a = 10.5\n",
    "print(a)"
   ]
  },
  {
   "cell_type": "code",
   "execution_count": null,
   "id": "6d194997",
   "metadata": {},
   "outputs": [
    {
     "name": "stdout",
     "output_type": "stream",
     "text": [
      "10\n"
     ]
    }
   ],
   "source": [
    "# Binary Literals\n",
    "a = 0b1010\n",
    "print(a)\n"
   ]
  },
  {
   "cell_type": "code",
   "execution_count": null,
   "id": "de03f202",
   "metadata": {},
   "outputs": [
    {
     "name": "stdout",
     "output_type": "stream",
     "text": [
      "This is a python\n",
      "This is a python\n",
      "c\n",
      "this is a multiline string with more than one line code\n",
      "😀😆🤣\n",
      "raw\\nstring\n"
     ]
    }
   ],
   "source": [
    "string = 'This is a python'\n",
    "strings = \"This is a python\"\n",
    "char = \"c\"\n",
    "multiline_str = \"\"\"this is a multiline string with more than one line code\"\"\"\n",
    "unicode = u\"\\U0001f600\\U0001F606\\U0001F923\" # emojis \n",
    "raw_str = r\"raw\\nstring\" \n",
    "\n",
    "print(string)\n",
    "print(strings)\n",
    "print(char)\n",
    "print(multiline_str)\n",
    "print(unicode)\n",
    "print(raw_str)"
   ]
  },
  {
   "cell_type": "code",
   "execution_count": null,
   "id": "5dba07ff",
   "metadata": {},
   "outputs": [
    {
     "name": "stdout",
     "output_type": "stream",
     "text": [
      "a:  5\n",
      "b: 10\n"
     ]
    }
   ],
   "source": [
    "a = True+4\n",
    "b = False +10\n",
    "print(\"a: \",a)\n",
    "print(\"b:\", b)"
   ]
  },
  {
   "cell_type": "code",
   "execution_count": null,
   "id": "495b92df",
   "metadata": {},
   "outputs": [
    {
     "name": "stdout",
     "output_type": "stream",
     "text": [
      "None\n"
     ]
    }
   ],
   "source": [
    "a = None # none means nothing , u can declare a vraible with none value and then store some other vlaues\n",
    "print(a)"
   ]
  },
  {
   "cell_type": "markdown",
   "id": "ce25513d",
   "metadata": {},
   "source": [
    "### Important Points\n",
    "+ **`split()`** converts a string into a list of strings, and **`map(int, ...)`** converts each item in that list to an integer.\n"
   ]
  },
  {
   "cell_type": "markdown",
   "id": "e99bcc52",
   "metadata": {},
   "source": [
    "🔹 \"a\" \"b\" → \"ab\"  \n",
    "    - When two strings are written side by side, Python joins them automatically.  \n",
    "    - This is called **implicit string concatenation**.  \n",
    "    - Works only with string **literals**, not with variables.\n",
    "\n",
    "🔹 print(\"a\", \"b\", sep=\"-\") → a-b  \n",
    "    - `sep` adds something **between** multiple values.  \n",
    "    - It has no effect if you print only one value.\n",
    "\n",
    "🔹 print(..., end=\"-\")  \n",
    "    - `end` controls what comes **after** the print.  \n",
    "    - Default is newline (`\\n`).  \n",
    "    - `end=\"-\"` keeps printing on the same line with a dash.\n",
    "\n",
    "🔹 To join words with `-`, do:\n",
    "    print(\"word1\", \"word2\", ..., sep=\"-\")\n",
    "\n",
    "🔹 Wrong:\n",
    "    a = \"Hello\" \"World\" → becomes \"HelloWorld\" (no space or dash)\n",
    "    print(a, sep=\"-\") → does nothing, because `a` is one value\n"
   ]
  },
  {
   "cell_type": "markdown",
   "id": "e11bea7c",
   "metadata": {},
   "source": [
    "1. Volume = space inside something.\n",
    "2. Glass volume tells how much milk it holds.\n",
    "3. Tank volume tells how much milk it contains.\n",
    "4. To know how many glasses fit: divide tank volume by glass volume.\n"
   ]
  }
 ],
 "metadata": {
  "kernelspec": {
   "display_name": "Python 3",
   "language": "python",
   "name": "python3"
  },
  "language_info": {
   "codemirror_mode": {
    "name": "ipython",
    "version": 3
   },
   "file_extension": ".py",
   "mimetype": "text/x-python",
   "name": "python",
   "nbconvert_exporter": "python",
   "pygments_lexer": "ipython3",
   "version": "3.9.9"
  }
 },
 "nbformat": 4,
 "nbformat_minor": 5
}
