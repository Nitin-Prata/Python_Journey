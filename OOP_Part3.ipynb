{
 "cells": [
  {
   "cell_type": "markdown",
   "id": "b3f55f77",
   "metadata": {},
   "source": [
    "### Class Relationships\n",
    "+ Aggregation  -> has a relation (one class owns the other class)\n",
    "+ Inheritance"
   ]
  },
  {
   "cell_type": "markdown",
   "id": "4ffb274d",
   "metadata": {},
   "source": [
    "### Aggregation(Has-A relationship)"
   ]
  },
  {
   "cell_type": "code",
   "execution_count": 18,
   "id": "ab138ab7",
   "metadata": {},
   "outputs": [
    {
     "name": "stdout",
     "output_type": "stream",
     "text": [
      "sre 1234 up\n",
      "nakur 1111 hp\n"
     ]
    }
   ],
   "source": [
    "class Customer:\n",
    "\n",
    "    def __init__ (self,name,gender,address):\n",
    "        self.name = name\n",
    "        self.gender = gender\n",
    "        self.address = address\n",
    "\n",
    "    def print_address(self):\n",
    "        print(self.address.get_city(), self.address.pin, self.address.state)\n",
    "\n",
    "    def edit_profile(self,new_name,new_city,new_pin,new_state):\n",
    "        self.name = new_name\n",
    "        self.address.edit_address(new_city,new_pin,new_state)\n",
    "\n",
    "class address:\n",
    "\n",
    "    def __init__ (self,city,pin,state):\n",
    "        self.__city = city\n",
    "        self.pin = pin\n",
    "        self.state = state\n",
    "\n",
    "    def get_city(self):\n",
    "        return self.__city\n",
    "\n",
    "    def edit_address(self,new_city,new_pin,new_state):\n",
    "        self.__city = new_city\n",
    "        self.pin  = new_pin\n",
    "        self.state = new_state\n",
    "\n",
    "ad1 = address('sre','1234','up')\n",
    "cust1 = Customer('niitn','M',ad1)\n",
    "\n",
    "cust1.print_address()\n",
    "\n",
    "cust1.edit_profile('rohit','nakur',1111,'hp')\n",
    "cust1.print_address()\n",
    "\n",
    "# method example\n",
    "# what about private attribute"
   ]
  },
  {
   "cell_type": "markdown",
   "id": "cdbfd78c",
   "metadata": {},
   "source": [
    "### Aggregation Class Diagram"
   ]
  },
  {
   "cell_type": "markdown",
   "id": "e92f40e5",
   "metadata": {},
   "source": [
    "### Inheritance\n",
    "+ What is inheritance\n",
    "+ Example  (reusability)\n",
    "+ What gets inherited?"
   ]
  },
  {
   "cell_type": "code",
   "execution_count": 19,
   "id": "27ba2347",
   "metadata": {},
   "outputs": [],
   "source": [
    "# Inheritance and it's benefits"
   ]
  },
  {
   "cell_type": "code",
   "execution_count": 34,
   "id": "fa6696f1",
   "metadata": {},
   "outputs": [
    {
     "name": "stdout",
     "output_type": "stream",
     "text": [
      "nitin\n",
      "login\n",
      "enroll into the course\n"
     ]
    }
   ],
   "source": [
    "# Example\n",
    "\n",
    "class User:  # parent\n",
    "\n",
    "    def __init__(self):\n",
    "        self.name = 'nitin'\n",
    "\n",
    "    def login(self):\n",
    "        print('login')\n",
    "\n",
    "class Student(User):   # child\n",
    "\n",
    "    \n",
    "\n",
    "    def enroll(self):\n",
    "        print('enroll into the course')\n",
    "\n",
    "U = User()\n",
    "S = Student()\n",
    "\n",
    "print(S.name)\n",
    "S.login()\n",
    "S.enroll()"
   ]
  },
  {
   "cell_type": "code",
   "execution_count": 21,
   "id": "c78c55dd",
   "metadata": {},
   "outputs": [],
   "source": [
    "# class diagram"
   ]
  },
  {
   "cell_type": "markdown",
   "id": "52564414",
   "metadata": {},
   "source": [
    "### What gets inherited?\n",
    "+ Constructor\n",
    "+ Non Private Attributes\n",
    "+ Non Private Methods"
   ]
  },
  {
   "cell_type": "code",
   "execution_count": 35,
   "id": "50d075b8",
   "metadata": {},
   "outputs": [
    {
     "name": "stdout",
     "output_type": "stream",
     "text": [
      "Inside phone constructor\n",
      "Buying a phone\n"
     ]
    }
   ],
   "source": [
    "# constructor example\n",
    "\n",
    "class Phone:\n",
    "    def __init__(self, price, brand, camera):\n",
    "        print (\"Inside phone constructor\")\n",
    "        self.price = price\n",
    "        self.brand = brand\n",
    "        self.camera = camera\n",
    "\n",
    "    def buy(self):\n",
    "        print (\"Buying a phone\")\n",
    "\n",
    "class SmartPhone(Phone):\n",
    "    pass\n",
    "\n",
    "s=SmartPhone(20000, \"Apple\", 13)\n",
    "s.buy()"
   ]
  }
 ],
 "metadata": {
  "kernelspec": {
   "display_name": "Python 3",
   "language": "python",
   "name": "python3"
  },
  "language_info": {
   "codemirror_mode": {
    "name": "ipython",
    "version": 3
   },
   "file_extension": ".py",
   "mimetype": "text/x-python",
   "name": "python",
   "nbconvert_exporter": "python",
   "pygments_lexer": "ipython3",
   "version": "3.9.9"
  }
 },
 "nbformat": 4,
 "nbformat_minor": 5
}
