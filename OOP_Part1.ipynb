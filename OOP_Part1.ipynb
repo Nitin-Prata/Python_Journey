{
 "cells": [
  {
   "cell_type": "code",
   "execution_count": null,
   "id": "e4f54ca6",
   "metadata": {},
   "outputs": [
    {
     "name": "stdout",
     "output_type": "stream",
     "text": [
      "<class 'list'>\n"
     ]
    }
   ],
   "source": [
    "L = [1,2,3,4]\n",
    "print(type(L))\n",
    "    "
   ]
  },
  {
   "cell_type": "markdown",
   "id": "d48c9453",
   "metadata": {},
   "source": [
    "### Class\n",
    "### 1. Attribute/Data/Property\n",
    "### 2. Functions/behavior\n",
    "### Class is a blueprint"
   ]
  },
  {
   "cell_type": "markdown",
   "id": "75f7ff33",
   "metadata": {},
   "source": [
    "### Object is an instance of the class"
   ]
  },
  {
   "cell_type": "code",
   "execution_count": 6,
   "id": "9365c39d",
   "metadata": {},
   "outputs": [],
   "source": [
    "# syntax to create an object\n",
    "# objectname = classname()"
   ]
  },
  {
   "cell_type": "code",
   "execution_count": 7,
   "id": "cfb1e9ce",
   "metadata": {},
   "outputs": [],
   "source": [
    "# object literal\n",
    "L = [1,2,3,4]"
   ]
  },
  {
   "cell_type": "code",
   "execution_count": 8,
   "id": "24dca4b2",
   "metadata": {},
   "outputs": [
    {
     "data": {
      "text/plain": [
       "[]"
      ]
     },
     "execution_count": 8,
     "metadata": {},
     "output_type": "execute_result"
    }
   ],
   "source": [
    "L = list()\n",
    "L"
   ]
  },
  {
   "cell_type": "code",
   "execution_count": 9,
   "id": "23fd911a",
   "metadata": {},
   "outputs": [
    {
     "data": {
      "text/plain": [
       "''"
      ]
     },
     "execution_count": 9,
     "metadata": {},
     "output_type": "execute_result"
    }
   ],
   "source": [
    "s = str()\n",
    "s"
   ]
  },
  {
   "cell_type": "code",
   "execution_count": null,
   "id": "753149e6",
   "metadata": {
    "vscode": {
     "languageId": "ruby"
    }
   },
   "outputs": [],
   "source": [
    "# ATM Machine code\n",
    "# Class name should be in pascal case HelloWorld\n",
    "# user defined class\n",
    "class Atm:\n",
    "\n",
    "    def __init__(self): # constructor(special function) \n",
    "        self.pin = ''\n",
    "        self.balance = 0\n",
    "\n",
    "\n",
    "        def menu(self):\n",
    "            user_input = input(\"\"\"\n",
    "            Hi how can i help you?\n",
    "            \n",
    "            \"\"\")\n",
    "\n"
   ]
  },
  {
   "cell_type": "code",
   "execution_count": 13,
   "id": "6b9f3090",
   "metadata": {},
   "outputs": [
    {
     "name": "stdout",
     "output_type": "stream",
     "text": [
      "<class '__main__.Atm'>\n"
     ]
    }
   ],
   "source": [
    "obj = Atm()\n",
    "print(type(obj))"
   ]
  },
  {
   "cell_type": "code",
   "execution_count": null,
   "id": "be871889",
   "metadata": {},
   "outputs": [],
   "source": []
  },
  {
   "cell_type": "code",
   "execution_count": null,
   "id": "f587439b",
   "metadata": {},
   "outputs": [],
   "source": []
  }
 ],
 "metadata": {
  "kernelspec": {
   "display_name": "Python 3",
   "language": "python",
   "name": "python3"
  },
  "language_info": {
   "codemirror_mode": {
    "name": "ipython",
    "version": 3
   },
   "file_extension": ".py",
   "mimetype": "text/x-python",
   "name": "python",
   "nbconvert_exporter": "python",
   "pygments_lexer": "ipython3",
   "version": "3.9.9"
  }
 },
 "nbformat": 4,
 "nbformat_minor": 5
}
