{
 "cells": [
  {
   "cell_type": "markdown",
   "id": "41984f7f",
   "metadata": {},
   "source": [
    "# Operators in Python\n",
    "do operands ke uppar jbh koi operation laghate hai , so operation karne ke liye joh cheez hum use karte hai usko operators bolte hai\n",
    "\n",
    "### 1. Arithmetic Operators\n",
    "\n",
    "### 2. Relational Opeartors\n",
    "\n",
    "### 3. Logical Operators\n",
    "\n",
    "### 4. Bitwis Operators\n",
    "\n",
    "### 5. Assignment Operators\n",
    "\n",
    "### 6. Membership Operators\n"
   ]
  },
  {
   "cell_type": "code",
   "execution_count": null,
   "id": "da1ffc55",
   "metadata": {},
   "outputs": [
    {
     "name": "stdout",
     "output_type": "stream",
     "text": [
      "11\n",
      "-1\n",
      "30\n",
      "0.8333333333333334\n",
      "0\n",
      "1\n",
      "25\n"
     ]
    }
   ],
   "source": [
    "# Arithmetic Operators\n",
    "print(5+6)\n",
    "print(5-6)\n",
    "print(5*6)\n",
    "print(5/6) # returns quotient  and 5 is dividend and 6 dvisior\n",
    "print(5//6) # Integer devision opeartor -> decimal quetionet ko integer mai convert kar deta hai\n",
    "print(5%2) # modulo operator gives reminder\n",
    "print(5**2)  # power of operator \n"
   ]
  },
  {
   "cell_type": "code",
   "execution_count": 3,
   "id": "42bea5d8",
   "metadata": {},
   "outputs": [
    {
     "name": "stdout",
     "output_type": "stream",
     "text": [
      "False\n",
      "True\n",
      "True\n",
      "False\n"
     ]
    }
   ],
   "source": [
    "# Relational Opeartors -> use for comparision\n",
    "print(4>5)\n",
    "print(4<5)\n",
    "print(4==4)\n",
    "print(4!=4)"
   ]
  },
  {
   "cell_type": "code",
   "execution_count": null,
   "id": "deabc5f3",
   "metadata": {},
   "outputs": [
    {
     "name": "stdout",
     "output_type": "stream",
     "text": [
      "0\n",
      "1\n",
      "False\n"
     ]
    }
   ],
   "source": [
    "# Logical Operators\n",
    "print(1 and 0)\n",
    "print(1 or 0) \n",
    "print(not 1)"
   ]
  },
  {
   "cell_type": "code",
   "execution_count": null,
   "id": "00661b58",
   "metadata": {},
   "outputs": [
    {
     "name": "stdout",
     "output_type": "stream",
     "text": [
      "2\n",
      "3\n",
      "1\n",
      "-4\n",
      "1\n",
      "20\n"
     ]
    }
   ],
   "source": [
    "# Bitwise opeartors ->  they operate on bitwise value\n",
    "# bitwise and\n",
    "print(2 & 3)\n",
    "\n",
    "#bitwise or\n",
    "print(2 | 3)\n",
    "\n",
    "#bitwise xor\n",
    "print(2 ^ 3)\n",
    "\n",
    "#bitwise ~\n",
    "print(~3)\n",
    "\n",
    "#bitwise right swift\n",
    "print(4>>2)\n",
    "\n",
    "#bitwise left swift\n",
    "print(5<<2)\n",
    "\n",
    "\n"
   ]
  },
  {
   "cell_type": "code",
   "execution_count": 9,
   "id": "5addc8d2",
   "metadata": {},
   "outputs": [
    {
     "name": "stdout",
     "output_type": "stream",
     "text": [
      "4\n"
     ]
    }
   ],
   "source": [
    "# Assignment Operators\n",
    "# =\n",
    "a = 2\n",
    "a+=2\n",
    "print(a)"
   ]
  },
  {
   "cell_type": "code",
   "execution_count": 11,
   "id": "9059993c",
   "metadata": {},
   "outputs": [
    {
     "name": "stdout",
     "output_type": "stream",
     "text": [
      "True\n",
      "False\n"
     ]
    }
   ],
   "source": [
    "#Membership Opearotrs\n",
    "# in/not in\n",
    "\n",
    "print('D' in 'Delhi')\n",
    "print(1 in [2,3,4])\n"
   ]
  },
  {
   "cell_type": "code",
   "execution_count": 27,
   "id": "3c58adcd",
   "metadata": {},
   "outputs": [
    {
     "name": "stdout",
     "output_type": "stream",
     "text": [
      "6\n"
     ]
    }
   ],
   "source": [
    "# Program - Find the sum of a 3 digit number entered by the user\n",
    "num = int(input(\"Enter a 3 digit number \"))\n",
    "# 345%10\n",
    "a = num%10 # gives last digit\n",
    "num = num // 10 # integer division -> will give 34\n",
    "\n",
    "# 34%10\n",
    "b = num% 10\n",
    "num = num // 10\n",
    "\n",
    "\n",
    "# 3%10\n",
    "c= num\n",
    "print(a+b+c)"
   ]
  },
  {
   "cell_type": "markdown",
   "id": "667540ec",
   "metadata": {},
   "source": [
    "# if-else in python\n",
    "->use case of if-else  to handle branching in the program"
   ]
  },
  {
   "cell_type": "code",
   "execution_count": 23,
   "id": "f2a0a71d",
   "metadata": {},
   "outputs": [
    {
     "name": "stdout",
     "output_type": "stream",
     "text": [
      "Not correct\n"
     ]
    }
   ],
   "source": [
    "# login program and indentation use for the branching\n",
    "# email -> nitin@gmail.com\n",
    "# passwrod -> 1234\n",
    "\n",
    "email = input('enter email')\n",
    "password = input('enter a password')\n",
    "\n",
    "if email == 'nitin@gmail.com' and password == '1234':\n",
    "    print('welcome')\n",
    "elif email == 'nitin@gmail.com' and password == '1234':\n",
    "    print('Incorrect Password')\n",
    "    password = input('Enter password again')\n",
    "    if password == '1234':\n",
    "        print(\"Welcome Finally!\")\n",
    "    else:\n",
    "        print(\"Fuck Off\")\n",
    "else:\n",
    "    print('Not correct')\n"
   ]
  },
  {
   "cell_type": "code",
   "execution_count": 25,
   "id": "d7ae2c19",
   "metadata": {},
   "outputs": [
    {
     "name": "stdout",
     "output_type": "stream",
     "text": [
      "C is a smaller\n"
     ]
    }
   ],
   "source": [
    "# find The min of 3 given numbers\n",
    "a = int(input('First num'))\n",
    "b = int(input('second num'))\n",
    "c = int(input('third num'))\n",
    "\n",
    "if a<b and a<c:\n",
    "    print('a is a smaller number')\n",
    "elif b<a and b<c:\n",
    "    print('b is a smaller')\n",
    "else:\n",
    "    print('C is a smaller')\n"
   ]
  },
  {
   "cell_type": "code",
   "execution_count": null,
   "id": "2ed6529e",
   "metadata": {},
   "outputs": [],
   "source": [
    "# menu driven calculator\n",
    "a = int(input('enter the first number'))\n",
    "b = int(input('Enter the second number'))\n",
    "op = input('enter the operation')\n",
    "\n",
    "if op == '+':\n",
    "    print(a+b)\n",
    "elif op == '-':\n",
    "    print(a-b)\n",
    "elif op == '*':\n",
    "    print(a*b)\n",
    "else:\n",
    "    print(a/b)"
   ]
  },
  {
   "cell_type": "markdown",
   "id": "14715e51",
   "metadata": {},
   "source": [
    "# Modules in Python\n",
    "\n",
    "### . math\n",
    "\n",
    "### . keywords\n",
    "\n",
    "### . date time\n",
    "\n",
    "### . random\n"
   ]
  },
  {
   "cell_type": "code",
   "execution_count": 27,
   "id": "e48f5aa8",
   "metadata": {},
   "outputs": [
    {
     "data": {
      "text/plain": [
       "120"
      ]
     },
     "execution_count": 27,
     "metadata": {},
     "output_type": "execute_result"
    }
   ],
   "source": [
    "# math\n",
    "import math\n",
    "math.factorial(5)"
   ]
  },
  {
   "cell_type": "code",
   "execution_count": 28,
   "id": "ec289858",
   "metadata": {},
   "outputs": [
    {
     "data": {
      "text/plain": [
       "['False',\n",
       " 'None',\n",
       " 'True',\n",
       " '__peg_parser__',\n",
       " 'and',\n",
       " 'as',\n",
       " 'assert',\n",
       " 'async',\n",
       " 'await',\n",
       " 'break',\n",
       " 'class',\n",
       " 'continue',\n",
       " 'def',\n",
       " 'del',\n",
       " 'elif',\n",
       " 'else',\n",
       " 'except',\n",
       " 'finally',\n",
       " 'for',\n",
       " 'from',\n",
       " 'global',\n",
       " 'if',\n",
       " 'import',\n",
       " 'in',\n",
       " 'is',\n",
       " 'lambda',\n",
       " 'nonlocal',\n",
       " 'not',\n",
       " 'or',\n",
       " 'pass',\n",
       " 'raise',\n",
       " 'return',\n",
       " 'try',\n",
       " 'while',\n",
       " 'with',\n",
       " 'yield']"
      ]
     },
     "execution_count": 28,
     "metadata": {},
     "output_type": "execute_result"
    }
   ],
   "source": [
    "# keywords\n",
    "import keyword\n",
    "keyword.kwlist"
   ]
  },
  {
   "cell_type": "code",
   "execution_count": 31,
   "id": "6f26748a",
   "metadata": {},
   "outputs": [
    {
     "name": "stdout",
     "output_type": "stream",
     "text": [
      "5\n"
     ]
    }
   ],
   "source": [
    "# random\n",
    "import random\n",
    "print(random.randint(1,10))"
   ]
  },
  {
   "cell_type": "code",
   "execution_count": 34,
   "id": "ca912440",
   "metadata": {},
   "outputs": [
    {
     "name": "stdout",
     "output_type": "stream",
     "text": [
      "\n",
      "Please wait a moment while I gather a list of all available modules...\n",
      "\n"
     ]
    },
    {
     "name": "stderr",
     "output_type": "stream",
     "text": [
      "C:\\Users\\HP\\AppData\\Roaming\\Python\\Python39\\site-packages\\tqdm\\auto.py:21: TqdmWarning: IProgress not found. Please update jupyter and ipywidgets. See https://ipywidgets.readthedocs.io/en/stable/user_install.html\n",
      "  from .autonotebook import tqdm as notebook_tqdm\n",
      "c:\\Program Files\\Python39\\lib\\pkgutil.py:93: UserWarning: The numpy.array_api submodule is still experimental. See NEP 47.\n",
      "  __import__(info.name)\n",
      "C:\\Users\\HP\\AppData\\Roaming\\Python\\Python39\\site-packages\\pydantic\\experimental\\__init__.py:7: PydanticExperimentalWarning: This module is experimental, its contents are subject to change and deprecation.\n",
      "  warnings.warn(\n",
      "c:\\Program Files\\Python39\\lib\\pkgutil.py:93: DeprecationWarning: `torch.distributed._shard.checkpoint` will be deprecated, use `torch.distributed.checkpoint` instead\n",
      "  __import__(info.name)\n",
      "c:\\Program Files\\Python39\\lib\\pkgutil.py:93: DeprecationWarning: `torch.distributed._sharded_tensor` will be deprecated, use `torch.distributed._shard.sharded_tensor` instead\n",
      "  __import__(info.name)\n",
      "c:\\Program Files\\Python39\\lib\\pkgutil.py:93: DeprecationWarning: `torch.distributed._sharding_spec` will be deprecated, use `torch.distributed._shard.sharding_spec` instead\n",
      "  __import__(info.name)\n",
      "C:\\Users\\HP\\AppData\\Roaming\\Python\\Python39\\site-packages\\torch\\distributed\\algorithms\\_optimizer_overlap\\optimizer_overlap.py:12: DeprecationWarning: `TorchScript` support for functional optimizers is deprecated and will be removed in a future PyTorch release. Consider using the `torch.compile` optimizer instead.\n",
      "  from torch.distributed.optim import as_functional_optim\n",
      "W0702 23:57:39.242979 1284 torch\\distributed\\elastic\\multiprocessing\\redirects.py:29] NOTE: Redirects are currently not supported in Windows or MacOs.\n"
     ]
    },
    {
     "name": "stdout",
     "output_type": "stream",
     "text": [
      "IPython             chunk               mdurl               statistics\n",
      "PIL                 clang               mediapipe           string\n",
      "PyPDF2             chunk               mdurl               statistics\n",
      "PIL                 clang               mediapipe           string\n",
      "PyPDF2              click               mimetypes           stringprep\n",
      "__future__          cmath               ml_dtypes           struct\n",
      "_abc                cmd                 mmap                subprocess\n",
      "_aix_support        code                mmapfile            sunau\n",
      "_ast                codecs              mmsystem            symbol\n",
      "_asyncio            codeop              modulefinder        sympy\n",
      "_bisect             collections         mpmath              symtable\n",
      "_blake2             colorama            msilib              sys\n",
      "_bootlocale         colorsys            msvcrt              sysconfig\n",
      "_bootsubprocess     comm                multipart           tabnanny\n",
      "_bz2                commctrl            multiprocessing     tarfile\n",
      "_cffi_backend       compileall          namex               telnetlib\n",
      "_codecs             concurrent          nest_asyncio        tempfile\n",
      "_codecs_cn          configparser        netbios             tensorboard\n",
      "_codecs_hk          contextlib          netrc               tensorboard_data_server\n",
      "_codecs_iso2022     contextvars         networkx            tensorflow\n",
      "_codecs_jp          contourpy           nntplib             tensorflow_estimator\n",
      "_codecs_kr          copy                nt                  tensorflow_io_gcs_filesystem\n",
      "_codecs_tw          copyreg             ntpath              termcolor\n",
      "_collections        corsheaders         ntsecuritycon       test\n",
      "_collections_abc    crypt               nturl2path          textwrap\n",
      "_compat_pickle      csv                 numbers             this\n",
      "_compression        ctypes              numpy               threading\n",
      "_contextvars        curses              oauthlib            threadpoolctl\n",
      "_csv                cv2                 odbc                time\n",
      "_ctypes             cycler              ollama              timeit\n",
      "_ctypes_test        dataclasses         opcode              timer\n",
      "_datetime           datetime            openai              tkinter\n",
      "_decimal            dateutil            operator            token\n",
      "_distutils_hack     dbm                 opt_einsum          tokenize\n",
      "_elementtree        dde                 optparse            tomlkit\n",
      "_functools          debugpy             optree              torch\n",
      "_hashlib            decimal             orjson              torchaudio\n",
      "_heapq              decorator           os                  torchgen\n",
      "_imp                difflib             packaging           torchvision\n",
      "_io                 dis                 pandas              torio\n",
      "_json               distro              parser              tornado\n",
      "_locale             distutils           parso               tqdm\n",
      "_lsprof             django              pasta               trace\n",
      "_lzma               doctest             pathlib             traceback\n",
      "_markupbase         dotenv              pdb                 tracemalloc\n",
      "_md5                email               perfmon             traitlets\n",
      "_msi                encodings           pickle              tty\n",
      "_multibytecodec     ensurepip           pickletools         turtle\n",
      "_multiprocessing    enum                pip                 turtledemo\n",
      "_opcode             errno               pipes               typer\n",
      "_operator           exceptiongroup      pkg_resources       types\n",
      "_osx_support        executing           pkgutil             typing\n",
      "_overlapped         fastapi             platform            typing_extensions\n",
      "_peg_parser         faulthandler        platformdirs        tzdata\n",
      "_pickle             ffmpy               plistlib            unicodedata\n",
      "_py_abc             filecmp             poplib              unittest\n",
      "_pydecimal          fileinput           posixpath           urllib\n",
      "_pyio               filelock            pprint              urllib3\n",
      "_queue              flask               profile             uu\n",
      "_random             flatbuffers         prompt_toolkit      uuid\n",
      "_sha1               fnmatch             pstats              uv\n",
      "_sha256             fontTools           psutil              uvicorn\n",
      "_sha3               formatter           pty                 venv\n",
      "_sha512             fractions           pure_eval           warnings\n",
      "_signal             fsspec              py_compile          wave\n",
      "_sitebuiltins       ftplib              pyasn1              wcwidth\n",
      "_socket             functools           pyasn1_modules      weakref\n",
      "_sounddevice        functorch           pyclbr              webbrowser\n",
      "_sounddevice_data   gast                pycparser           websockets\n",
      "_sqlite3            gc                  pydantic            werkzeug\n",
      "_sre                genericpath         pydantic_core       wheel\n",
      "_ssl                getopt              pydoc               win2kras\n",
      "_stat               getpass             pydoc_data          win32api\n",
      "_statistics         gettext             pydub               win32clipboard\n",
      "_string             git_filter_repo     pyexpat             win32com\n",
      "_strptime           glob                pygments            win32con\n",
      "_struct             google_auth_oauthlib pylab               win32console\n",
      "_symtable           gradio              pyparsing           win32cred\n",
      "_testbuffer         gradio_client       python_multipart    win32crypt\n",
      "_testcapi           graphlib            pythoncom           win32cryptcon\n",
      "_testconsole        grpc                pytz                win32event\n",
      "_testimportmultiple gzip                pywin               win32evtlog\n",
      "_testinternalcapi   h11                 pywin32_bootstrap   win32evtlogutil\n",
      "_testmultiphase     h5py                pywin32_testutil    win32file\n",
      "_thread             hashlib             pywintypes          win32gui\n",
      "_threading_local    heapq               queue               win32gui_struct\n",
      "_tkinter            hmac                quopri              win32help\n",
      "_tracemalloc        html                random              win32inet\n",
      "_uuid               http                rasutil             win32inetcon\n",
      "_warnings           httpcore            re                  win32job\n",
      "_weakref            httpx               regcheck            win32lz\n",
      "_weakrefset         huggingface_hub     regutil             win32net\n",
      "_win32sysloader     idlelib             reprlib             win32netcon\n",
      "_win32verstamp_pywin32ctypes idna                requests            win32pdh\n",
      "_winapi             imaplib             requests_oauthlib   win32pdhquery\n",
      "_winxptheme         imghdr              rich                win32pdhutil\n",
      "_xxsubinterpreters  imp                 rlcompleter         win32pipe\n",
      "_yaml               importlib           rsa                 win32print\n",
      "_zoneinfo           importlib_metadata  ruff                win32process\n",
      "abc                 importlib_resources runpy               win32profile\n",
      "absl                inspect             sched               win32ras\n",
      "adodbapi            io                  scipy               win32rcparser\n",
      "afxres              ipaddress           seaborn             win32security\n",
      "aifc                ipykernel           secrets             win32service\n",
      "aiofiles            ipykernel_launcher  select              win32serviceutil\n",
      "annotated_types     isapi               selectors           win32timezone\n",
      "antigravity         isympy              semantic_version    win32trace\n",
      "anyio               itertools           sentencepiece       win32traceutil\n",
      "argparse            itsdangerous        servicemanager      win32transaction\n",
      "array               jax                 setuptools          win32ts\n",
      "asgiref             jaxlib              shellingham         win32ui\n",
      "ast                 jedi                shelve              win32uiole\n",
      "asttokens           jinja2              shlex               win32verstamp\n",
      "astunparse          jiter               shutil              win32wnet\n",
      "asynchat            joblib              signal              winerror\n",
      "asyncio             json                site                winioctlcon\n",
      "asyncore            jupyter             six                 winnt\n",
      "atexit              jupyter_client      sklearn             winperf\n",
      "attr                jupyter_core        smtpd               winreg\n",
      "attrs               keras               smtplib             winsound\n",
      "audioop             keyword             sndhdr              winxpgui\n",
      "base64              kiwisolver          sniffio             winxptheme\n",
      "bdb                 lib2to3             socket              wrapt\n",
      "binascii            linecache           socketserver        wsgiref\n",
      "binhex              locale              sounddevice         xdrlib\n",
      "bisect              logging             soupsieve           xml\n",
      "blinker             lxml                sqlite3             xmlrpc\n",
      "bs4                 lzma                sqlparse            xxsubtype\n",
      "builtins            magic               sre_compile         yaml\n",
      "bz2                 mailbox             sre_constants       zipapp\n",
      "cProfile            mailcap             sre_parse           zipfile\n",
      "cachetools          markdown            ssl                 zipimport\n",
      "calendar            markdown_it         sspi                zipp\n",
      "certifi             markupsafe          sspicon             zlib\n",
      "cffi                marshal             stack_data          zmq\n",
      "cgi                 math                starlette           zoneinfo\n",
      "cgitb               matplotlib          start_pythonwin     \n",
      "charset_normalizer  matplotlib_inline   stat                \n",
      "\n",
      "Enter any module name to get more help.  Or, type \"modules spam\" to search\n",
      "for modules whose name or summary contain the string \"spam\".\n",
      "\n"
     ]
    }
   ],
   "source": [
    "help('modules')"
   ]
  },
  {
   "cell_type": "code",
   "execution_count": 33,
   "id": "c79df70e",
   "metadata": {},
   "outputs": [
    {
     "name": "stdout",
     "output_type": "stream",
     "text": [
      "2025-07-02 23:55:50.586073\n"
     ]
    }
   ],
   "source": [
    "# date and time\n",
    "import datetime\n",
    "print(datetime.datetime.now())"
   ]
  },
  {
   "cell_type": "markdown",
   "id": "40c32c7e",
   "metadata": {},
   "source": [
    "# Loops in python\n",
    "\n",
    "### . Need for loops\n",
    "\n",
    "### . While loop\n",
    "\n",
    "### . For loop\n"
   ]
  },
  {
   "cell_type": "code",
   "execution_count": null,
   "id": "ced42cff",
   "metadata": {},
   "outputs": [
    {
     "name": "stdout",
     "output_type": "stream",
     "text": [
      "12\n",
      "24\n",
      "36\n",
      "48\n",
      "60\n",
      "72\n",
      "84\n",
      "96\n",
      "108\n",
      "\n",
      "24\n",
      "36\n",
      "48\n",
      "60\n",
      "72\n",
      "84\n",
      "96\n",
      "108\n",
      "120\n"
     ]
    }
   ],
   "source": [
    "# while loop example -> program to print the table\n",
    "num = int(input('Enter the number'))\n",
    "i = 1\n",
    "while i<11:\n",
    "    print(num*i)\n",
    "    i+=1"
   ]
  },
  {
   "cell_type": "code",
   "execution_count": 36,
   "id": "d4706039",
   "metadata": {},
   "outputs": [
    {
     "name": "stdout",
     "output_type": "stream",
     "text": [
      "1\n",
      "2\n",
      "limit crossed\n",
      "\n",
      "2\n",
      "limit crossed\n"
     ]
    }
   ],
   "source": [
    "# while loops with else\n",
    "x = 1\n",
    "\n",
    "while x<3:\n",
    "    print(x)\n",
    "    x += 1\n",
    "\n",
    "else:\n",
    "    print('limit crossed')\n",
    "\n"
   ]
  },
  {
   "cell_type": "code",
   "execution_count": null,
   "id": "db9e494b",
   "metadata": {},
   "outputs": [
    {
     "name": "stdout",
     "output_type": "stream",
     "text": [
      "galat! guess higher\n",
      "\n",
      "galat! guess lower\n",
      "galat! guess higher\n",
      "galat! guess lower\n",
      "galat! guess lower\n",
      "correct guess\n"
     ]
    }
   ],
   "source": [
    "# Guessing game \n",
    "\n",
    "# generate a random integer between 1 and 100\n",
    "import random\n",
    "jackpot = random.randint(1,100)\n",
    "\n",
    "guess = int(input('guess karo'))\n",
    "counter = 1\n",
    "\n",
    "while guess != jackpot:\n",
    " if guess < jackpot:\n",
    "    print('galat! guess higher')\n",
    " else:\n",
    "    print('galat! guess lower')\n",
    "\n",
    " guess = int(input('guess karo'))\n",
    " counter +=1 \n",
    "\n",
    "else:\n",
    "  print('correct guess')\n",
    "  print('attempts',counter)"
   ]
  },
  {
   "cell_type": "code",
   "execution_count": 40,
   "id": "3f2340f4",
   "metadata": {},
   "outputs": [
    {
     "name": "stdout",
     "output_type": "stream",
     "text": [
      "10\n",
      "9\n",
      "8\n",
      "7\n",
      "6\n",
      "5\n",
      "4\n",
      "3\n",
      "2\n",
      "9\n",
      "8\n",
      "7\n",
      "6\n",
      "5\n",
      "4\n",
      "3\n",
      "2\n",
      "1\n"
     ]
    }
   ],
   "source": [
    "# For loop \n",
    "for i in range(10,0,-1):\n",
    "    print(i)"
   ]
  },
  {
   "cell_type": "code",
   "execution_count": 41,
   "id": "44954b24",
   "metadata": {},
   "outputs": [
    {
     "name": "stdout",
     "output_type": "stream",
     "text": [
      "D\n",
      "e\n",
      "l\n",
      "h\n",
      "i\n",
      "\n",
      "e\n",
      "l\n",
      "h\n",
      "i\n"
     ]
    }
   ],
   "source": [
    "for i in 'Delhi':\n",
    "    print(i)"
   ]
  },
  {
   "cell_type": "markdown",
   "id": "007132e5",
   "metadata": {},
   "source": [
    "##### Program - The Current population of a town is 10000. The population of the town is increasing at the rate of 10% per year. You have to write a program to find out the population at the end of each of the last 10 years\n"
   ]
  },
  {
   "cell_type": "code",
   "execution_count": 1,
   "id": "8763469b",
   "metadata": {},
   "outputs": [
    {
     "name": "stdout",
     "output_type": "stream",
     "text": [
      "10 10000\n",
      "9 9090.90909090909\n",
      "8 8264.462809917353\n",
      "7 7513.148009015775\n",
      "6 6830.134553650703\n",
      "5 6209.213230591548\n",
      "4 5644.739300537771\n",
      "3 5131.5811823070635\n",
      "2 4665.07380209733\n",
      "1 4240.976183724845\n"
     ]
    }
   ],
   "source": [
    "curr_pop = 10000\n",
    "for i in range(10,0,-1):\n",
    "    print(i,curr_pop)\n",
    "    curr_pop = curr_pop/1.1\n",
    "    "
   ]
  },
  {
   "cell_type": "markdown",
   "id": "333c3137",
   "metadata": {},
   "source": [
    "### Sequence Sum Program\n",
    "\n",
    "1/1!+2/2!+3/3!+......\n"
   ]
  },
  {
   "cell_type": "code",
   "execution_count": 2,
   "id": "10ce6951",
   "metadata": {},
   "outputs": [
    {
     "name": "stdout",
     "output_type": "stream",
     "text": [
      "2.708333333333333\n"
     ]
    }
   ],
   "source": [
    "#code here\n",
    "n = int(input('Enter n'))\n",
    "result = 0\n",
    "fact = 1\n",
    "\n",
    "for i in range(1,n+1):\n",
    "    fact = fact*i\n",
    "    result = result + i/fact\n",
    "\n",
    "print(result)"
   ]
  },
  {
   "cell_type": "markdown",
   "id": "652734e2",
   "metadata": {},
   "source": [
    "# Nested Loops\n"
   ]
  },
  {
   "cell_type": "code",
   "execution_count": 5,
   "id": "7404e6ef",
   "metadata": {},
   "outputs": [
    {
     "name": "stdout",
     "output_type": "stream",
     "text": [
      "1 1\n",
      "1 2\n",
      "1 3\n",
      "1 4\n",
      "2 1\n",
      "2 2\n",
      "2 3\n",
      "2 4\n",
      "3 1\n",
      "3 2\n",
      "3 3\n",
      "3 4\n",
      "4 1\n",
      "4 2\n",
      "4 3\n",
      "4 4\n"
     ]
    }
   ],
   "source": [
    "# Examples -> Unique pairs\n",
    "\n",
    "for i in range(1,5):\n",
    "    for j in range(1,5):\n",
    "        print(i,j)"
   ]
  },
  {
   "cell_type": "code",
   "execution_count": 11,
   "id": "362b6309",
   "metadata": {},
   "outputs": [
    {
     "name": "stdout",
     "output_type": "stream",
     "text": [
      "*\n",
      "**\n",
      "***\n",
      "****\n",
      "*****\n",
      "******\n",
      "*******\n",
      "********\n",
      "*********\n",
      "**********\n"
     ]
    }
   ],
   "source": [
    "# Patter 1\n",
    "# *\n",
    "# **\n",
    "# ***\n",
    "rows = int(input('Enter no of rows'))\n",
    "for i in range(1,rows+1):\n",
    "    for j in range(1,i+1):\n",
    "        print('*',end='')\n",
    "    print()"
   ]
  },
  {
   "cell_type": "code",
   "execution_count": 25,
   "id": "16e3b45b",
   "metadata": {},
   "outputs": [
    {
     "name": "stdout",
     "output_type": "stream",
     "text": [
      "1\n",
      "121\n",
      "12321\n",
      "1234321\n",
      "123454321\n"
     ]
    }
   ],
   "source": [
    "# Pattern 2\n",
    "1\n",
    "121\n",
    "12321\n",
    "1234321\n",
    "\n",
    "rows = int(input('Enter no of rows'))\n",
    "\n",
    "for i in range(1,rows+1):\n",
    "    for j in range(1,i+1):\n",
    "        print(j,end='')\n",
    "    for k in range(i-1 , 0,-1):\n",
    "        print(k,end='')\n",
    "    print()\n"
   ]
  },
  {
   "cell_type": "markdown",
   "id": "bdbdb06d",
   "metadata": {},
   "source": [
    "### Loop Control Statement\n",
    "### 1 .Break\n",
    "### 2 .Continue\n",
    "### 3 .Pass"
   ]
  },
  {
   "cell_type": "code",
   "execution_count": 26,
   "id": "81ca9c82",
   "metadata": {},
   "outputs": [
    {
     "name": "stdout",
     "output_type": "stream",
     "text": [
      "1\n",
      "2\n",
      "3\n",
      "4\n"
     ]
    }
   ],
   "source": [
    "# Break\n",
    "for i in range(1,10):\n",
    "    if i == 5:\n",
    "        break\n",
    "    print(i)"
   ]
  },
  {
   "cell_type": "code",
   "execution_count": 29,
   "id": "ffd90665",
   "metadata": {},
   "outputs": [
    {
     "name": "stdout",
     "output_type": "stream",
     "text": [
      "11\n",
      "13\n",
      "17\n",
      "19\n",
      "23\n",
      "29\n",
      "31\n",
      "37\n",
      "41\n",
      "43\n",
      "47\n",
      "53\n",
      "59\n",
      "61\n",
      "67\n",
      "71\n",
      "73\n",
      "79\n",
      "83\n",
      "89\n",
      "97\n"
     ]
    }
   ],
   "source": [
    "lower = int(input('Lower range'))\n",
    "upper = int(input('Upper range'))\n",
    "\n",
    "for i in range(lower,upper+1):\n",
    "    for j in range(2,i):\n",
    "     if i%j == 0:\n",
    "        break\n",
    "    else:\n",
    "        print(i)"
   ]
  },
  {
   "cell_type": "code",
   "execution_count": 30,
   "id": "902e1280",
   "metadata": {},
   "outputs": [
    {
     "name": "stdout",
     "output_type": "stream",
     "text": [
      "1\n",
      "2\n",
      "3\n",
      "4\n",
      "6\n",
      "7\n",
      "8\n",
      "9\n"
     ]
    }
   ],
   "source": [
    "# Continue\n",
    "for i in range(1,10):\n",
    "    if i == 5:\n",
    "        continue\n",
    "    print(i)"
   ]
  },
  {
   "cell_type": "code",
   "execution_count": 31,
   "id": "387508a0",
   "metadata": {},
   "outputs": [],
   "source": [
    "# Pass\n",
    "for i in range(1,10):\n",
    "    pass"
   ]
  }
 ],
 "metadata": {
  "kernelspec": {
   "display_name": "Python 3",
   "language": "python",
   "name": "python3"
  },
  "language_info": {
   "codemirror_mode": {
    "name": "ipython",
    "version": 3
   },
   "file_extension": ".py",
   "mimetype": "text/x-python",
   "name": "python",
   "nbconvert_exporter": "python",
   "pygments_lexer": "ipython3",
   "version": "3.9.9"
  }
 },
 "nbformat": 4,
 "nbformat_minor": 5
}
