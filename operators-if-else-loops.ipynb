{
 "cells": [
  {
   "cell_type": "markdown",
   "id": "41984f7f",
   "metadata": {},
   "source": [
    "# Operators in Python\n",
    "### 1. Arithmetic Operators\n",
    "### 2. Relational Opeartors\n",
    "### 3. Logical Operators\n",
    "### 4. Bitwis Operators\n",
    "### 5. Assignment Operators\n",
    "### 6. Membership Operators"
   ]
  },
  {
   "cell_type": "code",
   "execution_count": null,
   "id": "da1ffc55",
   "metadata": {},
   "outputs": [
    {
     "name": "stdout",
     "output_type": "stream",
     "text": [
      "11\n",
      "-1\n",
      "30\n",
      "0.8333333333333334\n",
      "0\n",
      "1\n",
      "25\n"
     ]
    }
   ],
   "source": [
    "# Arithmetic Operators\n",
    "print(5+6)\n",
    "print(5-6)\n",
    "print(5*6)\n",
    "print(5/6)\n",
    "print(5//6) # Integer devision opeartor \n",
    "print(5%2)\n",
    "print(5**2)  # power of operator \n",
    "\n"
   ]
  },
  {
   "cell_type": "code",
   "execution_count": 2,
   "id": "42bea5d8",
   "metadata": {},
   "outputs": [
    {
     "name": "stdout",
     "output_type": "stream",
     "text": [
      "False\n",
      "True\n",
      "True\n",
      "False\n"
     ]
    }
   ],
   "source": [
    "# Relational Opeartors\n",
    "print(4>5)\n",
    "print(4<5)\n",
    "print(4==4)\n",
    "print(4!=4)"
   ]
  },
  {
   "cell_type": "code",
   "execution_count": 3,
   "id": "deabc5f3",
   "metadata": {},
   "outputs": [
    {
     "name": "stdout",
     "output_type": "stream",
     "text": [
      "0\n",
      "1\n",
      "False\n"
     ]
    }
   ],
   "source": [
    "# Logical Operators\n",
    "print(1 and 0)\n",
    "print(1 or 0)\n",
    "print(not 1)"
   ]
  },
  {
   "cell_type": "code",
   "execution_count": null,
   "id": "00661b58",
   "metadata": {},
   "outputs": [
    {
     "name": "stdout",
     "output_type": "stream",
     "text": [
      "2\n",
      "3\n",
      "1\n",
      "-4\n",
      "1\n",
      "20\n"
     ]
    }
   ],
   "source": [
    "# Bitwise opeartors\n",
    "# bitwise and\n",
    "print(2 & 3)\n",
    "\n",
    "#bitwise or\n",
    "print(2 | 3)\n",
    "\n",
    "#bitwise xor\n",
    "print(2 ^ 3)\n",
    "\n",
    "#bitwise ~\n",
    "print(~3)\n",
    "\n",
    "#bitwise right swift\n",
    "print(4>>2)\n",
    "\n",
    "#bitwise left swift\n",
    "print(5<<2)\n",
    "\n",
    "\n"
   ]
  },
  {
   "cell_type": "code",
   "execution_count": 9,
   "id": "5addc8d2",
   "metadata": {},
   "outputs": [
    {
     "name": "stdout",
     "output_type": "stream",
     "text": [
      "4\n"
     ]
    }
   ],
   "source": [
    "# Assignment Operators\n",
    "# =\n",
    "a = 2\n",
    "a+=2\n",
    "print(a)"
   ]
  },
  {
   "cell_type": "code",
   "execution_count": 11,
   "id": "9059993c",
   "metadata": {},
   "outputs": [
    {
     "name": "stdout",
     "output_type": "stream",
     "text": [
      "True\n",
      "False\n"
     ]
    }
   ],
   "source": [
    "#Membership Opearotrs\n",
    "# in/not in\n",
    "\n",
    "print('D' in 'Delhi')\n",
    "print(1 in [2,3,4])\n"
   ]
  },
  {
   "cell_type": "code",
   "execution_count": 20,
   "id": "3c58adcd",
   "metadata": {},
   "outputs": [
    {
     "name": "stdout",
     "output_type": "stream",
     "text": [
      "18\n"
     ]
    }
   ],
   "source": [
    "# Program - Find the sum of a 3 digit number entered by the user\n",
    "num = int(input(\"Enter a 3 digit number\"))\n",
    "# 345%10\n",
    "a = num%10\n",
    "num = num // 10\n",
    "\n",
    "# 34%10\n",
    "b = num% 10\n",
    "num = num // 10\n",
    "\n",
    "# 3%10\n",
    "c= num%10\n",
    "print(a+b+c)"
   ]
  },
  {
   "cell_type": "markdown",
   "id": "667540ec",
   "metadata": {},
   "source": [
    "# if-else in python"
   ]
  },
  {
   "cell_type": "code",
   "execution_count": 23,
   "id": "f2a0a71d",
   "metadata": {},
   "outputs": [
    {
     "name": "stdout",
     "output_type": "stream",
     "text": [
      "Not correct\n"
     ]
    }
   ],
   "source": [
    "# login program and indentation use for the branching\n",
    "# email -> nitin@gmail.com\n",
    "# passwrod -> 1234\n",
    "\n",
    "email = input('enter email')\n",
    "password = input('enter a password')\n",
    "\n",
    "if email == 'nitin@gmail.com' and password == '1234':\n",
    "    print('welcome')\n",
    "elif email == 'nitin@gmail.com' and password == '1234':\n",
    "    print('Incorrect Password')\n",
    "    password = input('Enter password again')\n",
    "    if password == '1234':\n",
    "        print(\"Welcome Finally!\")\n",
    "    else:\n",
    "        print(\"Fuck Off\")\n",
    "else:\n",
    "    print('Not correct')\n"
   ]
  },
  {
   "cell_type": "code",
   "execution_count": 25,
   "id": "d7ae2c19",
   "metadata": {},
   "outputs": [
    {
     "name": "stdout",
     "output_type": "stream",
     "text": [
      "C is a smaller\n"
     ]
    }
   ],
   "source": [
    "# find The min of 3 given numbers\n",
    "a = int(input('First num'))\n",
    "b = int(input('second num'))\n",
    "c = int(input('third num'))\n",
    "\n",
    "if a<b and a<c:\n",
    "    print('a is a smaller number')\n",
    "elif b<a and b<c:\n",
    "    print('b is a smaller')\n",
    "else:\n",
    "    print('C is a smaller')\n"
   ]
  },
  {
   "cell_type": "code",
   "execution_count": null,
   "id": "2ed6529e",
   "metadata": {},
   "outputs": [],
   "source": [
    "# menu driven calculator\n",
    "a = int(input('enter the first number'))\n",
    "b = int(input('Enter the second number'))\n",
    "op = input('enter the operation')\n",
    "\n",
    "if op == '+':\n",
    "    print(a+b)\n",
    "elif op == '-':\n",
    "    print(a-b)\n",
    "elif op == '*':\n",
    "    print(a*b)\n",
    "else:\n",
    "    print(a/b)"
   ]
  }
 ],
 "metadata": {
  "kernelspec": {
   "display_name": "Python 3",
   "language": "python",
   "name": "python3"
  },
  "language_info": {
   "codemirror_mode": {
    "name": "ipython",
    "version": 3
   },
   "file_extension": ".py",
   "mimetype": "text/x-python",
   "name": "python",
   "nbconvert_exporter": "python",
   "pygments_lexer": "ipython3",
   "version": "3.9.9"
  }
 },
 "nbformat": 4,
 "nbformat_minor": 5
}
