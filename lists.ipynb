{
 "cells": [
  {
   "cell_type": "markdown",
   "id": "2aa9f582",
   "metadata": {},
   "source": [
    "### 1.Lists\n",
    "### . What are Lists\n",
    "### . Lists Vs Arrays\n",
    "### . Characterstics of List\n",
    "### . How to create list\n",
    "### . Access items from a List\n",
    "### . Editing items in a List\n",
    "### . Deleting itmes from a List\n",
    "### . Operations on Lists\n",
    "### . Function on Lists"
   ]
  },
  {
   "cell_type": "markdown",
   "id": "cc418538",
   "metadata": {},
   "source": [
    "### What are Lists\n",
    "list is a data type where you can stroe multiple items under 1 name . More technically, lists act like dynamic arrays which means you can add more items on the fly.\n",
    "\n",
    "### L = [20,'name',12.1,[1,2,34]]\n",
    "\n",
    "#### Why lists are required in programming?"
   ]
  },
  {
   "cell_type": "markdown",
   "id": "9576c3de",
   "metadata": {},
   "source": [
    "### Array Vs Lists\n",
    "### . Fixed Vs Dynamic Size\n",
    "### . Convenience-> Hetrogeneous\n",
    "### . Speed of Execution\n",
    "### . Memory"
   ]
  },
  {
   "cell_type": "code",
   "execution_count": 1,
   "id": "a18c9983",
   "metadata": {},
   "outputs": [
    {
     "name": "stdout",
     "output_type": "stream",
     "text": [
      "1715376056656\n"
     ]
    }
   ],
   "source": [
    "a = 2\n",
    "print(id(a))"
   ]
  },
  {
   "cell_type": "code",
   "execution_count": null,
   "id": "427deaa0",
   "metadata": {},
   "outputs": [
    {
     "name": "stdout",
     "output_type": "stream",
     "text": [
      "1715457763584\n",
      "1715376056624\n",
      "1715376056656\n",
      "1715376056688\n",
      "1715376056592\n",
      "1715376056624\n",
      "1715376056656\n"
     ]
    }
   ],
   "source": [
    "L = [1,2,3,4]   # Referntial array\n",
    "print(id(L))\n",
    "print(id(L[0]))\n",
    "print(id(L[1]))\n",
    "print(id(L[2]))\n",
    "print(id(0))\n",
    "print(id(1))\n",
    "print(id(2))"
   ]
  },
  {
   "cell_type": "markdown",
   "id": "67c51cd5",
   "metadata": {},
   "source": [
    "### How lists are stored in memory"
   ]
  },
  {
   "cell_type": "markdown",
   "id": "96d60f9d",
   "metadata": {},
   "source": [
    "### Characterstics of a List\n",
    "### . Ordered\n",
    "### . Changeble/Mutable\n",
    "### . Hetrogeneous\n",
    "### . Can have duplicates\n",
    "### . are dynamic\n",
    "### . can be nested\n",
    "### . items can be accessed\n",
    "### . can contain any kind of object in python"
   ]
  },
  {
   "cell_type": "code",
   "execution_count": 4,
   "id": "ede86b0c",
   "metadata": {},
   "outputs": [
    {
     "data": {
      "text/plain": [
       "False"
      ]
     },
     "execution_count": 4,
     "metadata": {},
     "output_type": "execute_result"
    }
   ],
   "source": [
    "L = [1,2,3]\n",
    "L1 = [3,2,1]\n",
    "L == L1"
   ]
  },
  {
   "cell_type": "markdown",
   "id": "3e33064f",
   "metadata": {},
   "source": [
    "### Creating a List"
   ]
  },
  {
   "cell_type": "code",
   "execution_count": 10,
   "id": "71d90d26",
   "metadata": {},
   "outputs": [
    {
     "name": "stdout",
     "output_type": "stream",
     "text": [
      "[]\n",
      "[1, 2, 3, 4]\n",
      "[1, 2, 3, [4, 5]]\n",
      "[[[1, 2], [3, 4]], [[5, 6], [7, 8]]]\n",
      "[1, True, 5.6, (5+6j), 'nitin']\n",
      "['n', 'i', 't', 'i', 'n']\n"
     ]
    }
   ],
   "source": [
    "# Empty\n",
    "print([])\n",
    "# 1D ->\n",
    "print([1,2,3,4])\n",
    "# 2D\n",
    "print([1,2,3,[4,5]])  # hatrogeneous\n",
    "# 3D\n",
    "print([[[1,2],[3,4]],[[5,6],[7,8]]]) # homogenious\n",
    "# Hetrogenous\n",
    "print([1,True,5.6,5+6j,'nitin'])\n",
    "# Using TYpe Conversion\n",
    "print(list('nitin'))"
   ]
  },
  {
   "cell_type": "markdown",
   "id": "b165e50e",
   "metadata": {},
   "source": [
    "### Accessing Items from a List"
   ]
  },
  {
   "cell_type": "code",
   "execution_count": 44,
   "id": "b7b9fee5",
   "metadata": {},
   "outputs": [
    {
     "name": "stdout",
     "output_type": "stream",
     "text": [
      "1\n",
      "7\n",
      "7\n"
     ]
    }
   ],
   "source": [
    "# Indexing\n",
    "L = [1,2,3,4,5,[6,7]]\n",
    "print(L[0])\n",
    "print(L[-1][-1])\n",
    "print(L[5][1])"
   ]
  },
  {
   "cell_type": "code",
   "execution_count": 45,
   "id": "8e15a3d4",
   "metadata": {},
   "outputs": [
    {
     "name": "stdout",
     "output_type": "stream",
     "text": [
      "7\n"
     ]
    }
   ],
   "source": [
    "L = [[[1,2],[3,4]],[[5,6],[7,8]]]\n",
    "print(L[1][1][0])"
   ]
  },
  {
   "cell_type": "code",
   "execution_count": 46,
   "id": "a5a77414",
   "metadata": {},
   "outputs": [
    {
     "name": "stdout",
     "output_type": "stream",
     "text": [
      "[4, 5, 6]\n",
      "[1, 3, 5]\n",
      "[2, 4]\n",
      "[6, 5, 4, 3, 2, 1]\n"
     ]
    }
   ],
   "source": [
    "# Slicing\n",
    "L = [1,2,3,4,5,6]\n",
    "print(L[-3:])\n",
    "print(L[0::2])\n",
    "print(L[-5:-2:2])\n",
    "print(L[::-1])"
   ]
  },
  {
   "cell_type": "markdown",
   "id": "ff082da6",
   "metadata": {},
   "source": [
    "### Adding items to a List"
   ]
  },
  {
   "cell_type": "code",
   "execution_count": 34,
   "id": "9677bf2f",
   "metadata": {},
   "outputs": [
    {
     "name": "stdout",
     "output_type": "stream",
     "text": [
      "[1, 2, 3, 4, 5, 6]\n",
      "[1, 2, 3, 4, 5, 6, [1, 2, 3]]\n"
     ]
    }
   ],
   "source": [
    "# Append\n",
    "L = [1,2,3,4,5]\n",
    "L.append(6)\n",
    "print(L)\n",
    "L.append([1,2,3])\n",
    "print(L)"
   ]
  },
  {
   "cell_type": "code",
   "execution_count": 33,
   "id": "625cfe04",
   "metadata": {},
   "outputs": [
    {
     "name": "stdout",
     "output_type": "stream",
     "text": [
      "[1, 2, 3, 4, 5]\n",
      "[1, 2, 3, 4, 5, 'd', 'e', 'l', 'h', 'i']\n"
     ]
    }
   ],
   "source": [
    "# extend\n",
    "L = [1,2,3]\n",
    "L.extend([4,5])\n",
    "print(L)\n",
    "L.extend('delhi')\n",
    "print(L)"
   ]
  },
  {
   "cell_type": "code",
   "execution_count": 38,
   "id": "c518eaf5",
   "metadata": {},
   "outputs": [
    {
     "name": "stdout",
     "output_type": "stream",
     "text": [
      "[100, 1, 2, 3, 4]\n"
     ]
    }
   ],
   "source": [
    "# Insert\n",
    "L = [1,2,3,4]\n",
    "L.insert(0,100)\n",
    "print(L)"
   ]
  },
  {
   "cell_type": "markdown",
   "id": "37b6d08a",
   "metadata": {},
   "source": [
    "### Editing items in a List"
   ]
  },
  {
   "cell_type": "code",
   "execution_count": 42,
   "id": "6deec149",
   "metadata": {},
   "outputs": [
    {
     "name": "stdout",
     "output_type": "stream",
     "text": [
      "[1, 200, 300, 400, 500]\n"
     ]
    }
   ],
   "source": [
    "L = [1,2,3,4,5]\n",
    "# editing with indexing\n",
    "L[-1] = 500\n",
    "# editing with slicing\n",
    "L[1:4] = [200,300,400]\n",
    "print(L)"
   ]
  },
  {
   "cell_type": "markdown",
   "id": "a34ed705",
   "metadata": {},
   "source": [
    "### Deleting items from a List"
   ]
  },
  {
   "cell_type": "code",
   "execution_count": 47,
   "id": "e9791ec9",
   "metadata": {},
   "outputs": [
    {
     "name": "stdout",
     "output_type": "stream",
     "text": [
      "[1, 2, 3, 4, 5]\n",
      "[1, 2, 3, 4]\n"
     ]
    }
   ],
   "source": [
    "# del\n",
    "L = [1,2,3,4,5]\n",
    "print(L)\n",
    "del L[-1]\n",
    "print(L)"
   ]
  },
  {
   "cell_type": "code",
   "execution_count": 49,
   "id": "716f0cc8",
   "metadata": {},
   "outputs": [
    {
     "name": "stdout",
     "output_type": "stream",
     "text": [
      "[1, 2, 3, 4]\n"
     ]
    }
   ],
   "source": [
    "# remove\n",
    "L = [1,2,3,4,5]\n",
    "L.remove(5)\n",
    "print(L)"
   ]
  },
  {
   "cell_type": "code",
   "execution_count": 52,
   "id": "f3f9be15",
   "metadata": {},
   "outputs": [
    {
     "name": "stdout",
     "output_type": "stream",
     "text": [
      "[1, 2, 3, 4]\n"
     ]
    }
   ],
   "source": [
    "# pop\n",
    "L = [1,2,3,4,5]\n",
    "L.pop()\n",
    "print(L)"
   ]
  },
  {
   "cell_type": "code",
   "execution_count": 53,
   "id": "4840cbfc",
   "metadata": {},
   "outputs": [
    {
     "name": "stdout",
     "output_type": "stream",
     "text": [
      "[]\n"
     ]
    }
   ],
   "source": [
    "# clear\n",
    "L = [1,2,3,4,5]\n",
    "L.clear()\n",
    "print(L)"
   ]
  },
  {
   "cell_type": "markdown",
   "id": "305935e0",
   "metadata": {},
   "source": [
    "### Operations on Lists\n",
    "### . Arithmetic\n",
    "### . Membership\n",
    "### . Loop"
   ]
  },
  {
   "cell_type": "code",
   "execution_count": 55,
   "id": "125b1383",
   "metadata": {},
   "outputs": [
    {
     "name": "stdout",
     "output_type": "stream",
     "text": [
      "[1, 2, 3, 4, 5, 6, 7, 8]\n",
      "[1, 2, 3, 4, 1, 2, 3, 4, 1, 2, 3, 4]\n"
     ]
    }
   ],
   "source": [
    "# Arithmetic(+ , *)\n",
    "\n",
    "L1 = [1,2,3,4]\n",
    "L2 = [5,6,7,8]\n",
    "\n",
    "# Concatenation/Merge\n",
    "print(L1 + L2)\n",
    "print(L1*3)"
   ]
  },
  {
   "cell_type": "code",
   "execution_count": 58,
   "id": "fcd90193",
   "metadata": {},
   "outputs": [
    {
     "name": "stdout",
     "output_type": "stream",
     "text": [
      "False\n",
      "False\n"
     ]
    }
   ],
   "source": [
    "# Membership \n",
    "L1 = [1,2,3,4]\n",
    "L2 = L1 = [1,2,3,4,[5,6]]\n",
    "print(4 not in L1)\n",
    "print(5 in L2)"
   ]
  },
  {
   "cell_type": "code",
   "execution_count": 60,
   "id": "539ecf0b",
   "metadata": {},
   "outputs": [
    {
     "name": "stdout",
     "output_type": "stream",
     "text": [
      "5\n",
      "6\n",
      "7\n",
      "8\n",
      "[9, 10]\n"
     ]
    }
   ],
   "source": [
    "# Loops\n",
    "L1 = [1,2,3,4]\n",
    "L2 = [5,6,7,8,[9,10]]\n",
    "\n",
    "for i in L2:\n",
    "    print(i)"
   ]
  },
  {
   "cell_type": "code",
   "execution_count": 61,
   "id": "154a0a31",
   "metadata": {},
   "outputs": [
    {
     "name": "stdout",
     "output_type": "stream",
     "text": [
      "[[[1, 2], [3, 4]], [[5, 6], [7, 8]]]\n",
      "[[[1, 2], [3, 4]], [[5, 6], [7, 8]]]\n"
     ]
    }
   ],
   "source": [
    "L = [[[1,2],[3,4]],[[5,6],[7,8]]]\n",
    "\n",
    "for i in L:\n",
    "    print(L)"
   ]
  },
  {
   "cell_type": "markdown",
   "id": "38187e67",
   "metadata": {},
   "source": [
    "### List functions"
   ]
  },
  {
   "cell_type": "code",
   "execution_count": 65,
   "id": "7a27deaf",
   "metadata": {},
   "outputs": [
    {
     "name": "stdout",
     "output_type": "stream",
     "text": [
      "2\n",
      "[[1, 2], [3, 4]]\n",
      "[[5, 6], [7, 8]]\n",
      "[[[1, 2], [3, 4]], [[5, 6], [7, 8]]]\n"
     ]
    }
   ],
   "source": [
    "# len/min/max/sorted\n",
    "L = [[[1,2],[3,4]],[[5,6],[7,8]]]\n",
    "print(len(L))\n",
    "print(min(L))\n",
    "print(max(L))\n",
    "print(sorted(L))"
   ]
  },
  {
   "cell_type": "code",
   "execution_count": 67,
   "id": "16ceedeb",
   "metadata": {},
   "outputs": [
    {
     "name": "stdout",
     "output_type": "stream",
     "text": [
      "1\n"
     ]
    }
   ],
   "source": [
    "# code\n",
    "L = [1,2,3,4,5]\n",
    "print(L.count(5))"
   ]
  },
  {
   "cell_type": "code",
   "execution_count": 69,
   "id": "4ad89497",
   "metadata": {},
   "outputs": [
    {
     "name": "stdout",
     "output_type": "stream",
     "text": [
      "4\n"
     ]
    }
   ],
   "source": [
    "# index\n",
    "L = [1,2,3,4,5]\n",
    "print(L.index(5))"
   ]
  },
  {
   "cell_type": "code",
   "execution_count": 70,
   "id": "b8918107",
   "metadata": {},
   "outputs": [
    {
     "name": "stdout",
     "output_type": "stream",
     "text": [
      "[5, 4, 3, 2, 1]\n"
     ]
    }
   ],
   "source": [
    "# reverse\n",
    "L = [1,2,3,4,5]\n",
    "# permanently reverse the list\n",
    "L.reverse()\n",
    "print(L)"
   ]
  },
  {
   "cell_type": "code",
   "execution_count": 72,
   "id": "cbfce605",
   "metadata": {},
   "outputs": [
    {
     "name": "stdout",
     "output_type": "stream",
     "text": [
      "[1, 2, 3, 4, 5, 0]\n",
      "[0, 1, 2, 3, 4, 5]\n",
      "[1, 2, 3, 4, 5, 0]\n",
      "[0, 1, 2, 3, 4, 5]\n"
     ]
    }
   ],
   "source": [
    "# sort vs sorted\n",
    "L = [1,2,3,4,5,0]\n",
    "print(L)\n",
    "print(sorted(L))\n",
    "print(L)\n",
    "L.sort()\n",
    "print(L)\n"
   ]
  },
  {
   "cell_type": "code",
   "execution_count": null,
   "id": "1ad7b588",
   "metadata": {},
   "outputs": [
    {
     "name": "stdout",
     "output_type": "stream",
     "text": [
      "[1, 2, 3, 4, 5]\n",
      "1715479989824\n",
      "<built-in method copy of list object at 0x0000018F6A934E40>\n",
      "1715480034016\n"
     ]
    }
   ],
   "source": [
    "# copy -> shallow\n",
    "L = [1,2,3,4,5]\n",
    "print(L)\n",
    "print(id(L))\n",
    "L1 = L.copy\n",
    "print(L1)\n",
    "print(id(L1))\n"
   ]
  },
  {
   "cell_type": "markdown",
   "id": "7e888db6",
   "metadata": {},
   "source": [
    "### List Comprehension\n",
    "List Comprehension provides a concise way of creating lists\n",
    "### newlist = [expression for item in iterable if condition == True]\n",
    "\n",
    "### Advantages of List Comprehension\n",
    "### . More time-efficient and space-efficient than loops\n",
    "### . Require fewer lines of code\n",
    "### . Transforms iterative statement into a formula"
   ]
  },
  {
   "cell_type": "code",
   "execution_count": null,
   "id": "9daedeaa",
   "metadata": {},
   "outputs": [
    {
     "name": "stdout",
     "output_type": "stream",
     "text": [
      "[1, 2, 3, 4, 5, 6, 7, 8, 9, 10]\n"
     ]
    }
   ],
   "source": [
    "# Add 1 to 10 numbers to a list\n",
    "L = []\n",
    "for i in range(1,11):\n",
    "    L.append(i)\n",
    "print(L)"
   ]
  },
  {
   "cell_type": "code",
   "execution_count": 86,
   "id": "84159fd1",
   "metadata": {},
   "outputs": [
    {
     "name": "stdout",
     "output_type": "stream",
     "text": [
      "[1, 2, 3, 4, 5, 6, 7, 8, 9, 10]\n"
     ]
    }
   ],
   "source": [
    "L = [i for i in range(1,11)]\n",
    "print(L)"
   ]
  },
  {
   "cell_type": "code",
   "execution_count": 85,
   "id": "f93e2360",
   "metadata": {},
   "outputs": [
    {
     "name": "stdout",
     "output_type": "stream",
     "text": [
      "[-6, -9, -12]\n"
     ]
    }
   ],
   "source": [
    "# scalar multiplication on a vector\n",
    "v = [2,3,4]\n",
    "s = -3\n",
    "m = [s*i for i in v]\n",
    "print(m)"
   ]
  },
  {
   "cell_type": "code",
   "execution_count": 84,
   "id": "22fb4b3a",
   "metadata": {},
   "outputs": [
    {
     "data": {
      "text/plain": [
       "[5, 10, 15, 20, 25, 30, 35, 40, 45, 50]"
      ]
     },
     "execution_count": 84,
     "metadata": {},
     "output_type": "execute_result"
    }
   ],
   "source": [
    "# print all numbers divisible by 5 in the range of 1 to 50\n",
    "\n",
    "[i for i in range(1,51) if i%5 == 0]"
   ]
  },
  {
   "cell_type": "code",
   "execution_count": 88,
   "id": "5e370563",
   "metadata": {},
   "outputs": [
    {
     "data": {
      "text/plain": [
       "['python', 'php']"
      ]
     },
     "execution_count": 88,
     "metadata": {},
     "output_type": "execute_result"
    }
   ],
   "source": [
    "# find languages which start with letter p\n",
    "languages = ['java','python','php','c','javascript']\n",
    "[i for i in languages if i.startswith('p') ]"
   ]
  },
  {
   "cell_type": "code",
   "execution_count": 89,
   "id": "605a83aa",
   "metadata": {},
   "outputs": [
    {
     "data": {
      "text/plain": [
       "['apple']"
      ]
     },
     "execution_count": 89,
     "metadata": {},
     "output_type": "execute_result"
    }
   ],
   "source": [
    "# Nested if with List Comprehension\n",
    "basket = ['apple','guava' ,'cherry','banana']\n",
    "my_fruits = ['apple','kiwi','grapes','banana']\n",
    "\n",
    "# add new list from my_fruits and items if th[e fruit exists in basket and also starts with 'a'\n",
    "[fruit for fruit in my_fruits if fruit in basket if fruit.startswith('a')]\n",
    "\n"
   ]
  },
  {
   "cell_type": "code",
   "execution_count": 90,
   "id": "366dbfbb",
   "metadata": {},
   "outputs": [
    {
     "data": {
      "text/plain": [
       "[[1, 2, 3], [2, 4, 6], [3, 6, 9]]"
      ]
     },
     "execution_count": 90,
     "metadata": {},
     "output_type": "execute_result"
    }
   ],
   "source": [
    "# print a (3,3)mmatrix using list comprehension -> Nested List comprehension\n",
    "[[i*j for i in range(1,4)] for j in range(1,4)]"
   ]
  },
  {
   "cell_type": "code",
   "execution_count": 91,
   "id": "0648b5ce",
   "metadata": {},
   "outputs": [
    {
     "data": {
      "text/plain": [
       "[5, 6, 7, 8, 10, 12, 14, 16, 15, 18, 21, 24, 20, 24, 28, 32]"
      ]
     },
     "execution_count": 91,
     "metadata": {},
     "output_type": "execute_result"
    }
   ],
   "source": [
    "# cartesian products ->list comprehension on 2 list  together\n",
    "L1 = [1,2,3,4]\n",
    "L2 = [5,6,7,8]\n",
    "\n",
    "[i*j for i in L1 for j in L2]"
   ]
  },
  {
   "cell_type": "markdown",
   "id": "0e12bbbf",
   "metadata": {},
   "source": [
    "### 2 ways to traverse a list\n",
    "### . itemwise\n",
    "### . indexwise"
   ]
  },
  {
   "cell_type": "code",
   "execution_count": 92,
   "id": "083e652d",
   "metadata": {},
   "outputs": [
    {
     "name": "stdout",
     "output_type": "stream",
     "text": [
      "1\n",
      "2\n",
      "3\n",
      "4\n",
      "5\n"
     ]
    }
   ],
   "source": [
    "# itemwise\n",
    "L = [1,2,3,4,5]\n",
    "\n",
    "for i in L:\n",
    "    print(i)"
   ]
  },
  {
   "cell_type": "code",
   "execution_count": 94,
   "id": "88b9742a",
   "metadata": {},
   "outputs": [
    {
     "name": "stdout",
     "output_type": "stream",
     "text": [
      "0\n",
      "1\n",
      "2\n",
      "3\n"
     ]
    }
   ],
   "source": [
    "# indexwise\n",
    "L = [1,2,3,4]\n",
    "\n",
    "for i in range(0,len(L)):\n",
    "    print(i)\n"
   ]
  },
  {
   "cell_type": "markdown",
   "id": "478cc24c",
   "metadata": {},
   "source": [
    "### Zip\n",
    "### The zip() function returns a zip object, which is an iterator of tuples where the first item in each passed iterator is paired together, and then second item in each passed iterator are paired together.\n",
    "\n",
    "### if the passed iterators have different lengths, the iterator with the least items decides the length of the new iterator"
   ]
  },
  {
   "cell_type": "code",
   "execution_count": 97,
   "id": "f64d788b",
   "metadata": {},
   "outputs": [
    {
     "data": {
      "text/plain": [
       "[0, 0, 0, 0]"
      ]
     },
     "execution_count": 97,
     "metadata": {},
     "output_type": "execute_result"
    }
   ],
   "source": [
    "# write a program to add items of 2 lists indexwise\n",
    "L1 = [1,2,3,4]\n",
    "L2 = [-1,-2,-3,-4]\n",
    "\n",
    "list(zip(L1,L2))\n",
    "[i+j for i,j in zip(L1,L2)]"
   ]
  },
  {
   "cell_type": "code",
   "execution_count": 98,
   "id": "9ebcc1d2",
   "metadata": {},
   "outputs": [
    {
     "name": "stdout",
     "output_type": "stream",
     "text": [
      "[1, 2, <built-in function print>, <class 'type'>, <bound method Kernel.raw_input of <ipykernel.ipkernel.IPythonKernel object at 0x0000018F68F33970>>]\n"
     ]
    }
   ],
   "source": [
    "L =  [1,2,print,type,input]\n",
    "print(L)"
   ]
  },
  {
   "cell_type": "markdown",
   "id": "a2bef440",
   "metadata": {},
   "source": [
    "### Disadvantages of python Lists\n",
    "### . slow\n",
    "### . Risky usage\n",
    "### . Eats up more memory"
   ]
  },
  {
   "cell_type": "markdown",
   "id": "5db84ae2",
   "metadata": {},
   "source": [
    "### lists program"
   ]
  }
 ],
 "metadata": {
  "kernelspec": {
   "display_name": "Python 3",
   "language": "python",
   "name": "python3"
  },
  "language_info": {
   "codemirror_mode": {
    "name": "ipython",
    "version": 3
   },
   "file_extension": ".py",
   "mimetype": "text/x-python",
   "name": "python",
   "nbconvert_exporter": "python",
   "pygments_lexer": "ipython3",
   "version": "3.9.9"
  }
 },
 "nbformat": 4,
 "nbformat_minor": 5
}
