{
 "cells": [
  {
   "cell_type": "markdown",
   "id": "636f278b",
   "metadata": {},
   "source": [
    "### Write OOP classes to handle the following scenarios:\n",
    "+ A user can crate and view 2D coordinates\n",
    "+ A user can find out the distance between 2 coordinates\n",
    "+ A user can find the distance of a coordinate from origin\n",
    "+ A user can check if a point lies on a given line \n",
    "+ A user can find the distance between a given 2D point and a given line"
   ]
  },
  {
   "cell_type": "code",
   "execution_count": 48,
   "id": "4d8c5dd0",
   "metadata": {},
   "outputs": [],
   "source": [
    "class Point:\n",
    "\n",
    "    def __init__(self,x,y):\n",
    "        self.x_cod = x\n",
    "        self.y_cod = y\n",
    "\n",
    "    def __str__(self):\n",
    "        return '<{},{}>'.format(self.x_cod,self.y_cod)\n",
    "\n",
    "    def euclidean_distance(self,other):\n",
    "        return ((self.x_cod - other.x_cod)**2 + (self.y_cod - other.y_cod)**2)**0.5\n",
    "\n",
    "    def distance_from_origin(self):\n",
    "        return self.euclidean_distance(Point(0,0))\n",
    "\n",
    "\n",
    "class Line():\n",
    "\n",
    "    def __init__(self,A,B,C):\n",
    "        self.A_line = A\n",
    "        self.B_line = B\n",
    "        self.C_line = C\n",
    "\n",
    "\n",
    "    def __str__(self):\n",
    "        return '{}x+{}y+{} = 0 '.format(self.A_line,self.B_line,self.C_line)\n",
    "\n",
    "    def point_on_line(line,point):\n",
    "\n",
    "        if line.A_line*point.x_cod+line.B_line*point.y_cod+line.C_line == 0 :\n",
    "            return \"lies on the line\"\n",
    "        else:\n",
    "            return \"does not lie on the line\"\n",
    "\n",
    "    def shortest_distance(line,point):\n",
    "       return  abs(line.A_line*point.x_cod+line.B_line*point.y_cod+line.C_line)/(line.A_line**2+line.B_line**2)**0.5\n",
    "        "
   ]
  },
  {
   "cell_type": "code",
   "execution_count": 46,
   "id": "86db1128",
   "metadata": {},
   "outputs": [
    {
     "data": {
      "text/plain": [
       "3.605551275463989"
      ]
     },
     "execution_count": 46,
     "metadata": {},
     "output_type": "execute_result"
    }
   ],
   "source": [
    "p1 = Point(2,3)\n",
    "p2 = Point(-2,4)\n",
    "p1.euclidean_distance(p2)\n",
    "p1.distance_from_origin()"
   ]
  },
  {
   "cell_type": "code",
   "execution_count": 49,
   "id": "b7a78ed4",
   "metadata": {},
   "outputs": [
    {
     "name": "stdout",
     "output_type": "stream",
     "text": [
      "<1,1>\n",
      "1x+1y+-2 = 0 \n"
     ]
    },
    {
     "data": {
      "text/plain": [
       "0.0"
      ]
     },
     "execution_count": 49,
     "metadata": {},
     "output_type": "execute_result"
    }
   ],
   "source": [
    "l1 = Line(1,1,-2)\n",
    "p1 = Point(1,1)\n",
    "print(p1)\n",
    "print(l1)\n",
    "\n",
    "l1.shortest_distance(p1)"
   ]
  },
  {
   "cell_type": "markdown",
   "id": "3dd9565c",
   "metadata": {},
   "source": [
    "### How objects access attributes"
   ]
  },
  {
   "cell_type": "code",
   "execution_count": 61,
   "id": "c57009f5",
   "metadata": {},
   "outputs": [],
   "source": [
    "class Person:\n",
    "\n",
    "    def __init__(self,name,country):\n",
    "        self.name = name\n",
    "        self.country = country\n",
    "\n",
    "\n",
    "    def greet(self):\n",
    "        if self.country == 'india':\n",
    "            print('Namaste',self.name)\n",
    "        else:\n",
    "            print('Hello',self.name)\n",
    "            \n"
   ]
  },
  {
   "cell_type": "code",
   "execution_count": 62,
   "id": "4d02e910",
   "metadata": {},
   "outputs": [
    {
     "name": "stdout",
     "output_type": "stream",
     "text": [
      "nitin\n",
      "india\n"
     ]
    }
   ],
   "source": [
    "# How to access attributes\n",
    "n1 = Person('nitin','india')\n",
    "print(n1.name)\n",
    "print(n1.country)"
   ]
  },
  {
   "cell_type": "code",
   "execution_count": 63,
   "id": "d1b91ff2",
   "metadata": {},
   "outputs": [
    {
     "name": "stdout",
     "output_type": "stream",
     "text": [
      "Namaste nitin\n"
     ]
    }
   ],
   "source": [
    "# How to access methods\n",
    "n1.greet()"
   ]
  },
  {
   "cell_type": "code",
   "execution_count": 64,
   "id": "340ef298",
   "metadata": {},
   "outputs": [
    {
     "ename": "AttributeError",
     "evalue": "'Person' object has no attribute 'gender'",
     "output_type": "error",
     "traceback": [
      "\u001b[1;31m---------------------------------------------------------------------------\u001b[0m",
      "\u001b[1;31mAttributeError\u001b[0m                            Traceback (most recent call last)",
      "Cell \u001b[1;32mIn[64], line 2\u001b[0m\n\u001b[0;32m      1\u001b[0m \u001b[38;5;66;03m# what if i try to access non-existent attributes\u001b[39;00m\n\u001b[1;32m----> 2\u001b[0m \u001b[43mn1\u001b[49m\u001b[38;5;241;43m.\u001b[39;49m\u001b[43mgender\u001b[49m()\n",
      "\u001b[1;31mAttributeError\u001b[0m: 'Person' object has no attribute 'gender'"
     ]
    }
   ],
   "source": [
    "# what if i try to access non-existent attributes\n",
    "n1.gender()"
   ]
  },
  {
   "cell_type": "markdown",
   "id": "131477cb",
   "metadata": {},
   "source": [
    "### Attribute creation from outside of the class"
   ]
  },
  {
   "cell_type": "code",
   "execution_count": 65,
   "id": "4026acab",
   "metadata": {},
   "outputs": [],
   "source": [
    "n1.gender = 'male'"
   ]
  },
  {
   "cell_type": "code",
   "execution_count": 66,
   "id": "1aba8603",
   "metadata": {},
   "outputs": [
    {
     "data": {
      "text/plain": [
       "'male'"
      ]
     },
     "execution_count": 66,
     "metadata": {},
     "output_type": "execute_result"
    }
   ],
   "source": [
    "n1.gender"
   ]
  },
  {
   "cell_type": "markdown",
   "id": "815f5f14",
   "metadata": {},
   "source": [
    "### Reference Variables\n",
    "\n",
    "- Reference variables hold the objects\n",
    "- We can create objects without reference variable as well\n",
    "- An object can have multiple reference variables\n",
    "- Assigning a new reference variable to an existing object does not create a new object"
   ]
  },
  {
   "cell_type": "code",
   "execution_count": null,
   "id": "05c5505e",
   "metadata": {},
   "outputs": [],
   "source": [
    "# object without a reference\n",
    "class Person:\n",
    "\n",
    "    def __init__(self):\n",
    "        self.name = 'nitin'\n",
    "        self.country = 'male'\n",
    "\n",
    "P = Person()\n",
    "q = P\n"
   ]
  },
  {
   "cell_type": "code",
   "execution_count": 76,
   "id": "373779bd",
   "metadata": {},
   "outputs": [
    {
     "name": "stdout",
     "output_type": "stream",
     "text": [
      "2315615103344\n",
      "2315615103344\n"
     ]
    }
   ],
   "source": [
    "print(id(P))\n",
    "print(id(q))"
   ]
  },
  {
   "cell_type": "code",
   "execution_count": 78,
   "id": "0c961b30",
   "metadata": {},
   "outputs": [
    {
     "name": "stdout",
     "output_type": "stream",
     "text": [
      "nitin\n",
      "nitin\n",
      "rohit\n",
      "rohit\n"
     ]
    }
   ],
   "source": [
    "# change attribute value with the help of 2nd object\n",
    "print(P.name)\n",
    "print(q.name)\n",
    "q.name = 'rohit'\n",
    "print(P.name)\n",
    "print(q.name)"
   ]
  },
  {
   "cell_type": "markdown",
   "id": "5fdb7468",
   "metadata": {},
   "source": [
    "### Pass by reference"
   ]
  },
  {
   "cell_type": "code",
   "execution_count": 91,
   "id": "9ae820e5",
   "metadata": {},
   "outputs": [],
   "source": [
    "class Person:\n",
    "\n",
    "    def __init__(self,name,gender):\n",
    "        self.name = name\n",
    "        self.gender = gender\n",
    "\n",
    "\n",
    "    def greet(person):\n",
    "        print('Hi, MY name is ',person.name,'i am a ',person.gender)\n",
    "        p1 = Person('ankit','male')\n",
    "        return p1\n",
    "\n",
    "p = Person('Nitin','Male')\n"
   ]
  },
  {
   "cell_type": "code",
   "execution_count": null,
   "id": "ab77d107",
   "metadata": {},
   "outputs": [
    {
     "name": "stdout",
     "output_type": "stream",
     "text": [
      "Hi, MY name is  Nitin i am a  Male\n",
      "ankit\n",
      "male\n"
     ]
    }
   ],
   "source": [
    "x = p.greet()\n",
    "print(x.name)\n",
    "print(x.gender)"
   ]
  },
  {
   "cell_type": "code",
   "execution_count": null,
   "id": "775a22b8",
   "metadata": {},
   "outputs": [
    {
     "name": "stdout",
     "output_type": "stream",
     "text": [
      "1304447643168\n",
      "1304447643168\n",
      "ankit\n",
      "ankit\n"
     ]
    }
   ],
   "source": [
    "class Person:\n",
    "\n",
    "    def __init__(self,name,gender):\n",
    "        self.name = name\n",
    "        self.gender = gender\n",
    "\n",
    "\n",
    "    def greet(person):\n",
    "        print(id(person))\n",
    "        person.name = 'ankit'\n",
    "        print(person.name)\n",
    "       \n",
    "\n",
    "p = Person('Nitin','Male')\n",
    "print(id(p))\n",
    "p.greet()\n",
    "print(p.name)"
   ]
  },
  {
   "cell_type": "markdown",
   "id": "c2986052",
   "metadata": {},
   "source": [
    "### Object ki mutability"
   ]
  },
  {
   "cell_type": "code",
   "execution_count": 8,
   "id": "4a26541a",
   "metadata": {},
   "outputs": [
    {
     "name": "stdout",
     "output_type": "stream",
     "text": [
      "1304448578800\n",
      "1304448578800\n",
      "1304448578800\n"
     ]
    }
   ],
   "source": [
    "class Person:\n",
    "\n",
    "    def __init__(self,name,gender):\n",
    "        self.name = name\n",
    "        self.gender = gender\n",
    "\n",
    "\n",
    "    def greet(person):\n",
    "        print(id(person))\n",
    "        person.name = 'ankit'\n",
    "        return person\n",
    "       \n",
    "\n",
    "p = Person('Nitin','Male')\n",
    "print(id(p))\n",
    "p1 = p.greet()\n",
    "print(id(p1))"
   ]
  },
  {
   "cell_type": "markdown",
   "id": "27c59455",
   "metadata": {},
   "source": [
    "### Encapsulation"
   ]
  },
  {
   "cell_type": "code",
   "execution_count": 9,
   "id": "7083a535",
   "metadata": {},
   "outputs": [],
   "source": [
    "# instance var -> python tutor\n",
    "class Person:\n",
    "\n",
    "    def __init__(self,name_input,country_input):\n",
    "        self.name = name_input\n",
    "        self.country = country_input\n",
    "\n",
    "p1 = Person('nitin','india')\n",
    "p2 = Person('george','London')"
   ]
  },
  {
   "cell_type": "code",
   "execution_count": 11,
   "id": "7971be73",
   "metadata": {},
   "outputs": [
    {
     "data": {
      "text/plain": [
       "'george'"
      ]
     },
     "execution_count": 11,
     "metadata": {},
     "output_type": "execute_result"
    }
   ],
   "source": [
    "p1.name\n",
    "p2.name"
   ]
  },
  {
   "cell_type": "code",
   "execution_count": 24,
   "id": "b1993a11",
   "metadata": {},
   "outputs": [],
   "source": [
    "# ATM Machine code\n",
    "# Class name should be in pascal case HelloWorld\n",
    "# user defined class\n",
    "class Atm:\n",
    "\n",
    "    def __init__(self): # constructor(special function) \n",
    "        print(id(self))\n",
    "        self.pin = ''\n",
    "        self.__balance = 0\n",
    "        \n",
    "\n",
    "    def get_balance(self):\n",
    "        return self.__balance\n",
    "    \n",
    "    def set_balance(self, new_value):\n",
    "        if type(new_value) == int:\n",
    "            self.__balance = new_value\n",
    "        else:\n",
    "            print('beta boht maarenge')\n",
    "\n",
    "\n",
    "    def menu(self):\n",
    "        user_input = input(\"\"\"\n",
    "        Hi how can i help you?\n",
    "        1. Press 1 to create pin\n",
    "        2. Press 2 to change pin\n",
    "        3. press 3 to check balance\n",
    "        4. press 4 to  withdraw\n",
    "        5. Anything else to exit\n",
    "        \"\"\")\n",
    "\n",
    "\n",
    "        if user_input == '1':\n",
    "            self.create_pin()\n",
    "        elif user_input == '2':\n",
    "            self.change_pin()\n",
    "        elif user_input == '3':\n",
    "            self.check_bal()\n",
    "        elif user_input == '4':\n",
    "            self.withdraw()\n",
    "        else:\n",
    "            exit()\n",
    "\n",
    "    def create_pin(self):\n",
    "        user_pin = input('enter your pin')\n",
    "        self.pin = user_pin\n",
    "\n",
    "        user_balance = int(input('Enter your balance'))\n",
    "        self.__balance = user_balance\n",
    "\n",
    "        print('Pin created successfully')\n",
    "        # self.menu()\n",
    "\n",
    "\n",
    "    def change_pin(self):\n",
    "        previous_pin = input('enter your previous pin')\n",
    "        if previous_pin == self.pin:\n",
    "            new_pin = input('enter your new pin')\n",
    "            self.pin = new_pin\n",
    "            print(\"Pin change successful\")\n",
    "            self.menu()\n",
    "        else:\n",
    "            print('Invalid pin')\n",
    "            self.menu()\n",
    "\n",
    "    def check_bal(self):\n",
    "        pin = input(\"Enter the pin\")\n",
    "        if pin == self.pin:\n",
    "            print('Your balance is',self.__balance)\n",
    "            self.menu()\n",
    "        else:\n",
    "            print('Incorrect pin')\n",
    "            self.menu()\n",
    "\n",
    "\n",
    "    def withdraw(self):\n",
    "        pin = input('Enter your pin')\n",
    "        \n",
    "        if pin == self.pin:\n",
    "            amount = int(input('Enter the ammount'))\n",
    "            if amount <= self.balance:\n",
    "                self.__balance = self.balance-amount\n",
    "                print(\"withdraw successful, balance is\",new_balance)\n",
    "            else:\n",
    "                print('insufficent balance')\n",
    "                # self.menu()\n",
    "        else:\n",
    "            print('Incorrect pin')\n",
    "            self.menu()"
   ]
  },
  {
   "cell_type": "code",
   "execution_count": 25,
   "id": "68865037",
   "metadata": {},
   "outputs": [
    {
     "name": "stdout",
     "output_type": "stream",
     "text": [
      "1925459530224\n"
     ]
    }
   ],
   "source": [
    "obj = Atm()"
   ]
  },
  {
   "cell_type": "code",
   "execution_count": 28,
   "id": "ec65fb3e",
   "metadata": {},
   "outputs": [
    {
     "data": {
      "text/plain": [
       "0"
      ]
     },
     "execution_count": 28,
     "metadata": {},
     "output_type": "execute_result"
    }
   ],
   "source": [
    "obj.get_balance()"
   ]
  },
  {
   "cell_type": "code",
   "execution_count": 27,
   "id": "9e6fb22f",
   "metadata": {},
   "outputs": [
    {
     "name": "stdout",
     "output_type": "stream",
     "text": [
      "beta boht maarenge\n"
     ]
    }
   ],
   "source": [
    "obj.set_balance('hehe')"
   ]
  },
  {
   "cell_type": "code",
   "execution_count": 6,
   "id": "30895d48",
   "metadata": {},
   "outputs": [
    {
     "name": "stdout",
     "output_type": "stream",
     "text": [
      "Pin created successfully\n"
     ]
    }
   ],
   "source": [
    "obj.create_pin()\n",
    "obj.balance = 'hehehe'"
   ]
  },
  {
   "cell_type": "code",
   "execution_count": 9,
   "id": "e6f2de95",
   "metadata": {},
   "outputs": [
    {
     "name": "stdout",
     "output_type": "stream",
     "text": [
      "Pin created successfully\n"
     ]
    }
   ],
   "source": [
    "obj.create_pin()\n",
    "obj.Atm__balance = 'heheh'"
   ]
  },
  {
   "cell_type": "code",
   "execution_count": 30,
   "id": "1265ecd7",
   "metadata": {},
   "outputs": [
    {
     "ename": "AttributeError",
     "evalue": "'Atm' object has no attribute 'balance'",
     "output_type": "error",
     "traceback": [
      "\u001b[1;31m---------------------------------------------------------------------------\u001b[0m",
      "\u001b[1;31mAttributeError\u001b[0m                            Traceback (most recent call last)",
      "Cell \u001b[1;32mIn[30], line 1\u001b[0m\n\u001b[1;32m----> 1\u001b[0m \u001b[43mobj\u001b[49m\u001b[38;5;241;43m.\u001b[39;49m\u001b[43mwithdraw\u001b[49m\u001b[43m(\u001b[49m\u001b[43m)\u001b[49m\n",
      "Cell \u001b[1;32mIn[24], line 81\u001b[0m, in \u001b[0;36mAtm.withdraw\u001b[1;34m(self)\u001b[0m\n\u001b[0;32m     79\u001b[0m \u001b[38;5;28;01mif\u001b[39;00m pin \u001b[38;5;241m==\u001b[39m \u001b[38;5;28mself\u001b[39m\u001b[38;5;241m.\u001b[39mpin:\n\u001b[0;32m     80\u001b[0m     amount \u001b[38;5;241m=\u001b[39m \u001b[38;5;28mint\u001b[39m(\u001b[38;5;28minput\u001b[39m(\u001b[38;5;124m'\u001b[39m\u001b[38;5;124mEnter the ammount\u001b[39m\u001b[38;5;124m'\u001b[39m))\n\u001b[1;32m---> 81\u001b[0m     \u001b[38;5;28;01mif\u001b[39;00m amount \u001b[38;5;241m<\u001b[39m\u001b[38;5;241m=\u001b[39m \u001b[38;5;28;43mself\u001b[39;49m\u001b[38;5;241;43m.\u001b[39;49m\u001b[43mbalance\u001b[49m:\n\u001b[0;32m     82\u001b[0m         \u001b[38;5;28mself\u001b[39m\u001b[38;5;241m.\u001b[39m__balance \u001b[38;5;241m=\u001b[39m \u001b[38;5;28mself\u001b[39m\u001b[38;5;241m.\u001b[39mbalance\u001b[38;5;241m-\u001b[39mamount\n\u001b[0;32m     83\u001b[0m         \u001b[38;5;28mprint\u001b[39m(\u001b[38;5;124m\"\u001b[39m\u001b[38;5;124mwithdraw successful, balance is\u001b[39m\u001b[38;5;124m\"\u001b[39m,new_balance)\n",
      "\u001b[1;31mAttributeError\u001b[0m: 'Atm' object has no attribute 'balance'"
     ]
    }
   ],
   "source": [
    "obj.withdraw()"
   ]
  },
  {
   "cell_type": "markdown",
   "id": "25629af6",
   "metadata": {},
   "source": [
    "### Collection of objects"
   ]
  },
  {
   "cell_type": "code",
   "execution_count": 39,
   "id": "578fc5d2",
   "metadata": {},
   "outputs": [
    {
     "name": "stdout",
     "output_type": "stream",
     "text": [
      "nitin\n",
      "ankit\n",
      "ankita\n"
     ]
    }
   ],
   "source": [
    "# list of objects\n",
    "class Person:\n",
    "    \n",
    "    def __init__(self,name,gender):\n",
    "        self.name = name\n",
    "        self.gender = gender\n",
    "\n",
    "p1 = Person('nitin','male')\n",
    "p2 = Person('ankit','male')\n",
    "p3 = Person('ankita','female')\n",
    "\n",
    "L = [p1,p2,p3]\n",
    "d = {'p1':p1,'p2':p2,'p3':p3}\n",
    "\n",
    "for i in d:\n",
    "    print(d[i].name)"
   ]
  },
  {
   "cell_type": "markdown",
   "id": "d66ea326",
   "metadata": {},
   "source": [
    "### Static Variables(class ka variable)(Vs instance variables)(object ka variable)"
   ]
  },
  {
   "cell_type": "code",
   "execution_count": null,
   "id": "634b01e1",
   "metadata": {},
   "outputs": [],
   "source": [
    "# ATM Machine code\n",
    "# Class name should be in pascal case HelloWorld\n",
    "# user defined class\n",
    "class Atm:\n",
    "\n",
    "    __counter = 1\n",
    "\n",
    "    def __init__(self): # constructor(special function) \n",
    "        print(id(self))\n",
    "        self.pin = ''\n",
    "        self.__balance = 0\n",
    "        self.cid=Atm.__counter\n",
    "        Atm.__counter = Atm.__counter + 1\n",
    "\n",
    "    @staticmethod  # utility functions\n",
    "    def get_counter():\n",
    "        return Atm.__counter\n",
    "        \n",
    "\n",
    "    def get_balance(self):\n",
    "        return self.__balance\n",
    "    \n",
    "    def set_balance(self, new_value):\n",
    "        if type(new_value) == int:\n",
    "            self.__balance = new_value\n",
    "        else:\n",
    "            print('beta boht maarenge')\n",
    "\n",
    "\n",
    "    def menu(self):\n",
    "        user_input = input(\"\"\"\n",
    "        Hi how can i help you?\n",
    "        1. Press 1 to create pin\n",
    "        2. Press 2 to change pin\n",
    "        3. press 3 to check balance\n",
    "        4. press 4 to  withdraw\n",
    "        5. Anything else to exit\n",
    "        \"\"\")\n",
    "\n",
    "\n",
    "        if user_input == '1':\n",
    "            self.create_pin()\n",
    "        elif user_input == '2':\n",
    "            self.change_pin()\n",
    "        elif user_input == '3':\n",
    "            self.check_bal()\n",
    "        elif user_input == '4':\n",
    "            self.withdraw()\n",
    "        else:\n",
    "            exit()\n",
    "\n",
    "    def create_pin(self):\n",
    "        user_pin = input('enter your pin')\n",
    "        self.pin = user_pin\n",
    "\n",
    "        user_balance = int(input('Enter your balance'))\n",
    "        self.__balance = user_balance\n",
    "\n",
    "        print('Pin created successfully')\n",
    "        # self.menu()\n",
    "\n",
    "\n",
    "    def change_pin(self):\n",
    "        previous_pin = input('enter your previous pin')\n",
    "        if previous_pin == self.pin:\n",
    "            new_pin = input('enter your new pin')\n",
    "            self.pin = new_pin\n",
    "            print(\"Pin change successful\")\n",
    "            self.menu()\n",
    "        else:\n",
    "            print('Invalid pin')\n",
    "            self.menu()\n",
    "\n",
    "    def check_bal(self):\n",
    "        pin = input(\"Enter the pin\")\n",
    "        if pin == self.pin:\n",
    "            print('Your balance is',self.__balance)\n",
    "            self.menu()\n",
    "        else:\n",
    "            print('Incorrect pin')\n",
    "            self.menu()\n",
    "\n",
    "\n",
    "    def withdraw(self):\n",
    "        pin = input('Enter your pin')\n",
    "        \n",
    "        if pin == self.pin:\n",
    "            amount = int(input('Enter the ammount'))\n",
    "            if amount <= self.balance:\n",
    "                self.__balance = self.balance-amount\n",
    "                print(\"withdraw successful, balance is\",new_balance)\n",
    "            else:\n",
    "                print('insufficent balance')\n",
    "                # self.menu()\n",
    "        else:\n",
    "            print('Incorrect pin')\n",
    "            self.menu()"
   ]
  },
  {
   "cell_type": "code",
   "execution_count": 60,
   "id": "1c571a19",
   "metadata": {},
   "outputs": [
    {
     "name": "stdout",
     "output_type": "stream",
     "text": [
      "1925459745856\n"
     ]
    }
   ],
   "source": [
    "c1 = Atm()"
   ]
  },
  {
   "cell_type": "code",
   "execution_count": 63,
   "id": "ab51e7ab",
   "metadata": {},
   "outputs": [
    {
     "data": {
      "text/plain": [
       "2"
      ]
     },
     "execution_count": 63,
     "metadata": {},
     "output_type": "execute_result"
    }
   ],
   "source": [
    "Atm.get_counter()"
   ]
  },
  {
   "cell_type": "code",
   "execution_count": 51,
   "id": "a0e5ef38",
   "metadata": {},
   "outputs": [
    {
     "name": "stdout",
     "output_type": "stream",
     "text": [
      "1925464410624\n"
     ]
    }
   ],
   "source": [
    "c2 = Atm()"
   ]
  },
  {
   "cell_type": "code",
   "execution_count": 52,
   "id": "eeab6504",
   "metadata": {},
   "outputs": [
    {
     "name": "stdout",
     "output_type": "stream",
     "text": [
      "1925464410288\n"
     ]
    }
   ],
   "source": [
    "c3 = Atm()"
   ]
  },
  {
   "cell_type": "code",
   "execution_count": 55,
   "id": "831f1610",
   "metadata": {},
   "outputs": [
    {
     "data": {
      "text/plain": [
       "1"
      ]
     },
     "execution_count": 55,
     "metadata": {},
     "output_type": "execute_result"
    }
   ],
   "source": [
    "c1.cid"
   ]
  },
  {
   "cell_type": "code",
   "execution_count": 56,
   "id": "fadf18f7",
   "metadata": {},
   "outputs": [
    {
     "data": {
      "text/plain": [
       "4"
      ]
     },
     "execution_count": 56,
     "metadata": {},
     "output_type": "execute_result"
    }
   ],
   "source": [
    "Atm.counter"
   ]
  }
 ],
 "metadata": {
  "kernelspec": {
   "display_name": "Python 3",
   "language": "python",
   "name": "python3"
  },
  "language_info": {
   "codemirror_mode": {
    "name": "ipython",
    "version": 3
   },
   "file_extension": ".py",
   "mimetype": "text/x-python",
   "name": "python",
   "nbconvert_exporter": "python",
   "pygments_lexer": "ipython3",
   "version": "3.9.9"
  }
 },
 "nbformat": 4,
 "nbformat_minor": 5
}
