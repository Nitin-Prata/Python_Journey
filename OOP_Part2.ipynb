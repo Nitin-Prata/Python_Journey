{
 "cells": [
  {
   "cell_type": "markdown",
   "id": "636f278b",
   "metadata": {},
   "source": [
    "### Write OOP classes to handle the following scenarios:\n",
    "+ A user can crate and view 2D coordinates\n",
    "+ A user can find out the distance between 2 coordinates\n",
    "+ A user can find the distance of a coordinate from origin\n",
    "+ A user can check if a point lies on a given line \n",
    "+ A user can find the distance between a given 2D point and a given line"
   ]
  },
  {
   "cell_type": "code",
   "execution_count": 48,
   "id": "4d8c5dd0",
   "metadata": {},
   "outputs": [],
   "source": [
    "class Point:\n",
    "\n",
    "    def __init__(self,x,y):\n",
    "        self.x_cod = x\n",
    "        self.y_cod = y\n",
    "\n",
    "    def __str__(self):\n",
    "        return '<{},{}>'.format(self.x_cod,self.y_cod)\n",
    "\n",
    "    def euclidean_distance(self,other):\n",
    "        return ((self.x_cod - other.x_cod)**2 + (self.y_cod - other.y_cod)**2)**0.5\n",
    "\n",
    "    def distance_from_origin(self):\n",
    "        return self.euclidean_distance(Point(0,0))\n",
    "\n",
    "\n",
    "class Line():\n",
    "\n",
    "    def __init__(self,A,B,C):\n",
    "        self.A_line = A\n",
    "        self.B_line = B\n",
    "        self.C_line = C\n",
    "\n",
    "\n",
    "    def __str__(self):\n",
    "        return '{}x+{}y+{} = 0 '.format(self.A_line,self.B_line,self.C_line)\n",
    "\n",
    "    def point_on_line(line,point):\n",
    "\n",
    "        if line.A_line*point.x_cod+line.B_line*point.y_cod+line.C_line == 0 :\n",
    "            return \"lies on the line\"\n",
    "        else:\n",
    "            return \"does not lie on the line\"\n",
    "\n",
    "    def shortest_distance(line,point):\n",
    "       return  abs(line.A_line*point.x_cod+line.B_line*point.y_cod+line.C_line)/(line.A_line**2+line.B_line**2)**0.5\n",
    "        "
   ]
  },
  {
   "cell_type": "code",
   "execution_count": 46,
   "id": "86db1128",
   "metadata": {},
   "outputs": [
    {
     "data": {
      "text/plain": [
       "3.605551275463989"
      ]
     },
     "execution_count": 46,
     "metadata": {},
     "output_type": "execute_result"
    }
   ],
   "source": [
    "p1 = Point(2,3)\n",
    "p2 = Point(-2,4)\n",
    "p1.euclidean_distance(p2)\n",
    "p1.distance_from_origin()"
   ]
  },
  {
   "cell_type": "code",
   "execution_count": 49,
   "id": "b7a78ed4",
   "metadata": {},
   "outputs": [
    {
     "name": "stdout",
     "output_type": "stream",
     "text": [
      "<1,1>\n",
      "1x+1y+-2 = 0 \n"
     ]
    },
    {
     "data": {
      "text/plain": [
       "0.0"
      ]
     },
     "execution_count": 49,
     "metadata": {},
     "output_type": "execute_result"
    }
   ],
   "source": [
    "l1 = Line(1,1,-2)\n",
    "p1 = Point(1,1)\n",
    "print(p1)\n",
    "print(l1)\n",
    "\n",
    "l1.shortest_distance(p1)"
   ]
  }
 ],
 "metadata": {
  "kernelspec": {
   "display_name": "Python 3",
   "language": "python",
   "name": "python3"
  },
  "language_info": {
   "codemirror_mode": {
    "name": "ipython",
    "version": 3
   },
   "file_extension": ".py",
   "mimetype": "text/x-python",
   "name": "python",
   "nbconvert_exporter": "python",
   "pygments_lexer": "ipython3",
   "version": "3.9.9"
  }
 },
 "nbformat": 4,
 "nbformat_minor": 5
}
